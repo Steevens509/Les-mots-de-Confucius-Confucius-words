{
 "cells": [
  {
   "cell_type": "code",
   "execution_count": 8,
   "metadata": {},
   "outputs": [
    {
     "name": "stderr",
     "output_type": "stream",
     "text": [
      "[nltk_data] Downloading package stopwords to\n",
      "[nltk_data]     /home/matriceecole/nltk_data...\n",
      "[nltk_data]   Package stopwords is already up-to-date!\n"
     ]
    },
    {
     "data": {
      "text/plain": [
       "3144"
      ]
     },
     "execution_count": 8,
     "metadata": {},
     "output_type": "execute_result"
    }
   ],
   "source": [
    "import matplotlib.pyplot as plt\n",
    "from collections import Counter\n",
    "import nltk\n",
    "\n",
    "# Télécharger les stopwords anglais\n",
    "nltk.download('stopwords')\n",
    "from nltk.corpus import stopwords\n",
    "\n",
    "# Charger le texte à partir du fichier readme.txt\n",
    "with open('the_says_of_Confucius.txt', 'r') as file:\n",
    "    texte = file.read()\n",
    "\n",
    "# Nettoyer le texte en supprimant la ponctuation et les caractères spéciaux\n",
    "texte_nettoyage = ''.join(c for c in texte if c.isalnum() or c.isspace())\n",
    "\n",
    "# Tokenizer le texte en mots\n",
    "mots = texte_nettoyage.split()\n",
    "\n",
    "# Enlever les mots vides (stopwords) anglais\n",
    "stopwords = set(stopwords.words('english'))\n",
    "mots = [mot for mot in mots if mot.lower() not in stopwords]\n",
    "\n",
    "# # Obtenir la liste des 10 mots les plus fréquents\n",
    "# frequences = Counter(mots)\n",
    "# top_mots = dict(frequences.most_common(10))\n",
    "\n",
    "# # Générer le graphique camembert\n",
    "# plt.pie(top_mots.values(), labels=top_mots.keys())\n",
    "# plt.title('10 mots les plus fréquents dans le fichier readme.txt')\n",
    "# plt.axis('equal')\n",
    "# plt.show()\n",
    "len(set(mots))"
   ]
  },
  {
   "attachments": {},
   "cell_type": "markdown",
   "metadata": {},
   "source": [
    "ANALYSONS LE TEXTE DE CONCIUS : The says of confucius"
   ]
  },
  {
   "attachments": {},
   "cell_type": "markdown",
   "metadata": {},
   "source": [
    "On lit le texte du livre de Confucius dans une cellule"
   ]
  },
  {
   "cell_type": "code",
   "execution_count": 9,
   "metadata": {},
   "outputs": [
    {
     "data": {
      "text/plain": [
       "str"
      ]
     },
     "execution_count": 9,
     "metadata": {},
     "output_type": "execute_result"
    }
   ],
   "source": [
    "# Ouverture et lecture du texe \n",
    "\n",
    "with open(\"the_says_of_Confucius.txt\",'r') as t:\n",
    "    Text = t.read()\n",
    "\n",
    "\n",
    "Text\n",
    "# len(set(Text_brut))\n",
    "type(Text)"
   ]
  },
  {
   "cell_type": "code",
   "execution_count": 10,
   "metadata": {},
   "outputs": [
    {
     "data": {
      "text/plain": [
       "str"
      ]
     },
     "execution_count": 10,
     "metadata": {},
     "output_type": "execute_result"
    }
   ],
   "source": [
    "Text = (Text).replace('\\n',\" \")\n",
    "\n",
    "type(Text)\n",
    "# len(set(Text_brut))\n"
   ]
  },
  {
   "cell_type": "code",
   "execution_count": 11,
   "metadata": {},
   "outputs": [
    {
     "data": {
      "text/plain": [
       "'THE SAYINGS OF CONFUCIUS  BOOK I   1 The Master said To learn and then do is not that a pleasure When friends come from afar do we not rejoice To live unknown and not fret is not that to be a gentleman  2 Yutzu2 said Few men that are good sons and good brothers are fond of withstanding those over them A man that is not fond of withstanding those over him and is yet fond of broils is nowhere found A gentleman heeds the roots When the root has taken the Way is born And to be a good son and a good brother is not that the root of love  Footnote 2 A disciple  3 The Master said Smooth words and fawning looks are seldom found with love  4 Tsengtzu3 said Thrice daily I ask myself In dealing for others have I been unfaithful Have I been untrue to friends Do I practise what I preach  Footnote 3 A disciple  5 The Master said To guide a land of a thousand chariots honour business and be true spend little and love men time thy calls on the people  6 The Master said The young should be dutiful at home modest abroad careful and true overflowing in kindness for all but in brotherhood with love And if they have strength to spare they should spend it on the arts  7 Tzuhsia3 said If a man eschews beauty and honours worth if he serves his father and mother with all his strength if he is ready to give his life for his lord and keeps faith with his friends though others may say he has no learning I must call him learned  8 The Master said A gentleman will not be looked up to unless he is staid nor will his learning be sound Put faithfulness and truth first have no friends unlike thyself be not ashamed to mend thy faults  9 Tsengtzu4 said Heed the dead follow up the past and the soul of the people will again grow great  Footnote 4 A disciple  10 Tzuchin5 said to Tzukung6 When he comes to a country the Master always hears how it is governed does he ask or is it told him  Footnote 5 A disciple  Footnote 6 A disciple  Tzukung said The Master gets it by his warmth and honesty by politeness modesty and yielding The way the Master asks is unlike other mens asking  11 The Master said Whilst thy father lives look for his purpose when he is gone look how he walked To change nothing in thy fathers ways for three years may be called pious  12 Yutzu7 said To behave with ease is the best part of courtesy This was the beauty of the old kings ways this they followed in small and great But knowing this it will not do to give way to ease unchecked by courtesy This too is wrong  Footnote 7 A disciple  13 Yutzu said If pledges are close to right word can be kept If attentions are close to courtesy shame will be kept far If we do not choose our leaders wrong we may worship them too  14 The Master said A gentleman that does not seek to eat his fill nor look for ease in his home who is earnest at work and careful of speech who walks with those that keep the Way and is guided by them may be said to love learning  15 Tzukung8 said Poor but no flatterer rich but not proud how would that be  Footnote 8 A disciple  It would do said the Master but better still were poor but merry rich but loving courtesy  Tzukung said When the poem says      If ye cut if ye file       If ye polish and grind  is that what is meant  The Master said Now I can begin to talk of poetry to Tzu Tell him what is gone and he knows what shall come  16 The Master said Not to be known is no sorrow My sorrow is not knowing men     BOOK II   1 The Master said He that rules by mind is like the north star steady in his seat whilst the stars all bend to him  2 The Master said The three hundred poems are summed up in the one line Think no evil  3 The Master said Guide the people by law aline them by punishment they may shun crime but they will want shame Guide them by mind aline them by courtesy they will learn shame and grow good  4 The Master said At fifteen I had the will to learn at thirty I could stand at forty I had no doubts at fifty I understood the heavenly Bidding at sixty my ears were opened9 at seventy I could do as my heart lusted without trespassing from the square  Footnote 9 _Lit_ obedient  5 Meng Yi asked the duty of a son  The Master said Not to transgress  As Fan Chiih10 was driving him the Master said Mengsun11 asked me the duty of a son I answered Not to transgress  Footnote 10 A disciple  Footnote 11 Meng Yi  What did ye mean said Fan Chiih  To serve our father and mother with courtesy whilst they live to bury them with courtesy when they die and to worship them with courtesy  6 Meng Wu asked the duty of a son  The Master said He should not grieve his father and mother by anything but illness  7 Tzuyu12 asked the duty of a son  Footnote 12 A disciple  The Master said He that can feed his parents is now called a good son But both dogs and horses are fed and unless we honour our parents what is the difference  8 Tzuhsia13 asked the duty of a son  Footnote 13 A disciple  The Master said Our manner is the hard part For the young to be a stay in toil and leave the wine and food to their elders is this to fulfil their duty  9 The Master said If I talk all day to Hui14 like a dullard he never differs from me But when he is gone if I watch him when alone he can carry out what I taught No Hui is no dullard  Footnote 14 The disciple Yen YÃ¼an  10 The Master said See what he does watch what moves him search what pleases him can the man lie hidden Can the man lie hidden  11 The Master said To keep old knowledge warm and get new makes the teacher  12 The Master said A gentleman is not a vessel  13 Tzukung15 asked What is a gentleman  Footnote 15 A disciple  The Master said He puts words into deeds first and follows these up with words  14 The Master said A gentleman is broad and fair the small man takes sides and is narrow  15 The Master said Learning without thought is naught thought without learning is dangerous  16 The Master said To fight strange doctrines does harm  17 The Master said Yu16 shall I teach thee what is wisdom To know what we know and know what we do not know is wisdom  Footnote 16 The disciple Tzulu  18 Tsuchang17 learned with an eye to pay  Footnote 17 A disciple  The Master said Hear much leave all that is doubtful alone speak warily of everything else and few will be offended See much leave all that is dangerous alone deal warily with everything else and thou wilt have little to rue If thy words seldom give offence and thy deeds leave little to rue pay will follow  19 Duke Ai18 asked What should I do to win the people  Footnote 18 Of Lu  Confucius answered Lift up the straight put away the crooked and the people will be won Lift up the crooked put away the straight and the people will not be won  20 Chi Kang19 asked how to make the people lowly faithful and painstaking  Footnote 19 The head of the Chi clan  The Master said Meet them with dignity they will be lowly be a good son and merciful they will be faithful lift up the good and teach the unskilled and they will take pains  21 One said to Confucius Why do ye not govern Sir  The Master said What does the Book20 say of a good son To be a good son and a friend to thy brothers is to show how to govern This too is to govern Must one be in office to govern  Footnote 20 The Book of History  22 The Master said A man without truth I know not what good he is A cart without a crosspole a carriage without a yoke how can they be moved  23 Tzuchang21 asked whether we can know what is to be ten generations hence  Footnote 21 A disciple  The Master said The Yin22 took over the manners of the Hsia the harm and the good that they did them can be known The Chou took over the manners of the Yin the harm and the good that they did them can be known And we may know what shall be even an hundred generations hence whoever follows Chou  Footnote 22 Up to the time of Confucius China had been ruled by three lines of kings First the Tang next the Yin or Shang then the Chou  24 The Master said To worship the ghosts of men not akin to us is fawning To see the right and not do it is want of courage     BOOK III   1 Of the Chi having eight rows of dancers23 in his courtyard Confucius said If this is to be borne what is not to be borne  Footnote 23 An Imperial prerogative  2 When the sacrifice was ended the Three Clans had the Yung hymn sung  The Master said      Princes and dukes assist     Solemn is the Son of heaven  what meaning has this in the courtyard of the Three Clans  3 The Master said A man without love what is courtesy to him A man without love what is music to him  4 Lin Fang asked what good form is at root  The Master said A big question At hightides thrift is better than waste at burials grief is worth more than nicety  5 The Master said Every wild tribe has its lord whereas the lands of Hsia24 have none  Footnote 24 China  6 The Chi sacrificed to Mount Tai25  Footnote 25 A prerogative of the Duke of Lu  The Master said to Jan Yu26 Canst thou not stop this  Footnote 26 A disciple in the service of the Chi  He answered I cannot  Alas said the Master dost thou think Mount Tai less wise than Lin Fang  7 The Master said A gentleman never strives with others Or must he perhaps in shooting But then as he bows and makes way in going up or steps down to drink27 his strife is that of a gentleman  Footnote 27 The loser had to drink a cup of wine  8 Tzuhsia asked What is the meaning of      Her cunning smiles     Her dimples light     Her lovely eyes     So clear and bright     All unadorned     The background white  Colouring said the Master is second to the plain ground  Then good form is second said Tzuhsia  Shang28 said the Master thou hast hit my meaning Now I can talk of poetry to thee  Footnote 28 Tzuhsia  9 The Master said I can speak of the manners of Hsia but as proof of them Chi29 is not enough I can speak of the manners of Yin but as proof of them Sung is not enough This is due to their dearth of books and great men If there were enough of these I could use them as proofs  Footnote 29 Chi was the homeland of the House of Hsia Sung that of the House of Yin  10 The Master said After the drink offering at the Great Sacrifice I have no wish to see more  11 One asked the meaning of the Great Sacrifice  The Master said I do not know He that knew the meaning would overlook all below heaven as I do thisand he pointed to his palm  12 He worshipped as if those whom he worshipped were before him he worshipped the spirits as if they were before him  The Master said For me to take no part in the sacrifice is the same as not sacrificing  13 Wangsun Chia30 said What is the meaning of It is better to court the hearthgod than the god of the home  Footnote 30 Wangsun Chia was minister of Wei and had more influence than his master The hearthgod ranks below the god of the home the Roman _lares_ but since he sees all that goes on in the house and ascends to heaven at the end of the year to report what has happened it is well to be on good terms with him  Not so said the Master A sin against Heaven leaves no room for prayer  14 The Master said Chou31 looks back on two lines of kings How rich how rich it is in art I follow Chou  Footnote 31 The royal house of Chou which was then ruling China  15 On going into the Great Temple the Master asked about everything  One said Who says that the Tsou mans son knows the rites On going into the Great Temple he asked about everything  When he heard this the Master said Such is the rite  16 The Master said In shooting the arrow need not go right through the target for men are not the same in strength This was the old rule  17 Tzukung wished to do away with the sheep offering at the new moon  The Master said Thou lovest the sheep Tzu I love the rite  18 The Master said Serve the king with all courtesy men call it fawning  19 Duke Ting asked how a lord should treat his lieges and how lieges should serve their lord  Confucius answered The lord should treat his lieges with courtesy lieges should serve their lord faithfully  20 The Master said The poem _The Osprey_ is glad but not wanton it is sad but not morbid  21 Duke Ai asked Tsai Wo about the earthaltars  Tsai Wo answered The Emperors of the house of Hsia grew firs round them the men of Yin grew cypress the men of Chou grew chestnut which was to say Let the people tremble32  Footnote 32 _Tremble_ and _chestnut_ have the same sound in Chinese  On hearing this the Master said I do not speak of what is ended chide what is settled or find fault with what is past33  Footnote 33 In old times men had been sacrificed at the earthaltars and Tsai Wos answer might seem to approve the practice  22 The Master said How shallow was Kuan Chung  But said one was not Kuan Chung thrifty  The Kuan said the Master owned San Kuei and no one of his household held two posts was that thrift  At least Kuan Chung knew good form  The Master said Kings screen their gates with trees the Kuan too had trees to screen his gate When two kings are carousing they have a stand for the turneddown cups the Kuan had a turneddown cupstand too If the Kuan knew good form who does not know good form34  Footnote 34 Kuan Chung  645 BC a famous man in his day was chief minister to the Duke of Chi whom he raised to such wealth and power that he became the leading prince of the empire His chief merit lay in taming the barbarous frontier tribes The rest of his work was built upon sand and died with him  23 The Master said to the Great Master35 of Lu We can learn how to play music at first each part in unison then a swell of harmony each part distinct rolling on to the finish  Footnote 35 Of music  24 The warden of Yi asked to see Confucius saying No gentleman has ever come here whom I have failed to see  The followers took him in  On leaving he said My twothree boys why lament your fall The Way has long been lost below heaven Now Heaven shall make the Master into a warning bell  25 The Master said of the music of Shao It is thoroughly beautiful and thoroughly good too Of the music of Wu he said It is thoroughly beautiful but not thoroughly good  26 The Master said Rank without beauty ceremony without reverence mourning without grief why should I cast them a glance     BOOK IV   1 The Master said Love makes a spot beautiful who chooses not to dwell in love has he got wisdom  2 The Master said Loveless men cannot bear need long they cannot bear fortune long Loving men find peace in love the wise find profit in it  3 The Master said Love alone can love others or hate others  4 The Master said A will set on love is free from evil  5 The Master said Wealth and honours are what men desire but do not go from the Way to keep them Lowliness and want are hated by men but do not go from the Way to escape them  Shorn of love is a gentleman worthy of the name Not for one moment may a gentleman sin against love he must not do so in flurry and haste nor do so in utter overthrow  6 The Master said I have seen no one that loves love and hates uncharity He that loves love will set nothing higher The hater of uncharity is so given to love that no uncharity can enter into his life If a man were to give his strength to love for one day I have seen no one whose strength would fail him There may be such men but I have not seen one  7 The Master said A man and his faults are of a piece By watching his faults we learn whether love be his  8 The Master said To learn the Way at daybreak and die at eve were enough  9 The Master said A knight36 in quest of the Way who is ashamed of bad clothes and bad food it is idle talking to  Footnote 36 _Shih_ a gentleman entitled to bear arms not a knight in armour  10 The Master said A gentleman has no likes or dislikes below heaven He follows right  11 The Master said The gentleman cherishes mind the small man cherishes dirt Gentlemen trust in the law the small man trusts in favour  12 The Master said The chase of gain is rich in hate  13 The Master said What is it to sway a kingdom by courteous yielding If we cannot sway a kingdom by courteous yielding what is our courtesy worth  14 The Master said Care not for want of place care for thy readiness to fill one Care not for being unknown but seek to be worthy of note  15 The Master said One line Shen37 runs through my Way  Footnote 37 The disciple Tsengtzu  Yes said Tsengtzu  After the Master had left the disciples asked what was meant  Tsengtzu said The Masters Way is no more than faithfulness and fellowfeeling  16 The Master said The gentleman is learned in right the small man is learned in gain  17 The Master said At sight of worth think to grow like it at sight of baseness search thyself within  18 The Master said A father or a mother may be gently chidden If thou seest they have no will to follow thee be the more lowly but do not give way nor murmur at the trouble they give thee  19 The Master said Whilst thy father and mother are living do not wander afar If thou must travel hold a set course  20 The Master said He that changes nothing in his fathers ways for three years may be called pious  21 The Master said A father and mothers years must be borne in mind with gladness on the one hand and fear on the other  22 The Master said The men of old were loth to speak for not to live up to their words would have shamed them  23 The Master said We shall seldom get lost if we hold to main lines  24 The Master said A gentleman wishes to be slow to speak and quick to do  25 The Master said A great soul is never friendless he has always neighbours  26 Tzuyu said Nagging at kings brings disgrace nagging at friends estrangement     BOOK V   1 Of Kungyeh Chang the Master said A girl might be wedded to him Though he has been in fetters that was not his crime  He gave him his daughter to wed  Of Nan Jung the Master said When the land keeps the Way he will not be neglected and if the land loses the Way he will escape punishment and death  He gave him his brothers daughter to wed  2 Of Tzuchien38 the Master said What a gentleman he is But if there were no gentlemen in Lu where could he have picked it up  3 Tzukung asked And what of me  Thou art a vessel said the Master  What kind of vessel  A rich temple vessel  4 One said Yung39 has love but he is not glib  Footnote 38 A disciple born in Lu  Footnote 39 The disciple Chungkung  The Master said What is the good of being glib Fighting men with tonguecraft mostly makes men hate you Whether love be his I do not know but what is the good of being glib  5 The Master moved Chitiao Kai to take office  He answered For this I want confidence  The Master was pleased  6 The Master said Forsaken is the Way I must take ship and stem the seas and Yu40 shall go with me  When Tzulu heard this he was glad  The Master said Yu loves daring more than I do but he is at a loss how to take things  7 Meng Wu asked whether Tzulu had love  I do not know said the Master  He asked again  A land of a thousand chariots might give Yu charge of its levies but whether love be his I do not know  And how about Chiu41  A town of a thousand households a clan of an hundred chariots might make Chiu governor but whether love be his I do not know  And how about Chih42  Standing in the court girt with his sash Chih might entertain the guests but whether love be his I do not know  8 The Master said to Tzukung Which is the better man thou or Hui43  He answered How dare I look as high as Hui When Hui hears one thing he understands ten when I hear one thing I understand two  The Master said Thou art not his like Neither art thou his like nor am I  9 Tsai YÃ¼44 slept in the daytime  Footnote 40 Tzulu  Footnote 41 The disciple Jan Yu  Footnote 42 The disciple Kunghsi Hua  Footnote 43 The disciple Yen YÃ¼an  Footnote 44 The disciple Tsai Wo  The Master said Rotten wood cannot be carved nor are dung walls plastered Why chide with YÃ¼  The Master said When I first met men I listened to their words and took their deeds on trust When I meet them now I listen to their words and watch their deeds I righted this on YÃ¼  10 The Master said I have met no firm man  One answered Shen Chang  The Master said Chang is passionate how can he be firm  11 Tzukung said What I do not wish done to me I likewise wish not to do to others  The Master said That is still beyond thee Tzu  12 Tzukung said To hear the Master on his art and precepts is granted us but to hear him on mans nature and the Way of Heaven is not  13 Until Tzulu could do what he had heard his only fear was to hear more  14 Tzukung asked Why was Kungwen called cultured  The Master said He was quick and loved learning he was not ashamed to ask those beneath him that is why he was called cultured  15 The Master said Of the ways of a gentleman Tzuchan had four His life was modest he honoured those that he served He was kind in feeding the people and he was just in his calls upon them  16 The Master said Yen Ping was a good friend The longer he knew you the more attentive he grew  17 The Master said Tsang Wen lodged his tortoise with hills on the pillars and reeds on the uprights was this his wisdom  18 Tzuchang said The chief minister Tzuwen was thrice made minister without showing gladness thrice he left office with unmoved looks He always told the new ministers how the old ones had governed how was that  He was faithful said the Master  But was it love  I do not know said the Master how should this amount to love  When Tsui murdered the lord of Chi Chen Wen threw up ten teams of horses and left the land On coming to another kingdom he said Like my lord Tsui and left it On coming to a second kingdom he said again Like my lord Tsui and left it how was that  He was clean said the Master  But was it love  I do not know said the Master how should this amount to love  19 Chi Wen thought thrice before acting  On hearing this the Master said Twice is enough  20 The Master said Whilst the land kept the Way Ning Wu showed wisdom when his land lost the Way he grew simple His wisdom we may come up to such simplicity is beyond us45  Footnote 45 Ning Wu was minister of the Duke of Wei in the middle of the seventh century BC The duke was driven from his throne and deserted by the wise and prudent but Ning Wu in his simplicity stuck to his master and finally effected his restoration  21 When he was in Chen the Master said Home I must go home Zealous or rash or finished scholars my young sons at home do not know what pruning they still need  22 The Master said Because Poyi and Shuchi never remembered old wickedness they made few enemies46  23 The Master said Who can call Weisheng Kao straight A man begged him for vinegar he begged it of a neighbour and gave it  24 The Master said Smooth words fawning looks and overdone humility Tso Chiuming thought shameful and so do I He thought it shameful to hide illwill and ape friendship and so do I  25 As Yen YÃ¼an and Chilu47 were sitting with him the Master said Why not each of you tell me thy wishes  Footnote 46 Poyi and Shuchi were sons of the King of Kuchu Their father left the throne to the younger of the two but he would not supplant the elder nor would the elder go against his fathers wishes So they both retired into obscurity When King Wu overthrew the tyrant Chou 1122 BC they starved to death rather than live under a new dynasty Of Poyi Mencius tells us Book X chapter 1 His eyes would not look on an evil face his ears would not listen to an evil sound He served none but his own lord he ruled none but his own people He came in when there was order and withdrew when tumults came Where lawless rule showed or lawless people stayed he could not bear to dwell To be together with country folk he thought like sitting in court dress and court cap on dust and ashes In Chous time he dwelt by the North Sea shore waiting for all below heaven to grow clean So hearing the ways of Poyi the fool grows honest and the weaklings purpose stands  Footnote 47 Tzulu  Tzulu said I should like carriages and horses and clothes of light fur to share with my friends and if they spoiled them not to get angry  Yen YÃ¼an said I should like to make no boast of talent or show or merit  Tzulu said We should like to hear your wishes Sir  The Master said To give the old folk peace to be true to friends and to have a heart for the young  26 The Master said It is finished I have met no one that can see his own faults and arraign himself within  27 The Master said In a hamlet of ten houses there must be men that are as faithful and true men as I but they do not love learning as I do     BOOK VI   1 The Master said Yung48 might fill the seat of a prince  And might Tzusang Potzu asked Chungkung  Yes said the Master but he is slack  To be stern to himself said Chungkung and slack in his claims on the people might do but to be slack himself and slack with others must surely be too slack  The Master said What Yung says is true  2 Duke Ai asked which disciples loved learning  Confucius answered Yen Hui49 loved learning He did not carry over anger he made no mistake twice Alas his mission was short he died Now that he is gone I hear of no one that loves learning  3 When Tzuhua50 was sent to Chi the disciple Jan asked for grain for his mother  The Master said Give her six pecks  He asked for more  The Master said Give her sixteen  Jan gave her eight hundred  The Master said On his way to Chi Chih51 was drawn by sleek horses and clad in light furs I have heard that gentlemen help the needy not that they swell riches  Footnote 48 The disciple Chungkung  Footnote 49 The disciple Yen YÃ¼an  Footnote 50 The disciple Kunghsi Hua or Kunghsi Chih  Footnote 51 Kunghei Chih  When YÃ¼an Ssu was made governor he was given nine hundred measures of grain which he refused  Not so said the Master why not take it and give it to thy neighbours and countryfolk  4 The Master said of Chungkung If the calf of a brindled cow be red and horned though men be shy to offer him will the hills and streams reject him  5 The Master said For three months together Huis52 heart never sinned against love The others may hold out for a day or a month but no more  6 Chi Kang53 asked whether Chungyu3 was fit to govern  The Master said Yu54 is firm what would governing be to him  And is Tzu55 fit to govern  Tzu is thorough what would governing be to him  And is Chiu56 fit to govern  Chin is clever what would governing be to him  7 The Chi sent to make Min Tzuchien6 governor of Pi  Min Tzuchien said Make some good excuse for me If he sends again I must be across the Wen  8 When Poniu57 was ill the Master asked after him Grasping his hand through the window he said He is going It is the Bidding but why this man of such an illness Why this man of such an illness  Footnote 52 Yen YÃ¼an  Footnote 53 The head of the Chi clan after Chi Huan  Footnote 54 The disciple Tzulu  Footnote 55 The disciple Tzukung  Footnote 56 The disciple Jan Yu  Footnote 57 A disciple  9 The Master said What a man was Hui58 A bowl of rice a gourd of water in a low alley man cannot bear such misery Yet Hui never fell from mirth What a man he was  10 Jan Chiu59 said It is not that I take no pleasure in the Masters Way I want strength  Footnote 58 Yen YÃ¼an  Footnote 59 Jan Yu  The Master said He that wants strength faints midway but thou drawest a line  11 The Master said to Tzuhsia Study to be a gentleman not as the small man studies  12 When Tzuyu was governor of Wucheng the Master said Hast thou gotten any men  He answered I have Tantai Miehming He will not take a short cut when walking and he has never come to my house except on business  13 The Master said Meng Chihfan never brags He was covering the rear in a rout but on coming to the gate he whipped his horse and cried Not courage kept me behind my horse wont go  14 The Master said Unless we are glib as the reader To and fair as Chao of Sung escape is hard in the times that be  15 The Master said Who can go out except by the door Why is it no one keeps to the Way  16 The Master said Matter outweighing art begets roughness art outweighing matter begets pedantry Matter and art well blent make a gentleman  17 The Master said Man is born straight If he grows crooked and yet lives he is lucky to escape  18 The Master said He that knows is below him that loves and he that loves below him that delights therein  19 The Master said To men above the common we can talk of higher things to men below the common we must not talk of higher things  20 Fan Chih60 asked What is wisdom  The Master said To foster right among the people to honour ghosts and spirits and yet keep aloof from them may be called wisdom  He asked What is love  The Master said To rank the effort above the prize may be called love  21 The Master said Wisdom delights in water love delights in hills Wisdom is stirring love is quiet Wisdom is merry love grows old  22 The Master said By one revolution Chi might grow to be Lu by one revolution Lu might reach the Way  23 The Master said A drinking horn that is no horn What a horn What a drinking horn  24 Tsai Wo61 said If a man of love were told that a man is in a well would he go in after him  Footnote 60 A disciple  Footnote 61 A disciple  The Master said Why should he A gentleman might be got to the well but not trapped into it He may be cheated but not fooled  25 The Master said By breadth of reading and the ties of courtesy a gentleman is kept too from false paths  26 The Master saw Nantzu62 Tzulu was displeased  The Master took an oath saying If I have done wrong may Heaven forsake me may Heaven forsake me  27 The Master said The highest minds cleave to the Centre the Common They have long been rare among the people  28 Tzukung said To treat the people with bounty and help the many how were that Could it be called love  The Master said What has this to do with love Must it not be holiness Yao and Shun63 still yearned for this Seeking a foothold for self love finds a foothold for others seeking light for itself it enlightens others too To learn from the near at hand may be called the clue to love  Footnote 62 The dissolute wife of Duke Ling of Wei  Footnote 63 Two emperors of the golden age     BOOK VII   1 The Master said A teller and not a maker one that trusts and loves the past I might liken myself to our old Peng64  2 The Master said To think things over in silence to learn and be always hungry to teach and never weary is any of these mine  3 The Master said Not making the most of my mind want of thoroughness in learning failure to do the right when told it lack of strength to overcome faults these are my sorrows  4 In his free moments the Master was easy and cheerful  5 The Master said How deep is my decay It is long since I saw the Duke of Chou65 in a dream  6 The Master said Keep thy will on the Way lean on mind rest in love move in art  7 The Master said From the man that paid in dried meat upwards I have withheld teaching from no one  8 The Master said Only to those fumbling do I open only for those stammering do I find the word  Footnote 64 We should be glad to know more of old Peng but nothing is known of him  Footnote 65 Died 1105 BC He was the younger brother of King Wu the founder of the Chou dynasty as great in peace as the King in war He was so bent on carrying out the old principles of government that if anything did not tally with them he looked up and thought till day passed into night and if by luck he found the answer he sat and waited for the dawn Mencius Book VIII chapter 20  If I lift one corner and the other three are left unturned I say no more  9 When eating beside a mourner the Master never ate his fill On days when he had been wailing he did not sing  10 The Master said to Yen YÃ¼an To go forward when in office and lie quiet when not only I and thou can do that  Tzulu said If ye had to lead three armies Sir whom would ye have with you  No man said the Master that would face a tiger barefisted or plunge into a river and die without a qualm but one indeed who fearing what may come lays his plans well and carries them through  11 The Master said If shouldering a whip were a sure road to riches I should turn carter but since there is no sure road I tread the path I love  12 The Master gave heed to abstinence war and sickness  13 When he was in Chi for three months after hearing the Shao played the Master knew not the taste of flesh  I did not suppose he said that music could reach such heights  14 Jan Yu said Is the Master for the lord of Wei66  Footnote 66 The grandson of Duke Ling the husband of Nantzu His father had been driven from the country for plotting to kill Nantzu When Duke Ling died he was succeeded by his grandson who opposed by force his fathers attempts to seize the throne  I shall ask him said Tzukung  He went in and said What kind of men were Poyi67 and Shuchi  Worthy men of yore said the Master  Did they rue the past  They sought love and found it what had they to rue  Tzukung went out and said The Master is not for him  15 The Master said Eating coarse rice and drinking water with bent arm for pillow we may be merry but illgotten wealth and honours are to me a wandering cloud  16 The Master said Given a few more years making fifty for learning the Yi68 I might be freed from gross faults  Footnote 67 See Book V Â 22  Footnote 68 An abstruse ancient classic usually called the Book of Changes  17 The Master liked to talk of poetry history and the upkeep of courtesy Of all these he liked to talk  18 The Duke of She asked Tzulu about Confucius  Tzulu did not answer  The Master said Why didst thou not say He is a man that forgets to eat in his eagerness whose sorrows are forgotten in gladness who knows not that age draws near  19 The Master said I was not born to wisdom I loved the past and sought it earnestly there  20 The Master never talked of goblins strength disorder or spirits  21 The Master said Walking three together I am sure of teachers I pick out the good and follow it I see the bad and shun it  22 The Master said Heaven begat the mind in me what can Huan Tui69 do to me  23 The Master said My twothree boys do ye think I hide things I hide nothing from you I am a man that keeps none of his doings from his twothree boys  24 The Master taught four things art conduct faithfulness and truth  25 The Master said A holy man I shall not live to see enough could I find a gentleman A good man I shall not live to see enough could I find a steadfast one But when nothing poses as something cloud as substance and want as riches it is hard indeed to be steadfast  26 The Master angled but he did not fish with a net he shot but not at birds sitting  27 The Master said There may be men that do things without knowing why I do not To hear much pick out the good and follow it to see much and think it over this comes next to wisdom  28 To talk to the Hu village was hard When a lad was seen by the Master the disciples doubted  The Master said I allow his coming not what he does later Why be so harsh If a man cleans himself to come in I admit his cleanness but do not warrant his past  Footnote 69 In 495 BC during Confuciuss wanderings Huan Tui sent a band of men to kill him but why he did so is not known  29 The Master said Is love so far a thing I long for love and lo love is come  30 A judge of Chen asked whether Duke Chao70 knew good form  Confucius answered He knew good form  After Confucius had left the judge beckoned Wuma Chi71 to him and said I had heard that gentlemen are of no party but do they too take sides This lord married a Wu whose name was the same as his and called her Miss Tzu of Wu if he knew good form who does not know good form  When Wuma Chi told the Master this he said How lucky I am If I go wrong men are sure to know it  31 When anyone sang to the Master and sang well he made him sing it again and joined in  32 The Master said I have no more reading than others to live as a gentleman is not yet mine  33 The Master said How dare I lay claim to holiness or love A man of endless craving who never tires of teaching I might be called but that is all  That is just what we disciples cannot learn said Kunghsi Hua  34 When the Master was very ill Tzulu asked leave to pray  Is it done said the Master  Footnote 70 Duke Chao of Lu  510 BC was the duke that first employed Confucius It is against Chinese custom for a man to marry a girl whose surname is the same as his  Footnote 71 A disciple of Confucius  It is answered Tzulu The Memorials say Pray to the spirits above and to the Earth below  The Master said Longlasting has my prayer been  35 The Master said Waste makes men unruly thrift makes them mean but they are better mean than unruly  36 The Master said A gentleman is calm and spacious the small man is always fretting  37 The Masters manner was warm yet dignified He was stern but not fierce humble yet easy     BOOK VIII   1 The Master said Taipo72 may be said to have carried nobility furthest Thrice he refused all below heaven Men were at a loss how to praise him  2 The Master said Without good form attentions grow into fussiness heed becomes fearfulness daring becomes unruliness frankness becomes rudeness When gentlemen are true to kinsfolk love will thrive among the people if they do not forsake old friends the people will not steal  3 When Tsengtzu lay sick he called his disciples and said Uncover my feet uncover my arms The poem says      As if a deep gulf       Were yawning below     As crossing thin ice       Take heed how ye go  My little children I have known how to keep myself unhurt until now and hereafter73  4 When Tsengtzu was sick Meng Ching74 came to ask after him  Footnote 72 Taipo was the eldest son of the King of Chou The father wished his third son to succeed him so that the throne might pass later to his grandson afterwards known as King Wen To enable this plan to be carried out Taipo and his second brother went into exile  Footnote 73 The Chinese say The body is born whole by the mother it should be returned whole by the son  Footnote 74 Chief of the Meng clan minister of Lu  Tsengtzu said When a bird is dying his notes are sad when man is dying his words are good Three branches of the Way are dear to a gentleman To banish from his bearing violence and disdain to sort his face to the truth and to banish from his speech what is low or unseemly The ritual of chalice and platter75 has servitors to see to it  5 Tsengtzu said When we can to ask those that cannot when we are more to ask those that are less having to seem wanting real to seem shadow when gainsaid never answering back I had a friend76 once that could do thus  6 Tsengtzu said A man to whom an orphan a few feet high or the fate of an hundred towns may be entrusted and whom no crisis can corrupt is he not a gentleman a gentleman indeed  7 Tsengtzu said The knight had need be strong and bold for his burden is heavy the way is far His burden is love is it not a heavy one No halt before death is that not far  8 The Master said Poetry rouses us we stand upon courtesy music is our crown  9 The Master said The people may be made to follow we cannot make them understand  10 The Master said Love of daring and hatred of poverty lead to crime a man without love if he is sorely harassed turns to crime  11 The Master said All the comely gifts of the Duke of Chou77 coupled with pride and meanness would not be worth a glance  Footnote 75 For sacrifice  Footnote 76 Probably Yen YÃ¼an  Footnote 77 See Book VII Â 5  12 The Master said A man to whom three years of learning have borne no fruit would be hard to find  13 The Master said A man of simple faith who loves learning who guards and betters his way unto death will not enter a tottering kingdom nor stay in a lawless land When all below heaven follows the Way he is seen when it loses the Way he is unseen While his land keeps the Way he is ashamed to be poor and lowly but when his land has lost the Way wealth and honours shame him  14 The Master said When out of place discuss not policy  15 The Master said In the first days of the musicmaster Chih how the hubbub78 of the KuanchÃ¼ rose sea beyond sea How it filled the ear  16 The Master said Of men that are zealous but not straight dull but not simple helpless but not truthful I will know nothing  17 The Master said Learn as though the time were short like one that fears to lose  18 The Master said How wonderful were Shun2 and YÃ¼2 To have all below heaven was nothing to them  19 The Master said How great a lord was Yao79 Wonderful Heaven alone is great Yao alone was patterned on it Vast boundless Mens words failed them The wonder of the work done by him The flame of his art and precepts  Footnote 78 The last part of the music when all the instruments were played together  Footnote 79 See Introduction  20 Shun had five ministers and there was order below heaven  King Wu80 said I have ten uncommon ministers  Confucius said The dearth of talent is not that the truth When YÃ¼81 followed Tang82 the times were rich in talent yet there were but nine men in all and one woman In greatness of soul we may say that Chou83 was highest he had twothirds of all below heaven and bent it to the service of Yin  21 The Master said I see no flaw in YÃ¼ He ate and drank little yet he was lavish in piety to the ghosts and spirits His clothes were bad but in his cap and gown he was fair indeed His palace buildings were poor yet he gave his whole strength to dykes and ditches No kind of flaw can I see in YÃ¼  Footnote 80 See Introduction  Footnote 81 Shun  Footnote 82 Yao  Footnote 83 King Wen Duke of Chou     BOOK IX   1 The Master seldom spake of gain or love or the Bidding  2 A man of the village of Tahsiang said The great Confucius with his vast learning has made no name in anything  When the Master heard this he said to his disciples What shall I take up Shall I take up driving or shall I take up shooting I shall take up driving  3 The Master said A linen cap is good form now silk is worn It is cheap so I follow the many To bow below is good form now it is done above This is arrogance so breaking with the many I still bow below  4 From four things the Master was quite free byends and must and shall and I  5 When he was afraid in Kuang84 the Master said Since the death of King Wen is not the seat of culture here If Heaven had meant to destroy our culture a later mortal would have had no part in it Until Heaven condemns our culture what can the men of Kuang do to me  6 A high minister said to Tzukung The Master must be a holy man he can do so many things  Footnote 84 During the Masters wanderings Kuang is said to have been a small state near Lu which had been oppressed by Yang Huo Confucius resembled him and the men of Kuang set upon him mistaking him for their enemy The commentators say that the Master was not afraid only roused to a sense of danger I cannot find that the text says so  Tzukung said Heaven has indeed given him so much that he is almost holy and he can do many things too  When the Master heard this he said Does the minister know me Because I was poor when young I can do many paltry things But does doing many things make a gentleman No not doing many does  Lao said The Master would say As I had no post I learned the crafts  7 The Master said Have I in truth wisdom I have no wisdom But when a common fellow emptily asks me anything I tap it on this side and that and sift it to the bottom  8 The Master said The phoenix comes not the River gives forth no sign all is over with me  9 When the Master saw folk clad in mourning or in cap and gown or a blind man he always roseeven for the youngor if he was passing them he quickened his step  10 Yen YÃ¼an heaved a sigh and said As I look up it grows higher deeper as I dig I catch sight of it ahead and on a sudden it is behind me The Master leads men on deftly bit by bit He widens me with culture he binds me with courtesy If I wished to stop I could not until my strength were spent What seems the mark stands near but though I long to reach it I find no way  11 When the Master was very ill Tzulu made the disciples act as ministers  During a better spell the Master said Yu has long been feigning This show of ministers when I have no ministers whom will it take in Will Heaven be taken in And is it not better to die in the arms of my twothree boys than to die in the arms of ministers And if I miss a big burial shall I die by the roadside  12 Tzukung said If I had here a fair piece of jade should I hide it away in a case or seek a good price and sell it  Sell it sell it said the Master I tarry for my price  13 The Master wished to dwell among the nine tribes85  Footnote 85 In the east of Shantung  One said They are low how could ye  The Master said Wherever a gentleman lives will there be anything low  14 The Master said After I came back from Wei to Lu the music was set straight and each song found its place  15 The Master said To serve dukes and ministers abroad and father and brothers at home in matters of mourning not to dare to be slack and to be no thrall to wine to which of these have I won  16 As he stood by a stream the Master said Hasting away like this day and night without stop  17 The Master said I have seen no one that loves mind as he loves looks  18 The Master said In making a mound if I stop when one more basket would finish it I stop When flattening ground if after overturning one basket I go on I go ahead  19 The Master said Never listless when spoken to such was Hui86  20 Speaking of Yen YÃ¼an the Master said The pity of it I saw him go on but I never saw him stop  21 The Master said Some sprouts do not blossom some blossoms bear no fruit  22 The Master said Awe is due to youth May not tomorrow be bright as today To men of forty or fifty who are still unknown no awe is due  23 The Master said Who would not give ear to a downright word But to mend is better Who would not be pleased by a guiding word But to think it out is better With such as are pleased but do not think out or who listen but do not mend I can do nothing  24 The Master said Put faithfulness and truth first have no friends unlike thyself be not ashamed to mend thy faults  25 The Master said Three armies may be robbed of their leader no wretch can be robbed of his will  26 The Master said Yu87 is the man to stand clad in a wornout quilted gown unashamed amid robes of fox and badger      Without hatred or greed     What but good does he do  But when Tzulu was everlastingly humming these words the Master said This is the way towards it but how much short of goodness itself  Footnote 86 Yen YÃ¼an  Footnote 87 Tzulu  27 The Master said Erst the cold days show how fir and cypress are last to fade  28 The Master said Wisdom has no doubts love does not fret the bold have no fears  29 The Master said With some we can learn together but we cannot go their way we can go the same way with others though our standpoint is not the same and with some though our standpoint is the same our weights and scales are not  30      The blossoms of the plum tree       Are dancing in play     My thoughts are with thee       In thy home far away  The Master said Her thoughts were not with him or how could he be far away     BOOK X   1 Among his own country folk Confucius wore a homely look like one that has no word to say  In the ancestral temple and at court his speech was full but cautious  2 At court he talked frankly to men of low rank winningly to men of high rank When the king was there he looked intent and solemn  3 When the king bade him receive guests his face seemed to change and his legs to bend He bowed left and right to those beside him straightened his robes in front and behind and swept forward with arms spread like wings When the guest had left he brought back word saying The guest is no longer looking  4 As he went in at the palace gate he stooped as though it were too low for him He did not stand in the middle of the gate or step on the threshold  When he passed the throne his face seemed to change and his legs to bend he spake with bated breath As he went up the hall to audience he lifted his robes bowed his back and masked his breathing till it seemed to stop As he came down he relaxed his face below the first step and looked pleased From the foot of the steps he swept forward with arms spread like wings and when he was back in his seat he looked intent as before  5 When he carried the sceptre his back bent as under too heavy a burden he lifted it no higher than in bowing and no lower than in making a gift His face changed as it will with fear and he dragged his feet as though they were fettered  When he offered his present his manner was formal but at the private audience he was cheerful  6 The gentleman was never decked in violet or mauve even at home he would not wear red or purple  In hot weather he wore an unlined linen gown but always over other clothes  With lambskin he wore black with fawn white and with foxskin yellow At home he wore a long fur gown with the right sleeve short  His nightgown was always half as long again as his body  In the house he wore thick fur of fox or badger  When he was not in mourning there was nothing missing from his girdle  Except for sacrificial dress he was sparing of stuff  He did not wear lambs fur or a black cap on a mourning visit  At the new moon he always put on court dress and went to court  7 On his days of abstinence he always wore linen clothes of a pale colour and he changed his food and moved from his wonted seat  8 He did not dislike wellcleaned rice or hash chopped small He did not eat sour or mouldy rice bad fish or tainted flesh He did not eat anything that had a bad colour or that smelt bad or food that was badly cooked or out of season Food that was badly cut or served with the wrong sauce he did not eat However much flesh there might be it could not conquer his taste for rice To wine alone he set no limit but he did not drink enough to muddle him He did not drink bought wine or eat readydried market meat He never went without ginger at a meal He did not eat much  After a sacrifice at the palace he did not keep the flesh overnight He never kept sacrificial flesh more than three days If it had been kept longer it was not eaten  He did not talk at meals nor speak when he was in bed  Even at a meal of coarse rice or herb broth or gourds he made his offering with all reverence  9 If his mat was not straight he would not sit down  10 When the villagers were drinking wine as those that walked with a staff left he left too  At the village exorcisms he put on court dress and stood on the east steps  11 When sending a man with enquiries to another land he bowed twice to him and saw him out  When Kang gave him some drugs he bowed accepted them and said I have never taken them I dare not taste them  12 On coming back from court after his stables had been burnt the Master said Is anyone hurt He did not ask about the horses  13 When the king sent him cooked meat he put his mat straight and tasted it first when he sent him raw flesh he had it cooked and offered it to the spirits when he sent him a live beast he kept it alive  When he ate in attendance on the king the king made the offering he tasted things first  When he was sick and the king came to see him he lay with his head to the east with his court dress over him and his girdle across it  When he was called by the kings bidding he walked without waiting for his carriage  14 On going into the Great Temple he asked about everything  15 When a friend died who had no home to go to he said It is for me to bury him  When friends sent him anything even a carriage and horses he never bowed unless the gift was sacrificial flesh  16 He did not sleep like a corpse At home he unbent  Even if he knew him well his face changed when he saw a mourner Even when he was in undress if he saw anyone in full dress or a blind man he looked grave  To men in deep mourning and to the censusbearers he bowed over the crossbar  Before choice meats he rose with changed look At sharp thunder or a fierce wind his look changed  17 When mounting his carriage he stood straight and grasped the cord When he was in it he did not look round or speak fast or point  18 Seeing a mans face she rose flew round and settled The Master said Hen pheasant on the ridge it is the season it is the season  Tzulu went towards her she sniffed thrice and rose88  Footnote 88 This passage cannot belong here It is corrupt and unintelligible     BOOK XI   1 The Master said Savages the men that first went into courtesy and music Gentlemen those that went into them later My use is to follow the first lead in both  2 The Master said Not one of my followers in Chen or Tsai comes any more to my door Yen YÃ¼an Min Tzuchien Jan Poniu and Chungkung were men of noble life Tsai Wo and Tzukung were the talkers Jan Yu and Chilu were statesmen Tzuyu and Tzuhsia men of arts and learning  3 The Master said I get no help from Hui89 No word I say but delights him  4 The Master said How good a son is Min Tzuchien No one finds fault with anything that his father or his mother or his brethren say of him  5 Nan Jung would thrice repeat _The Sceptre White_90 Confucius gave him his brothers daughter for wife  6 Chi Kang asked which disciples loved learning Confucius answered There was Yen Hui91 loved learning Alas his mission was short he died Now there is no one  Footnote 89 Yen YÃ¼an  Footnote 90 The verse runs      A flaw can be ground       From a sceptre white     A slip of the tongue       No man can right   Footnote 91 Yen YÃ¼an  7 When Yen YÃ¼an died Yen Lu92 asked for the Masters carriage to furnish an outer coffin  The Master said Brains or no brains each of us speaks of his son When Li93 died he had an inner but not an outer coffin I would not go on foot to furnish an outer coffin As I follow in the wake of the ministers I cannot go on foot  8 When Yen YÃ¼an died the Master said Woe is me Heaven has undone me Heaven has undone me  9 When Yen YÃ¼an died the Master gave way to grief  His followers said Sir ye are giving way  The Master said Am I giving way If I did not give way for this man for whom should I give way to grief  10 When Yen YÃ¼an died the disciples wished to bury him in pomp  The Master said This must not be  The disciples buried him in pomp  The Master said Hui treated me as his father I have failed to treat him as a son No not I but ye my twothree boys  11 Chilu94 asked what is due to the ghosts of the dead  The Master said When we cannot do our duty to the living how can we do it to the dead  He dared to ask about death  We know not life said the Master how can we know death  Footnote 92 The father of Yen YÃ¼an  Footnote 93 The Masters son  Footnote 94 Tzulu  12 Seeing the disciple Min standing at his side with winning looks Tzulu with warlike front Jan Yu and Tzukung frank and free the Masters heart was glad  A man like Yu95 he said dies before his day  13 The men of Lu were building the Long Treasury  Min Tzuchien said Would not the old one do Why must it be rebuilt  The Master said That man does not talk but when he speaks he hits the mark  14 The Master said What has the lute of Yu96 to do twanging at my door  But when the disciples looked down on Tzulu the Master said Yu has come up into hall but he has not yet entered the inner rooms  15 Tzukung asked Which is the better Shih97 or Shang98  The Master said Shih goes too far Shang not far enough  Then is Shih the better said Tzukung  Too far said the Master is no nearer than not far enough  16 The Chi was richer than the Duke of Chou yet Chiu99 became his taxgatherer and made him still richer  Footnote 95 Tzulu This prophecy came true Tzulu and Tzukao were officers of Wei when troubles arose Tzulu hastened to the help of his master He met Tzukao withdrawing from the danger and was advised to do the same But Tzulu would not desert the man whose pay he drew He plunged into the fight and was killed  Footnote 96 Tzulu  Footnote 97 The disciple Tzuchang  Footnote 98 The disciple Tzuhsia  Footnote 99 The disciple Jan Yu  He is no disciple of mine said the Master My little children ye may beat your drums and make war on him  17 Chai100 is simple Shen101 is dull Shih102 is smooth Yu103 is coarse  18 The Master said Hui104 is almost faultless and he is often empty Tzu105 will not bow to the Bidding and he heaps up riches but his views are often sound  19 Tzuchang asked What is the way of a good man  The Master said He does not tread the beaten track and yet he does not enter the inner rooms  20 The Master said Commend a man for plain speaking he may prove a gentleman or else but seeming honest  21 Tzulu said Shall I do all I am taught  The Master said Whilst thy father and elder brothers live how canst thou do all thou art taught  Jan Yu asked Shall I do all I am taught  The Master said Do all thou art taught  Kunghsi Hua said Yu106 asked Shall I do all I am taught and ye said Sir Whilst thy father and elder brothers live Chiu107 asked Shall I do all I am taught and ye said Sir Do all thou art taught I am in doubt and dare to ask you Sir  Footnote 100 The disciple Kao Chai  Footnote 101 The disciple Tsengtzu  Footnote 102 The disciple Tzuchang  Footnote 103 The disciple Tzulu  Footnote 104 The disciple Yen YÃ¼an  Footnote 105 The disciple Tzukung  Footnote 106 Tzulu  Footnote 107 Jan Yu  The Master said Chiu is bashful so I egged him on Yu is twice a man so I held him back  22 When the Master was in fear in Kuang Yen YÃ¼an fell behind  The Master said I held thee for dead  He answered Whilst my Master lives how should I dare to die  23 Chi Tzujan108 asked whether Chung Yu2 or Jan Chiu3 could be called a great minister  The Master said I thought ye would ask me a riddle Sir and ye ask about Yu109 and Chiu110 He that holds to the Way in serving his lord and leaves when he cannot do so we call a great minister Now Yu and Chiu I should call tools  Who are just followers then  Nor would they follow said the Master if told to kill their lord or father  24 Tzulu made Tzukao governor of Pi  The Master said Thou art undoing a mans son  Tzulu said What with the people and the spirits of earth and corn must a man read books to become learned  The Master said This is why I hate a glib tongue  25 The Master said to Tzulu Tseng Hsi111 Jan Yu and Kunghsi Hua as they sat beside him I may be a day older than you but forget that Ye are wont to say I am unknown Well if ye were known what would ye do  Footnote 108 The younger brother of Chi Huan the head of the Chi clan  Footnote 109 Tzulu He and Jan Yu had taken office under the Chi  Footnote 110 Jan Yu  Footnote 111 A disciple the father of Tsengtzu  Tzulu answered lightly Give me a land of a thousand chariots crushed between great neighbours overrun by soldiers and searched by famine and within three years I could put courage into it and high purpose  The Master smiled  What wouldst thou do Chiu112 he said  He answered Give me a land of sixty or seventy or fifty or sixty square miles and within three years I could give the people plenty As for courtesy and music they would wait the coming of a gentleman  And what wouldst thou do Chih113  He answered I do not speak of what I can do but of what I should like to learn At services in the Ancestral Temple or at the Grand Audience I should like to fill a small part  And what wouldst thou do Tien114  Tien stopped playing pushed his still sounding lute aside rose and answered My choice would be unlike those of the other three  What harm in that said the Master Each but spake his mind  In the last days of spring all clad for the springtime with five or six young men and six or seven lads I would bathe in the Yi be fanned by the wind in the Rain Gods glade and go back home singing  The Master said with a sigh I side with Tien  Tseng Hsi stayed after the other three had left and said What did ye think Sir of what the three disciples said  Footnote 112 Jan Yu  Footnote 113 Kunghsi Hua  Footnote 114 Tseng Hsi  Each but spake his mind said the Master  Why did ye smile at Yu115 Sir  Lands are swayed by courtesy but what he said was not modest That was why I smiled Yet did not Chiu speak of a state Where would sixty or seventy or fifty or sixty square miles be found that are not a state And did not Chih too speak of a state Who but great vassals are there in the Ancestral Temple or at the Grand Audience But if Chih were to take a small part who could fill a big one  Footnote 115 Tzulu     BOOK XII   1 Yen YÃ¼an asked What is love  The Master said Love is to conquer self and turn to courtesy If we could conquer self and turn to courtesy for one day all below heaven would turn to love Does love flow from within or does it flow from others  Yen YÃ¼an said May I ask what are its signs  The Master said To be always courteous of eye and courteous of ear to be always courteous in word and courteous in deed  Yen YÃ¼an said Though I am not clever I hope to live by these words  2 Chungkung asked What is love  The Master said Without the door to behave as though a great guest were come to treat the people as though we tendered the great sacrifice not to do unto others what we would not they should do unto us to breed no wrongs in the state and breed no wrongs in the home  Chungkung said Though I am not clever I hope to live by these words  3 Ssuma Niu116 asked What is love  The Master said Love is slow to speak  To be slow to speak Can that be called love  The Master said Can that which is hard to do be lightly spoken  Footnote 116 A disciple  4 Ssuma Niu asked What is a gentleman  The Master said A gentleman knows neither sorrow nor fear  No sorrow and no fear Can that be called a gentleman  The Master said He searches his heart it is blameless so why should he sorrow what should he fear  5 Ssuma Niu cried sadly All men have brothers I alone have none  Tzuhsia said I have heard that life and death are allotted that wealth and honours are in Heavens hand A gentleman is careful and does not trip he is humble towards others and courteous All within the four seas are brethren how can a gentleman lament that he has none  6 Tzuchang asked What is insight  The Master said Not to be moved by lap and wash of slander or by plaints that pierce to the quick may be called insight Yea whom lap and wash of slander or plaints that pierce to the quick cannot move may be called farsighted  7 Tzukung asked What is kingcraft  The Master said Food enough troops enough and the trust of the people  Tzukung said If it had to be done which could best be spared of the three  Troops said the Master  And if we had to which could better be spared of the other two  Food said the Master From of old all men die but without trust a people cannot stand  8 Chi Tzucheng117 said It is the stuff alone that makes a gentleman what can art do for him  Alas my lord said Tzukung how ye speak of a gentleman No team overtakes the tongue The art is no less than the stuff the stuff is no less than the art Without the fur a tiger or a leopards hide is no better than the hide of a dog or a goat  9 Duke Ai said to Yu Jo118 In this year of dearth I have not enough for my wants what should be done  Ye might tithe the people answered Yu Jo  A fifth is not enough said the Duke how could I do with a tenth  When all his folk have enough answered Yu Jo shall the lord alone not have enough When none of his folk have enough shall the lord alone have enough  10 Tzuchang asked how to raise the mind and scatter delusions  The Master said Put faithfulness and truth first and follow the right the mind will be raised We wish life to what we love and death to what we hate To wish it both life and death is a delusion      Whether prompted by wealth or not     Yet ye made a distinction  Footnote 117 Minister of Wei  Footnote 118 A disciple of Confucius  11 Ching119 Duke of Chi asked Confucius What is kingcraft  Confucius answered For the lord to be lord and the liege liege the father to be father and the son son  True indeed said the Duke If the lord were no lord and the liege no liege the father no father and the son no son though the grain were there could I get anything to eat  12 The Master said To stint a quarrel with half a word Yu120 is the man  Tzulu never slept over a promise  13 The Master said At hearing lawsuits I am no better than others What is needed is to stop lawsuits  14 Tzuchang asked What is kingcraft  The Master said To be tireless of thought and faithful in doing  15 The Master said Breadth of reading and the ties of courtesy will keep us too from false paths  16 The Master said A gentleman shapes the good in man he does not shape the bad in him The small man does the contrary  17 Chi Kang121 asked Confucius how to rule  Confucius answered To rule is to set straight If ye give a straight lead Sir who will dare not go straight  Footnote 119 Confucius was in Chi in 517 BC The duke was overshadowed by his ministers and thought of setting aside his eldest son  Footnote 120 Tzulu  Footnote 121 On the death of Chi Huan his brother Chi Kang set aside Chi Huans small son and made himself head of the clan  18 Chi Kang being troubled by robbers asked Confucius about it  Confucius answered If ye did not wish it Sir though ye rewarded him no man would steal  19 Chi Kang speaking of kingcraft to Confucius said To help those that follow the Way should we kill the men that will not  Confucius answered Sir what need has a ruler to kill If ye wished for goodness Sir the people would be good The gentlemans mind is the wind and grass are the minds of small men as the wind blows so must the grass bend  20 Tzuchang asked What must a knight be for him to be called eminent  The Master said What dost thou mean by eminence  Tzuchang answered To be famous in the state and famous in his home  That is fame not eminence said the Master The eminent man is plain and straight and loves right He weighs words and scans looks he takes pains to come down to men And he shall be eminent in the state and eminent in his house The famous man wears a mask of love but his deeds belie it Selfconfident and free from doubts fame will be his in the state and fame be his in his home  21 Whilst walking with the Master in the Rain Gods glade Fan Chih said to him May I ask how to raise the mind amend evil and scatter errors  Well asked said the Master Rank thy work above success will not the mind be raised Fight the bad in thee not the bad in other men will not evil be mended One angry morning to forget both self and kin is that no error  22 Fan Chih asked What is love  The Master said To love men  He asked What is wisdom  The Master said To know men  Fan Chih did not understand  The Master said Lift up the straight put by the crooked and crooked men will grow straight  Fan Chih withdrew and seeing Tzuhsia said to him The Master saw me and I asked him what wisdom is He answered Lift up the straight put by the crooked and crooked men will grow straight What did he mean  How rich a saying said Tzuhsia When Shun122 had all below heaven he chose Kaoyao from the many lifted him up and the men without love fled When Tang123 had all below heaven he chose Yiyin124 from the many lifted him up and the men without love fled  Footnote 122 An emperor of the golden age  Footnote 123 The founder of the Shang or Yin dynasty  Footnote 124 Tangs chief minister Yiyin said Whomsoever I serve is he not my lord Whomsoever I rule are they not my people He came in when there was order and came in too when there were tumults He said When Heaven begat the people the man that first understood was sent to waken those slow to understand and the man that first woke was sent to waken those slow to wake I am he that woke first among Heavens people With the help of the Way I shall wake the people For man or wife of all the people below heaven to have missed the blessings of Yao and Shun was the same he thought as if he himself had pushed him into the ditch The burden he shouldered was the weight of all below heaven Mencius Book X chapter 1  23 Tzukung asked about friends  The Master said Talk faithfully to them and guide them well If this is no good stop Do not bring shame upon thee  24 Tsengtzu said A gentleman gathers friends by culture and stays love with friendship     BOOK XIII   1 Tzulu asked how to rule  The Master said Go before work hard  When asked to say more he said Never flag  2 When he was steward of the Chi Chungkung asked how to rule  The Master said Let officers act first overlook small faults lift up brains and worth  Chungkung said How shall I get to know brains and worth to lift them up  Lift up those thou dost know said the Master and those thou dost not know will other men pass by  3 Tzulu said The lord of Wei125 waits for you Sir to govern How shall ye begin  Surely said the Master by putting names right  Indeed said Tzulu that is farfetched Sir Why put them right  What a savage Yu126 is said the Master A gentleman is tonguetied when he does not understand If names are not right words do not fit If words do not fit affairs go wrong If affairs go wrong neither courtesy nor music thrive If courtesy and music do not thrive law and justice fail And if law and justice fail them the people can move neither hand nor foot So a gentleman must be ready to put names into speech and words into deed A gentleman is nowise careless of his words  Footnote 125 See note to Book VII Â 14 Tzulu was his officer  Footnote 126 Tzulu  4 Fan Chih asked to be taught husbandry  The Master said An old husbandman knows more than I do  He asked to be taught gardening  The Master said An old gardener knows more than I do  After Fan Chih had gone the Master said How small a man If those above love courtesy no one will dare to slight them if they love right no one will dare to disobey if they love truth no one will dare to hide the heart Then from the four corners of the earth folk will gather with their children on their backs and what need will there be for husbandry  5 The Master said Though a man have conned three hundred poems if he stands helpless when put to govern if he cannot answer for himself when he is sent to the four corners of the earth many as they are what have they done for him  6 The Master said The man of upright life is obeyed before he speaks commands even go unheeded when the life is crooked  7 The Master said The governments of Lu and Wei are brothers  8 Speaking of Ching of the ducal house of Wei the Master said He was wise in his private life When he had begun to save he said This seems enough When he grew better off he said This seems plenty When he had grown rich he said This seems splendour  9 When Jan Yu was driving him to Wei the Master said What numbers  Jan Yu said Since numbers are here what next is needed  Wealth said the Master  And what comes next after wealth  Teaching said the Master  10 The Master said If I were employed for a twelvemonth much could be done In three years all would be ended  11 The Master said If good men were to govern a land for an hundred years cruelty would be conquered and putting to death done away with How true are these words  12 The Master said Even if a king were to govern a lifetime would pass before love dawned  13 The Master said What is governing to a man that can rule himself If he cannot rule himself how shall he rule others  14 As the disciple Jan127 came back from court the Master said to him Why so late  I had business of state he answered  Household business said the Master If it had been business of state though I am out of office I should have heard of it  15 Duke Ting asked Is there any one saying that can bless a kingdom  Footnote 127 Jan Yu He was in the service of the Chi not of the Duke of Lu  Confucius answered That is more than words can do But men have a saying To be lord is hard and to be minister is not easy And if one knew how hard it is to be lord might not this one saying almost bless a kingdom  And is there any one saying that can wreck a kingdom  That is more than words can do Confucius answered But men have a saying My only delight in being lord is that no one withstands what I say Now if what he says is good and no one withstands him is not that good too But if it is not good and no one withstands him might not this one saying almost wreck a kingdom  16 The Duke of She asked What is kingcraft  The Master answered For those near us to be happy and those far off to come  17 When he was governor of ChÃ¼fu Tzuhsia asked how to rule  The Master said Be not eager for haste look not for small gains Nothing done in haste is thorough and looking for small gains big things are left undone  18 The Duke of She told Confucius Among the upright men of my clan if the father steals a sheep his son bears witness  Confucius answered Our clans uprightness is unlike that The father screens his son and the son screens his father There is uprightness in this  19 Fan Chih asked What is love  The Master said To be humble at home earnest at work and faithful to all Even among wild tribes none of this must be dropped  20 Tzukung asked What is it that we call knighthood  The Master said To be called a knight a man must be shamefast in all that he does if he is sent to the four corners of the earth he must not disgrace his lords commands  May I ask who would come next  He that his clansmen call a good son and his neighbours call modest  And who would come next  A man that clings to his word and sticks to his course a flinty little fellow would perhaps come next  And how are the crown servants of today  What The weights and measures men said the Master Are they worth reckoning  21 The Master said As I cannot get men of the middle way I have to fall back on zealous and austere men Zealous men push ahead and take things up and there are things that austere men will not do  22 The Master said The men of the south have a saying Unless he is stable a man will make neither a wizard nor a leech This is true His instability of mind may disgrace him  The Master said Neglect of the omens that is all  23 The Master said Gentlemen unite but are not the same Small men are all the same but each for himself  24 Tzukung said If the whole countryside loved a man how would that be  It would not do said the Master  And how would it be if the whole countryside hated him  It would not do said the Master It would be better if all the good men of the countryside loved him and all the bad men hated him  25 The Master said A gentleman is easy to serve and hard to please If we go from the Way to please him he is not pleased but his commands are measured to the man A small man is hard to serve and easy to please Though we go from the Way to please him he is pleased but he expects everything of his men  26 The Master said A gentleman is highminded not proud the small man is proud but not highminded  27 The Master said Strength and courage simplicity and modesty are akin to love  28 Tzulu asked When can a man be called a knight  The Master said To be earnest encouraging and kind may be called knighthood earnest and encouraging with his friends and kind to his brothers  29 The Master said If a good man taught the people for seven years they would be fit to bear arms too  30 The Master said To take untaught men to war is called throwing them away     BOOK XIV   1 Hsien128 asked What is shame  The Master said To draw pay when the land keeps the Way and to draw pay when it has lost the Way is shame  2 To eschew strife and bragging spite and greed would that be love  The Master said That may be hard to do but I do not know that it is love  3 The Master said A knight that is fond of ease does not amount to a knight  4 The Master said Whilst the land keeps the Way be fearless of speech and fearless in deed when the land has lost the Way be fearless in deed but soft of speech  5 The Master said A man of mind can always talk but talkers are not always men of mind Love is always bold though boldness is found without love  6 Nankung Kuo said to Confucius Yi129 shot well Ao pushed a boat over land each died before his time YÃ¼ and Chi toiled at their crops and had all below heaven  The Master did not answer But when Nankung Kuo had gone he said What a gentleman he is How he honours mind  Footnote 128 The disciple YÃ¼an Ssu  Footnote 129 Yi was killed by his best pupil who said to himself In all the world no one but Yi shoots better than I do So he killed him  7 The Master said Alas there have been gentlemen without love But there has never been a small man that was not wanting in love  8 The Master said Can he love thee that never tasks thee Can he be faithful that never chides  9 The Master said The decrees were drafted by Pi Shen criticised by Shihshu polished by the Foreign Minister TzuyÃ¼ and given the final touches by Tzuchan of Tungli  10 When he was asked what he thought of Tzuchan the Master said A kindhearted man  Asked what he thought of Tzuhsi the Master said Of him What I think of him  Asked what he thought of Kuan Chung130 the Master said He was the man that drove the Po from the town of Pien with its three hundred households to end his days on coarse rice without his muttering a word  Footnote 130 See note to Book III Â 22  11 The Master said Not to grumble at being poor is hard not to be proud of wealth is easy  12 The Master said Meng Kungcho is more than fit to be steward of Chao or Wei but he could not be minister of Teng or Hsieh  13 Tzulu asked what would make a fullgrown man  The Master said The wisdom of Tsang Wuchung Kungchos lack of greed Chuang of Piens boldness and the skill of Jan Chiu graced by courtesy and music might make a fullgrown man  But now he said who asks the like of a fullgrown man He that in sight of gain thinks of right who when danger looms stakes his life who though the bond be old does not forget what he has been saying all his life might make a fullgrown man  14 Speaking of Kungshu Wen the Master said to Kungming Chia Is it true that thy master does not speak nor laugh nor take a gift  Kungming Chia answered That is saying too much My master only speaks when the time comes so no one tires of his speaking he only laughs when he is merry so no one tires of his laughter he only takes when it is right to take so no one tires of his taking  It may be so said the Master but is it  15 The Master said When he held Fang and asked Lu to appoint an heir though Tsang Wuchung said he was not forcing his lord I do not believe it  16 The Master said Duke Wen of Chin was deep but dishonest Duke Huan of Chi was honest but shallow  17 Tzulu said When Duke Huan slew the young duke Chiu and Shao Hu died with him but Kuan Chung did not was not this want of love131  Footnote 131 Chiu and Huan were brothers sons of the Duke of Chi When their father died their uncle seized the throne To preserve the rightful heir Shao Hu and Kuan Chung fled with Chiu to Lu whilst Huan escaped to another state Later on the usurper was murdered and Huan returned to Chi and secured the throne He then required the Duke of Lu to kill his brother and deliver up to him Shao Hu and Kuan Chung This was done But on the way to Chi Shao Hu killed himself Kuan Chung on the other hand took service under Duke Huan became his chief minister and raised the state to greatness See note to Book III Â 22  The Master said Duke Huan gathered the great vassals round him not by chariots of war but through the might of Kuan Chung What can love do more What can love do more  18 Tzukung said When Duke Huan slew the young duke Chiu and Kuan Chung could not face death and even became his minister surely he showed want of love  The Master said By Kuan Chung helping Duke Huan to put down the great vassals and make all below heaven one men have fared the better from that day to this But for Kuan Chung our hair would hang down our backs and our coats would button to the left or should he like the bumpkin and his lass their troth to keep have drowned in a ditch unknown to anyone  19 The minister Hsien who had been steward to Kungshu Wen went to audience of the Duke together with Wen  When the Master heard of it he said He is rightly called Wen wellbred  20 The Master spake of Ling Duke of Weis contempt for the Way  Kang132 said If this be so how does he escape ruin  Confucius answered With Chungshu YÃ¼ in charge of the guests the reader To in charge of the Ancestral Temple and Wangsun Chia in charge of the troops how should he come to ruin  21 The Master said When words are unblushing they are hard to make good  Footnote 132 Chi Kang  22 Chen Cheng murdered Duke Chien133  Confucius bathed and went to court and told Duke Ai saying Chen Heng has murdered his lord pray punish him  The Duke said Tell the three chiefs  Confucius said As I follow in the wake of the ministers I dared not leave this untold but the lord says Tell the three chiefs  He told the three chiefs It did no good  Confucius said As I follow in the wake of the ministers I dared not leave this untold  23 Tzulu asked how to serve a lord  The Master said Never cheat him stand up to him  24 The Master said A gentlemans life leads upwards the small mans life leads down  25 The Master said The men of old learned for their own sake today men learn for show  26 ChÃ¼ PoyÃ¼ sent a man to Confucius  As they sat together Confucius asked him What does your master do  He answered My master wishes to make his faults fewer but cannot  When the messenger had left the Master said A messenger a messenger indeed  27 The Master said When not in office discuss not policy  Footnote 133 481 BC two years before the death of Confucius who was not at the time in office Chien was Duke of Chi a state bordering on Lu The three chiefs were the heads of the three great clans that were allpowerful in Lu  28 Tsengtzu said Even in his thoughts a gentleman does not outstep his place  29 The Master said A gentleman is shamefast of speech his deeds go further  30 The Master said In the way of the gentleman there are three things that I cannot achieve Love is never troubled wisdom has no doubts courage is without fear  That is what ye say Sir said Tzukung  31 Tzukung would liken this man to that  The Master said What talents Tzu has Now I have no time for this  32 The Master said Sorrow not at being unknown sorrow for thine own shortcomings  33 The Master said Not to expect to be cheated nor to look for falsehood and yet to see them coming shows worth in a man  34 Weisheng Mou said to Confucius How dost thou still find roosts to roost on Chiu unless by wagging a glib tongue  Confucius answered I dare not wag a glib tongue but I hate stubbornness  35 The Master said A steed is not praised for his strength but praised for his mettle  36 One said To mete out good for evil how were that  And how would ye meet good said the Master Meet evil with justice meet good with good  37 The Master said Alas no man knows me Tzukung said Why do ye say Sir that no man knows you  The Master said Never murmuring against Heaven nor finding fault with men learning from the lowest cleaving the heights I am known but to one but to Heaven  38 Liao the dukes uncle spake ill of Tzulu to Chisun134  Tzufu Chingpo told this to Confucius saying My masters mind is surely being led astray by the dukes uncle but I have still the strength to expose his body in the marketplace  The Master said If the Way is to be kept that is the Bidding and if the Way is to be lost this is the Bidding What can the dukes uncle do against the Bidding  39 The Master said Men of worth flee the world the next best flee the land Then come those that go at a look then those that go at words  40 The Master said Seven men did so  41 Tzulu spent a night at Shihmen  The gatekeeper asked him Whence comest thou  From Confucius answered Tzulu  The man that knows it is no good and yet must still be doing said the gatekeeper  42 When the Master was chiming his sounding stones in Wei a basketbearer said as he passed the door The heart is full that chimes those stones But then he said For shame What a tinkling sound If no one knows thee have done      Wade the deep places     Lift thy robe through the shallows  Footnote 134 The head of the Chi clan in whose service Tzulu was  The Master said Where theres a will that is nowise hard  43 Tzuchang said What does the Book mean by saying that Kaotsung135 in his mourning shed did not speak for three years  Why pick out Kaotsung said the Master The men of old were all thus For three years after their lord had died the hundred officers did each his duty and hearkened to the chief minister  44 The Master said When those above love courtesy the people are easy to lead  45 Tzulu asked What makes a gentleman  The Master said To be bent on becoming better  Is that all said Tzulu  By becoming better to bring peace to men  And is that all  By becoming better to bring peace to all men said the Master Even Yao and Shun were still struggling to become better and so bring peace to all men  46 YÃ¼an Jang awaited the Master squatting  Unruly when young unmentioned as man undying when old spells goodfornothing said the Master and he hit him on the leg with his staff  47 When a lad from the village of ChÃ¼eh was made messenger someone asked saying Is it because he is doing well  The Master said I have seen him sitting in a mans seat and seen him walking abreast of his elders He does not try to do well he wishes to be quickly grown up  Footnote 135 An emperor of the Yin dynasty     BOOK XV   1 Ling Duke of Wei asked Confucius about the line of battle  Confucius answered Of the ritual of dish and platter136 I have heard somewhat I have not learnt warfare  He left the next day  In Chen grain ran out His followers were too ill to rise Tzulu showed that he was put out  Has a gentleman to face want too he said  Gentlemen have indeed to face want said the Master The small man when he is in want runs to excess  2 The Master said Tzu137 dost thou not take me for a man that has learnt much and thought it over  Yes he answered is it not so  No said the Master I string all into one  3 The Master said Yu138 how few men know greatheartedness  Footnote 136 For sacrifice  Footnote 137 Tzukung  Footnote 138 Tzulu probably said to him on the occasion mentioned in Â I  4 The Master said To rule doing nothing was what Shun did For what is there to do Selfrespect and to set the face to rule is all  5 Tzuchang asked how to get on  The Master said Be faithful and true of word plain and lowly in thy walk thou wilt get on even in tribal lands If thy words be not faithful and true thy walk not plain and lowly wilt thou get on even in thine own town Standing see these words ranged before thee driving see them written upon the yoke Then thou wilt get on  Tzuchang wrote them on his girdle  6 The Master said Straight indeed was the historian YÃ¼ Like an arrow whilst the land kept the Way and like an arrow when it lost the Way What a gentleman was ChÃ¼ PoyÃ¼ Whilst the land kept the Way he took office and when the land had lost the Way he rolled himself up in thought  7 The Master said Not to speak to him that has ears to hear is to spill the man To speak to a man without ears to hear is to spill thy words Wisdom spills neither man nor words  8 The Master said A high will or a loving heart will not seek life at cost of love To fulfil love they will kill the body  9 Tzukung asked how to attain to love  The Master said A workman bent on good work must first sharpen his tools In the land that is thy home serve those that are worthy among the great and make friends with loving knights  10 Yen YÃ¼an asked how to rule a kingdom  The Master said Follow the Hsia seasons drive in the chariot of Yin wear the headdress of Chou take for music the Shao and its dance Banish the strains of Cheng and flee men that are glib for the strains of Cheng are wanton and glib speakers are dangerous  11 The Master said Without thought for far off things there shall be trouble near at hand  12 The Master said All is ended I have seen no one that loves mind as he loves looks  13 The Master said Did not Tsang Wen filch his post He knew the worth of Liuhsia Hui139 and did not stand by him  14 The Master said By asking much of self and little of other men ill feeling is banished  15 The Master said Unless a man say Would this do Would that do I can do nothing for him  16 The Master said When all day long there is no talk of right and little wiles find favour the company is in hard case  17 The Master said Right is the stuff of which a gentleman is made Done with courtesy spoken with humility rounded with truth right makes a gentleman  18 The Master said His shortcomings trouble a gentleman to be unknown does not trouble him  19 The Master said A gentleman fears that his name shall be no more heard when life is done  Footnote 139 Another of these _seigneurs du temps jadis_ that is more to us than a dim shadow for he still lives in the pages of Mencius who tells us that He was not ashamed of a foul lord and did not refuse a small post On coming in he did not hide his worth but held his own way Neglected and idle he did not grumble straitened and poor he did not mope When brought together with country folk he was quite at his ease and could not bear to leave them Thou art thou he said and I am I standing beside me with thy coat off or thy body naked how canst thou defile me Book X chapter 1 He stopped if a hand was raised to stop him for he did not care whether he went or no Book III chapter 9  20 The Master said A gentleman asks of himself the small man asks of others  21 The Master said A gentleman is firm not quarrelsome a friend not a partisan  22 The Master said A gentleman does not raise a man for his words nor spurn the speech for the man  23 Tzukung said Is there one word by which we may walk till life ends  The Master said Fellowfeeling perhaps Do not do unto others what thou wouldst not have done to thee  24 The Master said Of the men that I meet whom do I cry down whom do I overpraise Or if I overpraise them it is after testing them It was owing to this people that the three lines of kings went the straight way  25 The Master said I have still known historians that would leave a gap in their text and men that would lend a horse to another to ride Now it is so no more  26 The Master said Cunning words confound the mind petty impatience confounds great projects  27 The Master said The hatred of the many must be looked into the love of the many must be looked into  28 The Master said The man can exalt the Way it is not the Way that exalts the man  29 The Master said The fault is to cleave to a fault  30 The Master said I have spent whole days without food and whole nights without sleep thinking and gained nothing by it Learning is better  31 The Master said A gentleman thinks of the Way he does not think of food Sow and famine may follow learn and pay may come but a gentleman grieves for the Way to be poor does not grieve him  32 The Master said What wisdom has got will be lost again unless love hold it fast Wisdom to get and love to hold fast without dignity of bearing will not be honoured among men Wisdom to get love to hold fast and dignity of bearing without courteous ways are not enough  33 The Master said A gentleman has no small knowledge but he can carry out big things the small man can carry out nothing big but he may be knowing in small things  34 The Master said Love is more to the people than fire and water I have seen men come to their death by fire and water I have seen no man that love brought to his death  35 The Master said When love is at stake yield not to an army  36 The Master said A gentleman is consistent not changeless  37 The Master said A servant of the king honours his work and puts food after it  38 The Master said Learning knows no rank  39 The Master said Mingle not in projects with a man whose way is not thine  40 The Master said The whole end of speech is to be understood  41 When he saw the musicmaster Mien the Master said as they came to the steps Here are the steps On coming to the mat he said Here is the mat When all were seated the Master told him He and he are here  After the musicmaster had gone Tzuchang said Is this the way to speak to a musicmaster  The Master said Surely it is the way to help a musicmaster140  Footnote 140 The man being blind as so many musicians are in the East     BOOK XVI   1 The Chi was about to make war on ChuanyÃ¼141  When Confucius saw Jan Yu and Chilu142 they said to him The Chi is going to deal with ChuanyÃ¼  Confucius said After all Chiu143 art thou not in the wrong The kings of old made ChuanyÃ¼ lord of Tung Meng144 Moreover as ChuanyÃ¼ is inside our borders it is the liege of the spirits of earth and corn of our land so how can ye make war upon it  Jan Yu said Our master wishes it Tzulu and I his two ministers do not either of us wish it  Confucius said Chiu Chou Jen used to say He that can put forth his strength takes his place in the line he that cannot stands back Who would take to help him a man that is no stay in danger and no support in falling Moreover what thou sayest is wrong If a tiger or a buffalo escapes from his pen if tortoiseshell or jade is broken in its case who is to blame  Jan Yu said But ChuanyÃ¼ is now strong and it is near to Pi145 if it is not taken now in days to come it will bring sorrow on our sons and grandsons  Footnote 141 A small feudatory state of Lu  Footnote 142 Tzulu He and Jan Yu were in the service of the Chi  Footnote 143 Jan Yu  Footnote 144 A mountain in ChuanyÃ¼ Since the Emperor had given the ruler of ChuanyÃ¼ the right to sacrifice to its mountains that state had some measure of independence though it was feudatory to Lu and within its borders  Footnote 145 A town belonging to the Chi  Chiu said Confucius instead of saying I want it a gentleman hates to plead that he needs must I have heard that fewness of men does not vex a king or a chief but unlikeness of lot vexes him Poverty does not vex him but want of peace vexes him For if wealth were even no one would be poor In harmony is number peace prevents a fall Thus if far off tribes will not submit bring them in by encouraging mind and art and when they come in give them peace But now when far off tribes will not submit ye two helpers of your lord cannot bring them in The kingdom is split and falling and ye cannot save it Yet inside our land ye plot to move spear and shield The sorrows of Chis grandsons will not rise in ChuanyÃ¼ I fear they will rise within the palace wall  2 Confucius said When the Way is kept below heaven courtesy music and punitive wars flow from the Son of heaven When the Way is lost below heaven courtesy music and punitive wars flow from the great vassals When they flow from the great vassals they will rarely last for ten generations When they flow from the great ministers they will rarely last for five generations When underlings sway the countrys fate they will rarely last for three generations When the Way is kept below heaven power does not lie with the great ministers When the Way is kept below heaven common folk do not argue  3 Confucius said For five generations its income has passed from the ducal house146 for four generations power has lain with the great ministers and humbled therefore are the sons and grandsons of the three Huan  Footnote 146 Of Lu  4 Confucius said There are three friends that help us and three that do us harm The friends that help us are a straight friend an outspoken friend and a friend that has heard much The friends that harm us are plausible friends friends that like to flatter and friends with a glib tongue  5 Confucius said There are three delights that do good and three that do us harm Those that do good are delight in dissecting good form and music delight in speaking of the good in men and delight in having many worthy friends Those that do harm are proud delights delight in idle roving and delight in the joys of the feast  6 Confucius said Men that wait upon lords fall into three mistakes To speak before the time has come is rashness Not to speak when the time has come is secrecy To speak heedless of looks is blindness  7 Confucius said A gentleman has three things to guard against  In the days of thy youth ere thy strength is steady beware of lust When manhood is reached in the fulness of strength beware of strife In old age when thy strength is broken beware of greed  8 Confucius said A gentleman holds three things in awe He is in awe of the Bidding of Heaven he is in awe of great men and he is awed by the words of the holy  The small man knows not the Bidding of Heaven and holds it not in awe He is saucy towards the great he makes game of holy mens words  9 Confucius said The best men are born wise Next come those that grow wise by learning then those that learn from toil Those that do not learn from toil are the lowest of the people  10 Confucius said A gentleman has nine aims To see clearly to understand what he hears to be warm in manner dignified in bearing faithful of speech keen at work to ask when in doubt in anger to think of difficulties and in sight of gain to think of right  11 Confucius said In sight of good to be filled with longing to look on evil as scalding to the touch I have seen such men I have heard such words  To live apart and search thy will to achieve thy Way by doing right I have heard these words but I have seen no such men  12 Ching Duke of Chi had a thousand teams of horses but the people on his death day found no good in him to praise Poyi147 and Shuchi148 starved at the foot of Shouyang and to this day the people still praise them  Is not this the clue to that  Footnote 147 See note to Book V Â 22  Footnote 148 See note to Book V Â 22  13 Chen Kang149 asked PoyÃ¼150 Apart from us have ye heard anything Sir  He answered No once as my father stood alone and I sped across the hall he said to me Art thou learning poetry I answered No He that does not learn poetry he said has no hold on words I withdrew and learned poetry  Another day when he again stood alone and I sped across the hall he said to me Art thou learning courtesy I answered No He that does not learn courtesy he said has no foothold I withdrew and learned courtesy These two things I have heard  Chen Kang withdrew and cried gladly I asked one thing and I get three I hear of poetry I hear of courtesy and I hear too that a gentleman stands aloof from his son  14 A king speaks of his wife as my wife She calls herself handmaid Her subjects speak of her as our lords wife but when they speak to foreigners they say our little queen Foreigners speak of her too as the lords wife  Footnote 149 The disciple Tzuchin  Footnote 150 The son of Confucius     BOOK XVII   1 Yang Huo151 wished to see Confucius Confucius did not go to see him He sent Confucius a sucking pig Confucius chose a time when he was out and went to thank him They met on the road  He said to Confucius Come let us speak together To cherish a gem and undo the kingdom can that be called love  It cannot said Confucius  To love office and miss the hour again and again can that be called wisdom  It cannot said Confucius  The days and months go by the years do not wait for us  True said Confucius I must take office  2 The Master said Men are near to each other by nature the lives they lead sunder them  3 The Master said Only the wisest and stupidest of men never change  4 As the Master came to Wucheng152 he heard sounds of lute and song  Why use an oxknife to kill a fowl said the Master with a pleased smile  Tzuyu answered Master once I heard you say A gentleman that has learnt the Way loves men small folk that have learnt the Way are easy to rule  Footnote 151 The allpowerful unscrupulous minister of the Chi  Footnote 152 A very small town of which the disciple Tzuyu was governor  My twothree boys said the Master what Yen153 says is true I spake before in play  5 Kungshan Fujao154 held Pi in rebellion He called the Master who wished to go  Tzulu said in displeasure This cannot be why must ye go to Kungshan  The Master said He calls me and would that be all Could I not make an Eastern Chou155 of him that uses me  6 Tzuchang asked Confucius what is love  Confucius said Love is to mete out five things to all below heaven  May I ask what they are  Modesty and bounty said Confucius truth earnestness and kindness Modesty escapes insult bounty wins the many truth gains mens trust earnestness brings success and kindness is enough to make men work  7 Pi Hsi called the Master who wished to go  Tzulu said Master I heard you say once To men whose own life is evil no gentleman will go Pi Hsi holds Chungmou in rebellion how could ye go to him Sir  Yes I said so answered the Master But is not a thing called hard that cannot be ground thin white if steeping will not turn it black And am I a gourd Can I hang without eating  Footnote 153 Tzuyu  Footnote 154 Steward of the Chi and a confederate of Yang Huo  Footnote 155 A kingdom in the east to match Chou in the west the home of Kings Wen and Wu  8 The Master said Hast thou heard the six words Yu156 and the six they sink into  He answered No  Sit down and I shall tell thee The thirst for love without love of learning sinks into simpleness Love of knowledge without love of learning sinks into vanity Love of truth without love of learning sinks into cruelty Love of straightness without love of learning sinks into rudeness Love of daring without love of learning sinks into turbulence Love of strength without love of learning sinks into oddity  9 The Master said My little children why do ye not learn poetry Poetry would ripen you teach you insight friendliness and forbearance show you how to serve your father at home and teach your lord abroad and it would teach you the names of many birds and beasts plants and trees  10 The Master said to PoyÃ¼157 Hast thou done the Chounan and Shaonan158 He that has not done the Chounan and Shaonan is like a man standing with his face to the wall  11 The Master said Courtesy courtesy is the cry but are jade and silk the whole of courtesy Music music is the cry but are bells and drums the whole of music  12 The Master said Fierce looks and weakness within are like the small man like the thief that breaks through or clambers over a wall  Footnote 156 Tzulu  Footnote 157 His son  Footnote 158 The first two books of _The Book of Poetry_  13 The Master said The plain townsman is the bane of mind  14 The Master said To tell unto the dust all that we hear upon the way is to lay waste the mind  15 The Master said How can we serve the king with a low fellow who is itching to get what he wants and trembling to lose what he has This trembling to lose what he has may lead him anywhere  16 The Master said Men of old had three failings which have perhaps died out today Ambitious men of old were not nice now they are unprincipled Stern men of old were hard now they are quarrelsome Ignorant men of old were straight now they are false That is all  17 The Master said Smooth words and fawning looks are seldom found with love  18 The Master said I hate the ousting of scarlet by purple I hate the strains of Cheng confounders of sweet music I hate a sharp tongue the ruin of kingdom and home  19 The Master said I wish no word were spoken  Tzukung said Sir if ye said no word what could your little children write  The Master said What are the words of Heaven The four seasons pass the hundred things bear life What are the words of Heaven  20 Ju Pei wished to see Confucius Confucius pleaded sickness but as the messenger left his door he took a lute and sang so the messenger should hear  21 Tsai Wo159 asked about mourning for three years He thought that one was enough  If for three years gentlemen forsake courtesy courtesy must suffer If for three years they forsake music music must decay The old grain passes the new grain sprouts the round of woods for the firedrill is ended in one year  The Master said Feeding on rice clad in brocade couldst thou be at rest  I could he answered  Then do what gives thee rest But a gentleman when he is mourning has no taste for sweets and no ear for music he cannot rest in his home So he gives these up Now they give thee rest then keep them  After Tsai Wo had gone the Master said YÃ¼s160 want of love At the age of three a child first leaves the arms of his father and mother and mourning lasts for three years everywhere below heaven But did YÃ¼ have for three years the love of his father and mother  22 The Master said It is hard indeed when a man eats his fill all day and has nothing to task the mind Could he not play at chequers Even that were better  23 Tzulu said Do gentlemen honour daring  They put right higher said the Master With daring and no sense of right gentlemen turn rebels and small men turn robbers  24 Tzukung said Do gentlemen hate too  Footnote 159 A disciple  Footnote 160 Tsai Wo  They do said the Master They hate the sounding of evil deeds they hate men of low estate that slander those over them they hate daring without courtesy they hate men that are stout and fearless but blind  And Tzu161 he said dost thou hate too  I hate those that take spying for wisdom who take want of manners for courage and take taletelling for honesty  25 The Master said Only maids and servinglads are hard to train If we draw near to them they get unruly if we hold them off they grow spiteful  26 The Master said When a man of forty is hated he will be so to the end  Footnote 161 Tzukung     BOOK XVIII   1 The lord of Wei162 left the lord of Chi163 was made a slave Pikan164 spake out and died  Confucius said Three of the Yin had love  2 Whilst Liuhsia Hui165 was Chief Knight166 he was dismissed thrice  Men said Is it not yet time to leave Sir  He answered If I serve men the straight way where can I go without being dismissed thrice If I am to serve men the crooked way why should I leave the land of my father and mother  3 Speaking of how to treat Confucius Ching Duke of Chi said I cannot treat him as I do the Chi I put him between Chi and Meng  I am old he said I cannot use him  Confucius left  4 The men of Chi167 sent a gift of music girls Chi Huan accepted them and for three days no court was held  Confucius left  Footnote 162 Kinsmen of the tyrant Chou Hsin who brought the house of Yin to an end  Footnote 163 Kinsmen of the tyrant Chou Hsin who brought the house of Yin to an end  Footnote 164 Kinsmen of the tyrant Chou Hsin who brought the house of Yin to an end  Footnote 165 See note to Book XV Â 13  Footnote 166 Or Criminal Judge  Footnote 167 To Lu 497 BC The turningpoint in Confuciuss career He left office and his native land and wandered abroad for twelve long years  5 ChiehyÃ¼ the madhead of Chu as he passed Confucius sang      Phoenix bright phoenix       Thy glory is ended     Think of tomorrow       The past cant be mended     Up and away     The Court is today       With danger attended  Confucius alighted for he wished to speak with him but he hurried away and he could not speak with him  6 ChangchÃ¼ and Chiehni were working in the fields As Confucius passed them he sent Tzulu to ask for the ford  ChangchÃ¼ said Who is that holding the reins  He is Kung Chiu said Tzulu  Is he Kung Chiu of Lu  Yes said Tzulu  He knows the ford said ChangchÃ¼  Tzulu asked Chiehni  Who are ye Sir he answered  I am Chung Yu  The disciple of Kung Chiu of Lu  Yes he answered  All below heaven is seething and boiling said Chiehni who can change it How much better would it be to follow a knight that flees the world than to follow a knight that flees persons  And he went on hoeing without stop  Tzulu went and told the Master whose face fell  Can I herd with birds and beasts he said Whom but these men can I take as fellows And if the Way were kept by all below heaven I should not need to change them  7 Tzulu who was following behind met an old man carrying a basket on his staff  Tzulu asked him Have ye seen the Master Sir  The old man answered Thy four limbs are idle thou canst not sort the five seeds who is thy Master  And he planted his staff and weeded  Tzulu stood and bowed  He kept Tzulu for the night killed a fowl made millet gave them him to eat and presented his two sons  Tzulu left the next day and told the Master  The Master said He is in hiding  He sent Tzulu back to see him but when he arrived he had gone  Tzulu said Not to take office is not right If the ties of old and young cannot be thrown off how can he throw off the lieges duty to his lord He wishes to keep his life clean but he is unsettling the bonds between men To discharge that duty a gentleman takes office though he knows beforehand that the Way will not be kept  8 Poyi Shuchi YÃ¼chung Yiyi Chuchang Liuhsia Hui and Shaolien were men that hid from the world  The Master said Poyi168 and Shuchi169 did not bend the will or shame the body  Footnote 168 See note to Book V Â 22  Footnote 169 See note to Book V Â 22  We must say that Liuhsia Hui170 and Shaolien bent the will and shamed the body Their words hit mans duty their deeds hit our hopes This we can say and no more  We may say that YÃ¼chung and Yiyi lived hidden but were free of speech Their lives were clean their retreat was well weighed  But I am unlike all of them there is nothing I must or must not do  9 Chih the Great Musicmaster went to Chi Kan the conductor at the second meal went to Chu Liao the conductor at the third meal went to Tsai ChÃ¼eh the conductor at the fourth meal went to Chin The drum master Fangshu crossed the River the tambourine master Wu crossed the Han Yang the second bandmaster and Hsiang who played the sounding stones crossed the sea  10 The Duke of Chou171 said to the Duke of Lu172 A gentleman does not forsake kinsmen nor offend his great lieges by not using them He will not cast off an old friend unless he have big cause he does not ask everything of anyone  11 Chou had eight knights Pota and Pokuo Chungtu and Chunghu Shuyeh and Shuhsia Chisui and Chikua  Footnote 170 See note to Book XV Â 13  Footnote 171 See note to Book VII Â 5  Footnote 172 His son     BOOK XIX   1 Tzuchang said The knight that stakes his life when he sees danger who in sight of gain thinks of right and whose thoughts are reverent at worship and sad when he is in mourning will do  2 Tzuhsia said Goodness clutched too narrowly a belief in the Way which is not honest can they be said to be or said not to be  3 The disciples of Tzuhsia asked Tzuchang whom we should choose as our companions  Tzuchang said What does Tzuhsia say  They answered Tzuhsia says If the men be well for thee go with them if they be not well push them off  Tzuchang said This is not the same as what I had heard A gentleman honours worth and bears with the many He applauds goodness and pities weakness If I were a man of great worth what could I not bear with in others If I am without worth men will push me off why should I push other men off  4 Tzuhsia said Though there must be things worth seeing along small ways a gentleman does not follow them for fear of being left at last in the mire  5 Tzuhsia said He that each day remembers his failings and each month forgets nothing won may be said to love learning indeed  6 Tzuhsia said By wide learning and singleness of will by keen questions and home thinking we reach love  7 Tzuhsia said To master the hundred trades apprentices work in a shop by learning a gentleman finds his way  8 Tzuhsia said The small man must always gloss his faults  9 Tzuhsia said A gentleman changes thrice Looking up to him he seems stern as we draw near he warms but his speech when we hear it is sharp  10 Tzuhsia said Until they trust him a gentleman lays no burdens on his people If they do not trust him they will think it cruel Until they trust him he does not chide them Unless they trust him it will seem faultfinding  11 Tzuhsia said If we keep within the bounds of honour we can step to and fro through propriety  12 Tzuyu said The disciples the little sons of Tzuhsia can sprinkle and sweep attend and answer come in and go out but what can come of twigs without roots  When Tzuhsia heard this he said Yen Yu173 is wrong If we teach one thing in the way of a gentleman first shall we tire before reaching the next Thus plants and trees differ in size Should the way of a gentleman bewilder him To learn it first and last none but the holy are fit  Footnote 173 Tzuyu  13 Tzuhsia said A servant of the crown should give his spare strength to learning With his spare strength a scholar should serve the crown  14 Tzuyu said Mourning should stretch to grief and stop there  15 Tzuyu said Our friend Chang174 can do hard things but love is not yet his  16 Tsengtzu said Chang is so spacious so lordly that at his side it is hard to do what love bids  17 Tsengtzu said I have heard the Master say Man never shows what is in him unless it be in mourning those dear to him  18 Tsengtzu said I have heard the Master say In all else we may be as good a son as Meng Chuang but in not changing his fathers ministers or his fathers rule he is hard to match  19 The Meng175 made Yang Fu176 Chief Knight177 who spake to Tsengtzu about it  Tsengtzu said Those above have lost their way the people have long been astray When thou dost get at the truth be moved to pity not puffed with joy  20 Tzukung said Chou178 was not so very wicked Thus a gentleman hates to live in a hollow down into which runs all that is foul below heaven  21 Tzukung said A gentlemans faults are like the eating of sun or moon179 All men see them and when he mends all men look up to him  Footnote 174 Tzuchang  Footnote 175 The chief of the Meng clan powerful in Lu  Footnote 176 A disciple of Tsengtzu  Footnote 177 Or criminal judge  Footnote 178 The tyrant that ended the Yin dynasty  Footnote 179 An eclipse  22 Kungsun Chao of Wei asked Tzukung From whom did Chungni180 learn  Tzukung said The Way of Wen and Wu181 has not fallen into ruin It lives in men the big in big men the small in small men In none of them is the Way of Wen and Wu missing How should the Master not learn it What need had he for a set teacher  23 In talk with the great men of the court Shusun Wushu182 said Tzukung is worthier than Chungni  Tzufu Chingpo told this to Tzukung  Tzukung said This is like the palace wall My wall reaches to the shoulder peeping over you see the good home within The Masters wall is several fathoms high no one can see the beauty of the Ancestral Temple and the wealth of its hundred officers unless he gets in by the gate And if only a few men find the gate may not my lord have spoken the truth  24 Shusun Wushu cried down Chungni  Tzukung said It is labour lost Chungni cannot be cried down The greatness of other men is a hummock over which we can still leap Chungni is the sun or moon which no one can overleap Though the man were willing to kill himself how could he hurt the sun or moon That he does not know his own measure would only be seen the better  25 Chen Tzuchin183 said to Tzukung Ye humble yourself Sir In what is Chungni your better  Footnote 180 Confucius  Footnote 181 See Introduction  Footnote 182 Head of the Meng clan  Footnote 183 A disciple of Tzukung  Tzukung said By one word a gentleman shows wisdom by one word want of wisdom Words must not be lightly spoken No one can come up to the Master as heaven is not to be climbed by steps If the Master had power in a kingdom or a clan the saying would come true What he sets up stands he shows the way and men go it he brings peace and they come he stirs them and they are at one Honoured in life he is mourned when dead Who can come up to him     BOOK XX184   1 Yao said Hail to thee Shun The count that Heaven is telling falls on thee Keep true hold of the centre If there be stress or want within the four seas the gift of Heaven will pass for ever  Shun laid the same commands on YÃ¼  _Tang_ said I Thy little child Li dare to offer this black steer and dare to proclaim before Thee Almighty Lord that I dare not forgive sin nor keep down Thy ministers Search them O Lord in Thine heart If Our life be sinful visit it not upon the ten thousand homesteads If the ten thousand homesteads sin the sin is on Our head  Chou bestowed great gifts and good men grew rich  Loving hearts are better than near kinsmen All the people blame no one but me185  He saw to weights and measures revised the laws and brought back broken officers Order reigned everywhere He revived ruined kingdoms and restored fiefs that had fallen in All hearts below heaven turned to him The peoples food burials and worship weighed most with him His bounty gained the many his truth won the peoples trust his earnestness brought success his justice made men glad  Footnote 184 This chapter shows the principles on which China was governed in old times Yao and Shun were the legendary founders of the Chinese Empire YÃ¼ Tang and Chou were the first emperors of the houses of Hsia Shang and Chou which had ruled China up till the time of Confucius  Footnote 185 Said by King Wu Chou The people blamed him for not dethroning at once the tyrant Chou Hsin  2 Tzuchang asked Confucius How should men be governed  The Master said To govern men we must honour five fair things and spurn four evil things  Tzuchang said What are the five fair things  The Master said A gentleman is kind but not wasteful he burdens but he does not embitter he is covetous but not greedy highminded but not proud stern but not fierce  Tzuchang said What is meant by kindness without waste  The Master said To further what furthers the people is not that kindness without waste If burdens be sorted to strength who will grumble To covet love and get love is that greed Few or many small or great all is one to a gentleman he dares not slight any man Is not this to be highminded but not proud A gentleman straightens his robe and cap and settles his look He is severe and men look up to him with awe Is not this to be stern but not fierce  Tzuchang said What are the four evil things  The Master said To leave untaught and then kill is cruelty not to give warning and to expect things to be done is tyranny to give careless orders and be strict when the day comes is robbery to be stingy in rewarding men is littleness  3 The Master said He that does not know the Bidding cannot be a gentleman Not to know good form is to have no foothold Not to know words is to know nothing of men'"
      ]
     },
     "execution_count": 11,
     "metadata": {},
     "output_type": "execute_result"
    }
   ],
   "source": [
    "import re\n",
    "import string\n",
    "Text_nettoyage_0 = re.sub(r'[^\\w\\s]', '',(Text))\n",
    "Text_nettoyage_0\n",
    "# print(len(Text_nettoyage_0))\n",
    "\n",
    "# punc = string.punctuation+ \"’\"+\"‘\"+\"«\"+\"»\"+\"–\"\n",
    "\n",
    "# for ele in punc:\n",
    "#     Text = Text.replace(ele, \" \")\n",
    "\n",
    "# print(len((Text)))\n",
    "\n"
   ]
  },
  {
   "cell_type": "code",
   "execution_count": 12,
   "metadata": {},
   "outputs": [
    {
     "data": {
      "text/plain": [
       "'THE SAYINGS OF CONFUCIUS  BOOK I   1 The Master said To learn and then do is not that a pleasure When friends come from afar do we not rejoice To live unknown and not fret is not that to be a gentleman  2 Yutzu2 said Few men that are good sons and good brothers are fond of withstanding those over them A man that is not fond of withstanding those over him and is yet fond of broils is nowhere found A gentleman heeds the roots When the root has taken the Way is born And to be a good son and a good brother is not that the root of love  Footnote 2 A disciple  3 The Master said Smooth words and fawning looks are seldom found with love  4 Tsengtzu3 said Thrice daily I ask myself In dealing for others have I been unfaithful Have I been untrue to friends Do I practise what I preach  Footnote 3 A disciple  5 The Master said To guide a land of a thousand chariots honour business and be true spend little and love men time thy calls on the people  6 The Master said The young should be dutiful at home modest abroad careful and true overflowing in kindness for all but in brotherhood with love And if they have strength to spare they should spend it on the arts  7 Tzuhsia3 said If a man eschews beauty and honours worth if he serves his father and mother with all his strength if he is ready to give his life for his lord and keeps faith with his friends though others may say he has no learning I must call him learned  8 The Master said A gentleman will not be looked up to unless he is staid nor will his learning be sound Put faithfulness and truth first have no friends unlike thyself be not ashamed to mend thy faults  9 Tsengtzu4 said Heed the dead follow up the past and the soul of the people will again grow great  Footnote 4 A disciple  10 Tzuchin5 said to Tzukung6 When he comes to a country the Master always hears how it is governed does he ask or is it told him  Footnote 5 A disciple  Footnote 6 A disciple  Tzukung said The Master gets it by his warmth and honesty by politeness modesty and yielding The way the Master asks is unlike other mens asking  11 The Master said Whilst thy father lives look for his purpose when he is gone look how he walked To change nothing in thy fathers ways for three years may be called pious  12 Yutzu7 said To behave with ease is the best part of courtesy This was the beauty of the old kings ways this they followed in small and great But knowing this it will not do to give way to ease unchecked by courtesy This too is wrong  Footnote 7 A disciple  13 Yutzu said If pledges are close to right word can be kept If attentions are close to courtesy shame will be kept far If we do not choose our leaders wrong we may worship them too  14 The Master said A gentleman that does not seek to eat his fill nor look for ease in his home who is earnest at work and careful of speech who walks with those that keep the Way and is guided by them may be said to love learning  15 Tzukung8 said Poor but no flatterer rich but not proud how would that be  Footnote 8 A disciple  It would do said the Master but better still were poor but merry rich but loving courtesy  Tzukung said When the poem says      If ye cut if ye file       If ye polish and grind  is that what is meant  The Master said Now I can begin to talk of poetry to Tzu Tell him what is gone and he knows what shall come  16 The Master said Not to be known is no sorrow My sorrow is not knowing men     BOOK II   1 The Master said He that rules by mind is like the north star steady in his seat whilst the stars all bend to him  2 The Master said The three hundred poems are summed up in the one line Think no evil  3 The Master said Guide the people by law aline them by punishment they may shun crime but they will want shame Guide them by mind aline them by courtesy they will learn shame and grow good  4 The Master said At fifteen I had the will to learn at thirty I could stand at forty I had no doubts at fifty I understood the heavenly Bidding at sixty my ears were opened9 at seventy I could do as my heart lusted without trespassing from the square  Footnote 9 _Lit_ obedient  5 Meng Yi asked the duty of a son  The Master said Not to transgress  As Fan Chiih10 was driving him the Master said Mengsun11 asked me the duty of a son I answered Not to transgress  Footnote 10 A disciple  Footnote 11 Meng Yi  What did ye mean said Fan Chiih  To serve our father and mother with courtesy whilst they live to bury them with courtesy when they die and to worship them with courtesy  6 Meng Wu asked the duty of a son  The Master said He should not grieve his father and mother by anything but illness  7 Tzuyu12 asked the duty of a son  Footnote 12 A disciple  The Master said He that can feed his parents is now called a good son But both dogs and horses are fed and unless we honour our parents what is the difference  8 Tzuhsia13 asked the duty of a son  Footnote 13 A disciple  The Master said Our manner is the hard part For the young to be a stay in toil and leave the wine and food to their elders is this to fulfil their duty  9 The Master said If I talk all day to Hui14 like a dullard he never differs from me But when he is gone if I watch him when alone he can carry out what I taught No Hui is no dullard  Footnote 14 The disciple Yen YÃ¼an  10 The Master said See what he does watch what moves him search what pleases him can the man lie hidden Can the man lie hidden  11 The Master said To keep old knowledge warm and get new makes the teacher  12 The Master said A gentleman is not a vessel  13 Tzukung15 asked What is a gentleman  Footnote 15 A disciple  The Master said He puts words into deeds first and follows these up with words  14 The Master said A gentleman is broad and fair the small man takes sides and is narrow  15 The Master said Learning without thought is naught thought without learning is dangerous  16 The Master said To fight strange doctrines does harm  17 The Master said Yu16 shall I teach thee what is wisdom To know what we know and know what we do not know is wisdom  Footnote 16 The disciple Tzulu  18 Tsuchang17 learned with an eye to pay  Footnote 17 A disciple  The Master said Hear much leave all that is doubtful alone speak warily of everything else and few will be offended See much leave all that is dangerous alone deal warily with everything else and thou wilt have little to rue If thy words seldom give offence and thy deeds leave little to rue pay will follow  19 Duke Ai18 asked What should I do to win the people  Footnote 18 Of Lu  Confucius answered Lift up the straight put away the crooked and the people will be won Lift up the crooked put away the straight and the people will not be won  20 Chi Kang19 asked how to make the people lowly faithful and painstaking  Footnote 19 The head of the Chi clan  The Master said Meet them with dignity they will be lowly be a good son and merciful they will be faithful lift up the good and teach the unskilled and they will take pains  21 One said to Confucius Why do ye not govern Sir  The Master said What does the Book20 say of a good son To be a good son and a friend to thy brothers is to show how to govern This too is to govern Must one be in office to govern  Footnote 20 The Book of History  22 The Master said A man without truth I know not what good he is A cart without a crosspole a carriage without a yoke how can they be moved  23 Tzuchang21 asked whether we can know what is to be ten generations hence  Footnote 21 A disciple  The Master said The Yin22 took over the manners of the Hsia the harm and the good that they did them can be known The Chou took over the manners of the Yin the harm and the good that they did them can be known And we may know what shall be even an hundred generations hence whoever follows Chou  Footnote 22 Up to the time of Confucius China had been ruled by three lines of kings First the Tang next the Yin or Shang then the Chou  24 The Master said To worship the ghosts of men not akin to us is fawning To see the right and not do it is want of courage     BOOK III   1 Of the Chi having eight rows of dancers23 in his courtyard Confucius said If this is to be borne what is not to be borne  Footnote 23 An Imperial prerogative  2 When the sacrifice was ended the Three Clans had the Yung hymn sung  The Master said      Princes and dukes assist     Solemn is the Son of heaven  what meaning has this in the courtyard of the Three Clans  3 The Master said A man without love what is courtesy to him A man without love what is music to him  4 Lin Fang asked what good form is at root  The Master said A big question At hightides thrift is better than waste at burials grief is worth more than nicety  5 The Master said Every wild tribe has its lord whereas the lands of Hsia24 have none  Footnote 24 China  6 The Chi sacrificed to Mount Tai25  Footnote 25 A prerogative of the Duke of Lu  The Master said to Jan Yu26 Canst thou not stop this  Footnote 26 A disciple in the service of the Chi  He answered I cannot  Alas said the Master dost thou think Mount Tai less wise than Lin Fang  7 The Master said A gentleman never strives with others Or must he perhaps in shooting But then as he bows and makes way in going up or steps down to drink27 his strife is that of a gentleman  Footnote 27 The loser had to drink a cup of wine  8 Tzuhsia asked What is the meaning of      Her cunning smiles     Her dimples light     Her lovely eyes     So clear and bright     All unadorned     The background white  Colouring said the Master is second to the plain ground  Then good form is second said Tzuhsia  Shang28 said the Master thou hast hit my meaning Now I can talk of poetry to thee  Footnote 28 Tzuhsia  9 The Master said I can speak of the manners of Hsia but as proof of them Chi29 is not enough I can speak of the manners of Yin but as proof of them Sung is not enough This is due to their dearth of books and great men If there were enough of these I could use them as proofs  Footnote 29 Chi was the homeland of the House of Hsia Sung that of the House of Yin  10 The Master said After the drink offering at the Great Sacrifice I have no wish to see more  11 One asked the meaning of the Great Sacrifice  The Master said I do not know He that knew the meaning would overlook all below heaven as I do thisand he pointed to his palm  12 He worshipped as if those whom he worshipped were before him he worshipped the spirits as if they were before him  The Master said For me to take no part in the sacrifice is the same as not sacrificing  13 Wangsun Chia30 said What is the meaning of It is better to court the hearthgod than the god of the home  Footnote 30 Wangsun Chia was minister of Wei and had more influence than his master The hearthgod ranks below the god of the home the Roman _lares_ but since he sees all that goes on in the house and ascends to heaven at the end of the year to report what has happened it is well to be on good terms with him  Not so said the Master A sin against Heaven leaves no room for prayer  14 The Master said Chou31 looks back on two lines of kings How rich how rich it is in art I follow Chou  Footnote 31 The royal house of Chou which was then ruling China  15 On going into the Great Temple the Master asked about everything  One said Who says that the Tsou mans son knows the rites On going into the Great Temple he asked about everything  When he heard this the Master said Such is the rite  16 The Master said In shooting the arrow need not go right through the target for men are not the same in strength This was the old rule  17 Tzukung wished to do away with the sheep offering at the new moon  The Master said Thou lovest the sheep Tzu I love the rite  18 The Master said Serve the king with all courtesy men call it fawning  19 Duke Ting asked how a lord should treat his lieges and how lieges should serve their lord  Confucius answered The lord should treat his lieges with courtesy lieges should serve their lord faithfully  20 The Master said The poem _The Osprey_ is glad but not wanton it is sad but not morbid  21 Duke Ai asked Tsai Wo about the earthaltars  Tsai Wo answered The Emperors of the house of Hsia grew firs round them the men of Yin grew cypress the men of Chou grew chestnut which was to say Let the people tremble32  Footnote 32 _Tremble_ and _chestnut_ have the same sound in Chinese  On hearing this the Master said I do not speak of what is ended chide what is settled or find fault with what is past33  Footnote 33 In old times men had been sacrificed at the earthaltars and Tsai Wos answer might seem to approve the practice  22 The Master said How shallow was Kuan Chung  But said one was not Kuan Chung thrifty  The Kuan said the Master owned San Kuei and no one of his household held two posts was that thrift  At least Kuan Chung knew good form  The Master said Kings screen their gates with trees the Kuan too had trees to screen his gate When two kings are carousing they have a stand for the turneddown cups the Kuan had a turneddown cupstand too If the Kuan knew good form who does not know good form34  Footnote 34 Kuan Chung  645 BC a famous man in his day was chief minister to the Duke of Chi whom he raised to such wealth and power that he became the leading prince of the empire His chief merit lay in taming the barbarous frontier tribes The rest of his work was built upon sand and died with him  23 The Master said to the Great Master35 of Lu We can learn how to play music at first each part in unison then a swell of harmony each part distinct rolling on to the finish  Footnote 35 Of music  24 The warden of Yi asked to see Confucius saying No gentleman has ever come here whom I have failed to see  The followers took him in  On leaving he said My twothree boys why lament your fall The Way has long been lost below heaven Now Heaven shall make the Master into a warning bell  25 The Master said of the music of Shao It is thoroughly beautiful and thoroughly good too Of the music of Wu he said It is thoroughly beautiful but not thoroughly good  26 The Master said Rank without beauty ceremony without reverence mourning without grief why should I cast them a glance     BOOK IV   1 The Master said Love makes a spot beautiful who chooses not to dwell in love has he got wisdom  2 The Master said Loveless men cannot bear need long they cannot bear fortune long Loving men find peace in love the wise find profit in it  3 The Master said Love alone can love others or hate others  4 The Master said A will set on love is free from evil  5 The Master said Wealth and honours are what men desire but do not go from the Way to keep them Lowliness and want are hated by men but do not go from the Way to escape them  Shorn of love is a gentleman worthy of the name Not for one moment may a gentleman sin against love he must not do so in flurry and haste nor do so in utter overthrow  6 The Master said I have seen no one that loves love and hates uncharity He that loves love will set nothing higher The hater of uncharity is so given to love that no uncharity can enter into his life If a man were to give his strength to love for one day I have seen no one whose strength would fail him There may be such men but I have not seen one  7 The Master said A man and his faults are of a piece By watching his faults we learn whether love be his  8 The Master said To learn the Way at daybreak and die at eve were enough  9 The Master said A knight36 in quest of the Way who is ashamed of bad clothes and bad food it is idle talking to  Footnote 36 _Shih_ a gentleman entitled to bear arms not a knight in armour  10 The Master said A gentleman has no likes or dislikes below heaven He follows right  11 The Master said The gentleman cherishes mind the small man cherishes dirt Gentlemen trust in the law the small man trusts in favour  12 The Master said The chase of gain is rich in hate  13 The Master said What is it to sway a kingdom by courteous yielding If we cannot sway a kingdom by courteous yielding what is our courtesy worth  14 The Master said Care not for want of place care for thy readiness to fill one Care not for being unknown but seek to be worthy of note  15 The Master said One line Shen37 runs through my Way  Footnote 37 The disciple Tsengtzu  Yes said Tsengtzu  After the Master had left the disciples asked what was meant  Tsengtzu said The Masters Way is no more than faithfulness and fellowfeeling  16 The Master said The gentleman is learned in right the small man is learned in gain  17 The Master said At sight of worth think to grow like it at sight of baseness search thyself within  18 The Master said A father or a mother may be gently chidden If thou seest they have no will to follow thee be the more lowly but do not give way nor murmur at the trouble they give thee  19 The Master said Whilst thy father and mother are living do not wander afar If thou must travel hold a set course  20 The Master said He that changes nothing in his fathers ways for three years may be called pious  21 The Master said A father and mothers years must be borne in mind with gladness on the one hand and fear on the other  22 The Master said The men of old were loth to speak for not to live up to their words would have shamed them  23 The Master said We shall seldom get lost if we hold to main lines  24 The Master said A gentleman wishes to be slow to speak and quick to do  25 The Master said A great soul is never friendless he has always neighbours  26 Tzuyu said Nagging at kings brings disgrace nagging at friends estrangement     BOOK V   1 Of Kungyeh Chang the Master said A girl might be wedded to him Though he has been in fetters that was not his crime  He gave him his daughter to wed  Of Nan Jung the Master said When the land keeps the Way he will not be neglected and if the land loses the Way he will escape punishment and death  He gave him his brothers daughter to wed  2 Of Tzuchien38 the Master said What a gentleman he is But if there were no gentlemen in Lu where could he have picked it up  3 Tzukung asked And what of me  Thou art a vessel said the Master  What kind of vessel  A rich temple vessel  4 One said Yung39 has love but he is not glib  Footnote 38 A disciple born in Lu  Footnote 39 The disciple Chungkung  The Master said What is the good of being glib Fighting men with tonguecraft mostly makes men hate you Whether love be his I do not know but what is the good of being glib  5 The Master moved Chitiao Kai to take office  He answered For this I want confidence  The Master was pleased  6 The Master said Forsaken is the Way I must take ship and stem the seas and Yu40 shall go with me  When Tzulu heard this he was glad  The Master said Yu loves daring more than I do but he is at a loss how to take things  7 Meng Wu asked whether Tzulu had love  I do not know said the Master  He asked again  A land of a thousand chariots might give Yu charge of its levies but whether love be his I do not know  And how about Chiu41  A town of a thousand households a clan of an hundred chariots might make Chiu governor but whether love be his I do not know  And how about Chih42  Standing in the court girt with his sash Chih might entertain the guests but whether love be his I do not know  8 The Master said to Tzukung Which is the better man thou or Hui43  He answered How dare I look as high as Hui When Hui hears one thing he understands ten when I hear one thing I understand two  The Master said Thou art not his like Neither art thou his like nor am I  9 Tsai YÃ¼44 slept in the daytime  Footnote 40 Tzulu  Footnote 41 The disciple Jan Yu  Footnote 42 The disciple Kunghsi Hua  Footnote 43 The disciple Yen YÃ¼an  Footnote 44 The disciple Tsai Wo  The Master said Rotten wood cannot be carved nor are dung walls plastered Why chide with YÃ¼  The Master said When I first met men I listened to their words and took their deeds on trust When I meet them now I listen to their words and watch their deeds I righted this on YÃ¼  10 The Master said I have met no firm man  One answered Shen Chang  The Master said Chang is passionate how can he be firm  11 Tzukung said What I do not wish done to me I likewise wish not to do to others  The Master said That is still beyond thee Tzu  12 Tzukung said To hear the Master on his art and precepts is granted us but to hear him on mans nature and the Way of Heaven is not  13 Until Tzulu could do what he had heard his only fear was to hear more  14 Tzukung asked Why was Kungwen called cultured  The Master said He was quick and loved learning he was not ashamed to ask those beneath him that is why he was called cultured  15 The Master said Of the ways of a gentleman Tzuchan had four His life was modest he honoured those that he served He was kind in feeding the people and he was just in his calls upon them  16 The Master said Yen Ping was a good friend The longer he knew you the more attentive he grew  17 The Master said Tsang Wen lodged his tortoise with hills on the pillars and reeds on the uprights was this his wisdom  18 Tzuchang said The chief minister Tzuwen was thrice made minister without showing gladness thrice he left office with unmoved looks He always told the new ministers how the old ones had governed how was that  He was faithful said the Master  But was it love  I do not know said the Master how should this amount to love  When Tsui murdered the lord of Chi Chen Wen threw up ten teams of horses and left the land On coming to another kingdom he said Like my lord Tsui and left it On coming to a second kingdom he said again Like my lord Tsui and left it how was that  He was clean said the Master  But was it love  I do not know said the Master how should this amount to love  19 Chi Wen thought thrice before acting  On hearing this the Master said Twice is enough  20 The Master said Whilst the land kept the Way Ning Wu showed wisdom when his land lost the Way he grew simple His wisdom we may come up to such simplicity is beyond us45  Footnote 45 Ning Wu was minister of the Duke of Wei in the middle of the seventh century BC The duke was driven from his throne and deserted by the wise and prudent but Ning Wu in his simplicity stuck to his master and finally effected his restoration  21 When he was in Chen the Master said Home I must go home Zealous or rash or finished scholars my young sons at home do not know what pruning they still need  22 The Master said Because Poyi and Shuchi never remembered old wickedness they made few enemies46  23 The Master said Who can call Weisheng Kao straight A man begged him for vinegar he begged it of a neighbour and gave it  24 The Master said Smooth words fawning looks and overdone humility Tso Chiuming thought shameful and so do I He thought it shameful to hide illwill and ape friendship and so do I  25 As Yen YÃ¼an and Chilu47 were sitting with him the Master said Why not each of you tell me thy wishes  Footnote 46 Poyi and Shuchi were sons of the King of Kuchu Their father left the throne to the younger of the two but he would not supplant the elder nor would the elder go against his fathers wishes So they both retired into obscurity When King Wu overthrew the tyrant Chou 1122 BC they starved to death rather than live under a new dynasty Of Poyi Mencius tells us Book X chapter 1 His eyes would not look on an evil face his ears would not listen to an evil sound He served none but his own lord he ruled none but his own people He came in when there was order and withdrew when tumults came Where lawless rule showed or lawless people stayed he could not bear to dwell To be together with country folk he thought like sitting in court dress and court cap on dust and ashes In Chous time he dwelt by the North Sea shore waiting for all below heaven to grow clean So hearing the ways of Poyi the fool grows honest and the weaklings purpose stands  Footnote 47 Tzulu  Tzulu said I should like carriages and horses and clothes of light fur to share with my friends and if they spoiled them not to get angry  Yen YÃ¼an said I should like to make no boast of talent or show or merit  Tzulu said We should like to hear your wishes Sir  The Master said To give the old folk peace to be true to friends and to have a heart for the young  26 The Master said It is finished I have met no one that can see his own faults and arraign himself within  27 The Master said In a hamlet of ten houses there must be men that are as faithful and true men as I but they do not love learning as I do     BOOK VI   1 The Master said Yung48 might fill the seat of a prince  And might Tzusang Potzu asked Chungkung  Yes said the Master but he is slack  To be stern to himself said Chungkung and slack in his claims on the people might do but to be slack himself and slack with others must surely be too slack  The Master said What Yung says is true  2 Duke Ai asked which disciples loved learning  Confucius answered Yen Hui49 loved learning He did not carry over anger he made no mistake twice Alas his mission was short he died Now that he is gone I hear of no one that loves learning  3 When Tzuhua50 was sent to Chi the disciple Jan asked for grain for his mother  The Master said Give her six pecks  He asked for more  The Master said Give her sixteen  Jan gave her eight hundred  The Master said On his way to Chi Chih51 was drawn by sleek horses and clad in light furs I have heard that gentlemen help the needy not that they swell riches  Footnote 48 The disciple Chungkung  Footnote 49 The disciple Yen YÃ¼an  Footnote 50 The disciple Kunghsi Hua or Kunghsi Chih  Footnote 51 Kunghei Chih  When YÃ¼an Ssu was made governor he was given nine hundred measures of grain which he refused  Not so said the Master why not take it and give it to thy neighbours and countryfolk  4 The Master said of Chungkung If the calf of a brindled cow be red and horned though men be shy to offer him will the hills and streams reject him  5 The Master said For three months together Huis52 heart never sinned against love The others may hold out for a day or a month but no more  6 Chi Kang53 asked whether Chungyu3 was fit to govern  The Master said Yu54 is firm what would governing be to him  And is Tzu55 fit to govern  Tzu is thorough what would governing be to him  And is Chiu56 fit to govern  Chin is clever what would governing be to him  7 The Chi sent to make Min Tzuchien6 governor of Pi  Min Tzuchien said Make some good excuse for me If he sends again I must be across the Wen  8 When Poniu57 was ill the Master asked after him Grasping his hand through the window he said He is going It is the Bidding but why this man of such an illness Why this man of such an illness  Footnote 52 Yen YÃ¼an  Footnote 53 The head of the Chi clan after Chi Huan  Footnote 54 The disciple Tzulu  Footnote 55 The disciple Tzukung  Footnote 56 The disciple Jan Yu  Footnote 57 A disciple  9 The Master said What a man was Hui58 A bowl of rice a gourd of water in a low alley man cannot bear such misery Yet Hui never fell from mirth What a man he was  10 Jan Chiu59 said It is not that I take no pleasure in the Masters Way I want strength  Footnote 58 Yen YÃ¼an  Footnote 59 Jan Yu  The Master said He that wants strength faints midway but thou drawest a line  11 The Master said to Tzuhsia Study to be a gentleman not as the small man studies  12 When Tzuyu was governor of Wucheng the Master said Hast thou gotten any men  He answered I have Tantai Miehming He will not take a short cut when walking and he has never come to my house except on business  13 The Master said Meng Chihfan never brags He was covering the rear in a rout but on coming to the gate he whipped his horse and cried Not courage kept me behind my horse wont go  14 The Master said Unless we are glib as the reader To and fair as Chao of Sung escape is hard in the times that be  15 The Master said Who can go out except by the door Why is it no one keeps to the Way  16 The Master said Matter outweighing art begets roughness art outweighing matter begets pedantry Matter and art well blent make a gentleman  17 The Master said Man is born straight If he grows crooked and yet lives he is lucky to escape  18 The Master said He that knows is below him that loves and he that loves below him that delights therein  19 The Master said To men above the common we can talk of higher things to men below the common we must not talk of higher things  20 Fan Chih60 asked What is wisdom  The Master said To foster right among the people to honour ghosts and spirits and yet keep aloof from them may be called wisdom  He asked What is love  The Master said To rank the effort above the prize may be called love  21 The Master said Wisdom delights in water love delights in hills Wisdom is stirring love is quiet Wisdom is merry love grows old  22 The Master said By one revolution Chi might grow to be Lu by one revolution Lu might reach the Way  23 The Master said A drinking horn that is no horn What a horn What a drinking horn  24 Tsai Wo61 said If a man of love were told that a man is in a well would he go in after him  Footnote 60 A disciple  Footnote 61 A disciple  The Master said Why should he A gentleman might be got to the well but not trapped into it He may be cheated but not fooled  25 The Master said By breadth of reading and the ties of courtesy a gentleman is kept too from false paths  26 The Master saw Nantzu62 Tzulu was displeased  The Master took an oath saying If I have done wrong may Heaven forsake me may Heaven forsake me  27 The Master said The highest minds cleave to the Centre the Common They have long been rare among the people  28 Tzukung said To treat the people with bounty and help the many how were that Could it be called love  The Master said What has this to do with love Must it not be holiness Yao and Shun63 still yearned for this Seeking a foothold for self love finds a foothold for others seeking light for itself it enlightens others too To learn from the near at hand may be called the clue to love  Footnote 62 The dissolute wife of Duke Ling of Wei  Footnote 63 Two emperors of the golden age     BOOK VII   1 The Master said A teller and not a maker one that trusts and loves the past I might liken myself to our old Peng64  2 The Master said To think things over in silence to learn and be always hungry to teach and never weary is any of these mine  3 The Master said Not making the most of my mind want of thoroughness in learning failure to do the right when told it lack of strength to overcome faults these are my sorrows  4 In his free moments the Master was easy and cheerful  5 The Master said How deep is my decay It is long since I saw the Duke of Chou65 in a dream  6 The Master said Keep thy will on the Way lean on mind rest in love move in art  7 The Master said From the man that paid in dried meat upwards I have withheld teaching from no one  8 The Master said Only to those fumbling do I open only for those stammering do I find the word  Footnote 64 We should be glad to know more of old Peng but nothing is known of him  Footnote 65 Died 1105 BC He was the younger brother of King Wu the founder of the Chou dynasty as great in peace as the King in war He was so bent on carrying out the old principles of government that if anything did not tally with them he looked up and thought till day passed into night and if by luck he found the answer he sat and waited for the dawn Mencius Book VIII chapter 20  If I lift one corner and the other three are left unturned I say no more  9 When eating beside a mourner the Master never ate his fill On days when he had been wailing he did not sing  10 The Master said to Yen YÃ¼an To go forward when in office and lie quiet when not only I and thou can do that  Tzulu said If ye had to lead three armies Sir whom would ye have with you  No man said the Master that would face a tiger barefisted or plunge into a river and die without a qualm but one indeed who fearing what may come lays his plans well and carries them through  11 The Master said If shouldering a whip were a sure road to riches I should turn carter but since there is no sure road I tread the path I love  12 The Master gave heed to abstinence war and sickness  13 When he was in Chi for three months after hearing the Shao played the Master knew not the taste of flesh  I did not suppose he said that music could reach such heights  14 Jan Yu said Is the Master for the lord of Wei66  Footnote 66 The grandson of Duke Ling the husband of Nantzu His father had been driven from the country for plotting to kill Nantzu When Duke Ling died he was succeeded by his grandson who opposed by force his fathers attempts to seize the throne  I shall ask him said Tzukung  He went in and said What kind of men were Poyi67 and Shuchi  Worthy men of yore said the Master  Did they rue the past  They sought love and found it what had they to rue  Tzukung went out and said The Master is not for him  15 The Master said Eating coarse rice and drinking water with bent arm for pillow we may be merry but illgotten wealth and honours are to me a wandering cloud  16 The Master said Given a few more years making fifty for learning the Yi68 I might be freed from gross faults  Footnote 67 See Book V Â 22  Footnote 68 An abstruse ancient classic usually called the Book of Changes  17 The Master liked to talk of poetry history and the upkeep of courtesy Of all these he liked to talk  18 The Duke of She asked Tzulu about Confucius  Tzulu did not answer  The Master said Why didst thou not say He is a man that forgets to eat in his eagerness whose sorrows are forgotten in gladness who knows not that age draws near  19 The Master said I was not born to wisdom I loved the past and sought it earnestly there  20 The Master never talked of goblins strength disorder or spirits  21 The Master said Walking three together I am sure of teachers I pick out the good and follow it I see the bad and shun it  22 The Master said Heaven begat the mind in me what can Huan Tui69 do to me  23 The Master said My twothree boys do ye think I hide things I hide nothing from you I am a man that keeps none of his doings from his twothree boys  24 The Master taught four things art conduct faithfulness and truth  25 The Master said A holy man I shall not live to see enough could I find a gentleman A good man I shall not live to see enough could I find a steadfast one But when nothing poses as something cloud as substance and want as riches it is hard indeed to be steadfast  26 The Master angled but he did not fish with a net he shot but not at birds sitting  27 The Master said There may be men that do things without knowing why I do not To hear much pick out the good and follow it to see much and think it over this comes next to wisdom  28 To talk to the Hu village was hard When a lad was seen by the Master the disciples doubted  The Master said I allow his coming not what he does later Why be so harsh If a man cleans himself to come in I admit his cleanness but do not warrant his past  Footnote 69 In 495 BC during Confuciuss wanderings Huan Tui sent a band of men to kill him but why he did so is not known  29 The Master said Is love so far a thing I long for love and lo love is come  30 A judge of Chen asked whether Duke Chao70 knew good form  Confucius answered He knew good form  After Confucius had left the judge beckoned Wuma Chi71 to him and said I had heard that gentlemen are of no party but do they too take sides This lord married a Wu whose name was the same as his and called her Miss Tzu of Wu if he knew good form who does not know good form  When Wuma Chi told the Master this he said How lucky I am If I go wrong men are sure to know it  31 When anyone sang to the Master and sang well he made him sing it again and joined in  32 The Master said I have no more reading than others to live as a gentleman is not yet mine  33 The Master said How dare I lay claim to holiness or love A man of endless craving who never tires of teaching I might be called but that is all  That is just what we disciples cannot learn said Kunghsi Hua  34 When the Master was very ill Tzulu asked leave to pray  Is it done said the Master  Footnote 70 Duke Chao of Lu  510 BC was the duke that first employed Confucius It is against Chinese custom for a man to marry a girl whose surname is the same as his  Footnote 71 A disciple of Confucius  It is answered Tzulu The Memorials say Pray to the spirits above and to the Earth below  The Master said Longlasting has my prayer been  35 The Master said Waste makes men unruly thrift makes them mean but they are better mean than unruly  36 The Master said A gentleman is calm and spacious the small man is always fretting  37 The Masters manner was warm yet dignified He was stern but not fierce humble yet easy     BOOK VIII   1 The Master said Taipo72 may be said to have carried nobility furthest Thrice he refused all below heaven Men were at a loss how to praise him  2 The Master said Without good form attentions grow into fussiness heed becomes fearfulness daring becomes unruliness frankness becomes rudeness When gentlemen are true to kinsfolk love will thrive among the people if they do not forsake old friends the people will not steal  3 When Tsengtzu lay sick he called his disciples and said Uncover my feet uncover my arms The poem says      As if a deep gulf       Were yawning below     As crossing thin ice       Take heed how ye go  My little children I have known how to keep myself unhurt until now and hereafter73  4 When Tsengtzu was sick Meng Ching74 came to ask after him  Footnote 72 Taipo was the eldest son of the King of Chou The father wished his third son to succeed him so that the throne might pass later to his grandson afterwards known as King Wen To enable this plan to be carried out Taipo and his second brother went into exile  Footnote 73 The Chinese say The body is born whole by the mother it should be returned whole by the son  Footnote 74 Chief of the Meng clan minister of Lu  Tsengtzu said When a bird is dying his notes are sad when man is dying his words are good Three branches of the Way are dear to a gentleman To banish from his bearing violence and disdain to sort his face to the truth and to banish from his speech what is low or unseemly The ritual of chalice and platter75 has servitors to see to it  5 Tsengtzu said When we can to ask those that cannot when we are more to ask those that are less having to seem wanting real to seem shadow when gainsaid never answering back I had a friend76 once that could do thus  6 Tsengtzu said A man to whom an orphan a few feet high or the fate of an hundred towns may be entrusted and whom no crisis can corrupt is he not a gentleman a gentleman indeed  7 Tsengtzu said The knight had need be strong and bold for his burden is heavy the way is far His burden is love is it not a heavy one No halt before death is that not far  8 The Master said Poetry rouses us we stand upon courtesy music is our crown  9 The Master said The people may be made to follow we cannot make them understand  10 The Master said Love of daring and hatred of poverty lead to crime a man without love if he is sorely harassed turns to crime  11 The Master said All the comely gifts of the Duke of Chou77 coupled with pride and meanness would not be worth a glance  Footnote 75 For sacrifice  Footnote 76 Probably Yen YÃ¼an  Footnote 77 See Book VII Â 5  12 The Master said A man to whom three years of learning have borne no fruit would be hard to find  13 The Master said A man of simple faith who loves learning who guards and betters his way unto death will not enter a tottering kingdom nor stay in a lawless land When all below heaven follows the Way he is seen when it loses the Way he is unseen While his land keeps the Way he is ashamed to be poor and lowly but when his land has lost the Way wealth and honours shame him  14 The Master said When out of place discuss not policy  15 The Master said In the first days of the musicmaster Chih how the hubbub78 of the KuanchÃ¼ rose sea beyond sea How it filled the ear  16 The Master said Of men that are zealous but not straight dull but not simple helpless but not truthful I will know nothing  17 The Master said Learn as though the time were short like one that fears to lose  18 The Master said How wonderful were Shun2 and YÃ¼2 To have all below heaven was nothing to them  19 The Master said How great a lord was Yao79 Wonderful Heaven alone is great Yao alone was patterned on it Vast boundless Mens words failed them The wonder of the work done by him The flame of his art and precepts  Footnote 78 The last part of the music when all the instruments were played together  Footnote 79 See Introduction  20 Shun had five ministers and there was order below heaven  King Wu80 said I have ten uncommon ministers  Confucius said The dearth of talent is not that the truth When YÃ¼81 followed Tang82 the times were rich in talent yet there were but nine men in all and one woman In greatness of soul we may say that Chou83 was highest he had twothirds of all below heaven and bent it to the service of Yin  21 The Master said I see no flaw in YÃ¼ He ate and drank little yet he was lavish in piety to the ghosts and spirits His clothes were bad but in his cap and gown he was fair indeed His palace buildings were poor yet he gave his whole strength to dykes and ditches No kind of flaw can I see in YÃ¼  Footnote 80 See Introduction  Footnote 81 Shun  Footnote 82 Yao  Footnote 83 King Wen Duke of Chou     BOOK IX   1 The Master seldom spake of gain or love or the Bidding  2 A man of the village of Tahsiang said The great Confucius with his vast learning has made no name in anything  When the Master heard this he said to his disciples What shall I take up Shall I take up driving or shall I take up shooting I shall take up driving  3 The Master said A linen cap is good form now silk is worn It is cheap so I follow the many To bow below is good form now it is done above This is arrogance so breaking with the many I still bow below  4 From four things the Master was quite free byends and must and shall and I  5 When he was afraid in Kuang84 the Master said Since the death of King Wen is not the seat of culture here If Heaven had meant to destroy our culture a later mortal would have had no part in it Until Heaven condemns our culture what can the men of Kuang do to me  6 A high minister said to Tzukung The Master must be a holy man he can do so many things  Footnote 84 During the Masters wanderings Kuang is said to have been a small state near Lu which had been oppressed by Yang Huo Confucius resembled him and the men of Kuang set upon him mistaking him for their enemy The commentators say that the Master was not afraid only roused to a sense of danger I cannot find that the text says so  Tzukung said Heaven has indeed given him so much that he is almost holy and he can do many things too  When the Master heard this he said Does the minister know me Because I was poor when young I can do many paltry things But does doing many things make a gentleman No not doing many does  Lao said The Master would say As I had no post I learned the crafts  7 The Master said Have I in truth wisdom I have no wisdom But when a common fellow emptily asks me anything I tap it on this side and that and sift it to the bottom  8 The Master said The phoenix comes not the River gives forth no sign all is over with me  9 When the Master saw folk clad in mourning or in cap and gown or a blind man he always roseeven for the youngor if he was passing them he quickened his step  10 Yen YÃ¼an heaved a sigh and said As I look up it grows higher deeper as I dig I catch sight of it ahead and on a sudden it is behind me The Master leads men on deftly bit by bit He widens me with culture he binds me with courtesy If I wished to stop I could not until my strength were spent What seems the mark stands near but though I long to reach it I find no way  11 When the Master was very ill Tzulu made the disciples act as ministers  During a better spell the Master said Yu has long been feigning This show of ministers when I have no ministers whom will it take in Will Heaven be taken in And is it not better to die in the arms of my twothree boys than to die in the arms of ministers And if I miss a big burial shall I die by the roadside  12 Tzukung said If I had here a fair piece of jade should I hide it away in a case or seek a good price and sell it  Sell it sell it said the Master I tarry for my price  13 The Master wished to dwell among the nine tribes85  Footnote 85 In the east of Shantung  One said They are low how could ye  The Master said Wherever a gentleman lives will there be anything low  14 The Master said After I came back from Wei to Lu the music was set straight and each song found its place  15 The Master said To serve dukes and ministers abroad and father and brothers at home in matters of mourning not to dare to be slack and to be no thrall to wine to which of these have I won  16 As he stood by a stream the Master said Hasting away like this day and night without stop  17 The Master said I have seen no one that loves mind as he loves looks  18 The Master said In making a mound if I stop when one more basket would finish it I stop When flattening ground if after overturning one basket I go on I go ahead  19 The Master said Never listless when spoken to such was Hui86  20 Speaking of Yen YÃ¼an the Master said The pity of it I saw him go on but I never saw him stop  21 The Master said Some sprouts do not blossom some blossoms bear no fruit  22 The Master said Awe is due to youth May not tomorrow be bright as today To men of forty or fifty who are still unknown no awe is due  23 The Master said Who would not give ear to a downright word But to mend is better Who would not be pleased by a guiding word But to think it out is better With such as are pleased but do not think out or who listen but do not mend I can do nothing  24 The Master said Put faithfulness and truth first have no friends unlike thyself be not ashamed to mend thy faults  25 The Master said Three armies may be robbed of their leader no wretch can be robbed of his will  26 The Master said Yu87 is the man to stand clad in a wornout quilted gown unashamed amid robes of fox and badger      Without hatred or greed     What but good does he do  But when Tzulu was everlastingly humming these words the Master said This is the way towards it but how much short of goodness itself  Footnote 86 Yen YÃ¼an  Footnote 87 Tzulu  27 The Master said Erst the cold days show how fir and cypress are last to fade  28 The Master said Wisdom has no doubts love does not fret the bold have no fears  29 The Master said With some we can learn together but we cannot go their way we can go the same way with others though our standpoint is not the same and with some though our standpoint is the same our weights and scales are not  30      The blossoms of the plum tree       Are dancing in play     My thoughts are with thee       In thy home far away  The Master said Her thoughts were not with him or how could he be far away     BOOK X   1 Among his own country folk Confucius wore a homely look like one that has no word to say  In the ancestral temple and at court his speech was full but cautious  2 At court he talked frankly to men of low rank winningly to men of high rank When the king was there he looked intent and solemn  3 When the king bade him receive guests his face seemed to change and his legs to bend He bowed left and right to those beside him straightened his robes in front and behind and swept forward with arms spread like wings When the guest had left he brought back word saying The guest is no longer looking  4 As he went in at the palace gate he stooped as though it were too low for him He did not stand in the middle of the gate or step on the threshold  When he passed the throne his face seemed to change and his legs to bend he spake with bated breath As he went up the hall to audience he lifted his robes bowed his back and masked his breathing till it seemed to stop As he came down he relaxed his face below the first step and looked pleased From the foot of the steps he swept forward with arms spread like wings and when he was back in his seat he looked intent as before  5 When he carried the sceptre his back bent as under too heavy a burden he lifted it no higher than in bowing and no lower than in making a gift His face changed as it will with fear and he dragged his feet as though they were fettered  When he offered his present his manner was formal but at the private audience he was cheerful  6 The gentleman was never decked in violet or mauve even at home he would not wear red or purple  In hot weather he wore an unlined linen gown but always over other clothes  With lambskin he wore black with fawn white and with foxskin yellow At home he wore a long fur gown with the right sleeve short  His nightgown was always half as long again as his body  In the house he wore thick fur of fox or badger  When he was not in mourning there was nothing missing from his girdle  Except for sacrificial dress he was sparing of stuff  He did not wear lambs fur or a black cap on a mourning visit  At the new moon he always put on court dress and went to court  7 On his days of abstinence he always wore linen clothes of a pale colour and he changed his food and moved from his wonted seat  8 He did not dislike wellcleaned rice or hash chopped small He did not eat sour or mouldy rice bad fish or tainted flesh He did not eat anything that had a bad colour or that smelt bad or food that was badly cooked or out of season Food that was badly cut or served with the wrong sauce he did not eat However much flesh there might be it could not conquer his taste for rice To wine alone he set no limit but he did not drink enough to muddle him He did not drink bought wine or eat readydried market meat He never went without ginger at a meal He did not eat much  After a sacrifice at the palace he did not keep the flesh overnight He never kept sacrificial flesh more than three days If it had been kept longer it was not eaten  He did not talk at meals nor speak when he was in bed  Even at a meal of coarse rice or herb broth or gourds he made his offering with all reverence  9 If his mat was not straight he would not sit down  10 When the villagers were drinking wine as those that walked with a staff left he left too  At the village exorcisms he put on court dress and stood on the east steps  11 When sending a man with enquiries to another land he bowed twice to him and saw him out  When Kang gave him some drugs he bowed accepted them and said I have never taken them I dare not taste them  12 On coming back from court after his stables had been burnt the Master said Is anyone hurt He did not ask about the horses  13 When the king sent him cooked meat he put his mat straight and tasted it first when he sent him raw flesh he had it cooked and offered it to the spirits when he sent him a live beast he kept it alive  When he ate in attendance on the king the king made the offering he tasted things first  When he was sick and the king came to see him he lay with his head to the east with his court dress over him and his girdle across it  When he was called by the kings bidding he walked without waiting for his carriage  14 On going into the Great Temple he asked about everything  15 When a friend died who had no home to go to he said It is for me to bury him  When friends sent him anything even a carriage and horses he never bowed unless the gift was sacrificial flesh  16 He did not sleep like a corpse At home he unbent  Even if he knew him well his face changed when he saw a mourner Even when he was in undress if he saw anyone in full dress or a blind man he looked grave  To men in deep mourning and to the censusbearers he bowed over the crossbar  Before choice meats he rose with changed look At sharp thunder or a fierce wind his look changed  17 When mounting his carriage he stood straight and grasped the cord When he was in it he did not look round or speak fast or point  18 Seeing a mans face she rose flew round and settled The Master said Hen pheasant on the ridge it is the season it is the season  Tzulu went towards her she sniffed thrice and rose88  Footnote 88 This passage cannot belong here It is corrupt and unintelligible     BOOK XI   1 The Master said Savages the men that first went into courtesy and music Gentlemen those that went into them later My use is to follow the first lead in both  2 The Master said Not one of my followers in Chen or Tsai comes any more to my door Yen YÃ¼an Min Tzuchien Jan Poniu and Chungkung were men of noble life Tsai Wo and Tzukung were the talkers Jan Yu and Chilu were statesmen Tzuyu and Tzuhsia men of arts and learning  3 The Master said I get no help from Hui89 No word I say but delights him  4 The Master said How good a son is Min Tzuchien No one finds fault with anything that his father or his mother or his brethren say of him  5 Nan Jung would thrice repeat _The Sceptre White_90 Confucius gave him his brothers daughter for wife  6 Chi Kang asked which disciples loved learning Confucius answered There was Yen Hui91 loved learning Alas his mission was short he died Now there is no one  Footnote 89 Yen YÃ¼an  Footnote 90 The verse runs      A flaw can be ground       From a sceptre white     A slip of the tongue       No man can right   Footnote 91 Yen YÃ¼an  7 When Yen YÃ¼an died Yen Lu92 asked for the Masters carriage to furnish an outer coffin  The Master said Brains or no brains each of us speaks of his son When Li93 died he had an inner but not an outer coffin I would not go on foot to furnish an outer coffin As I follow in the wake of the ministers I cannot go on foot  8 When Yen YÃ¼an died the Master said Woe is me Heaven has undone me Heaven has undone me  9 When Yen YÃ¼an died the Master gave way to grief  His followers said Sir ye are giving way  The Master said Am I giving way If I did not give way for this man for whom should I give way to grief  10 When Yen YÃ¼an died the disciples wished to bury him in pomp  The Master said This must not be  The disciples buried him in pomp  The Master said Hui treated me as his father I have failed to treat him as a son No not I but ye my twothree boys  11 Chilu94 asked what is due to the ghosts of the dead  The Master said When we cannot do our duty to the living how can we do it to the dead  He dared to ask about death  We know not life said the Master how can we know death  Footnote 92 The father of Yen YÃ¼an  Footnote 93 The Masters son  Footnote 94 Tzulu  12 Seeing the disciple Min standing at his side with winning looks Tzulu with warlike front Jan Yu and Tzukung frank and free the Masters heart was glad  A man like Yu95 he said dies before his day  13 The men of Lu were building the Long Treasury  Min Tzuchien said Would not the old one do Why must it be rebuilt  The Master said That man does not talk but when he speaks he hits the mark  14 The Master said What has the lute of Yu96 to do twanging at my door  But when the disciples looked down on Tzulu the Master said Yu has come up into hall but he has not yet entered the inner rooms  15 Tzukung asked Which is the better Shih97 or Shang98  The Master said Shih goes too far Shang not far enough  Then is Shih the better said Tzukung  Too far said the Master is no nearer than not far enough  16 The Chi was richer than the Duke of Chou yet Chiu99 became his taxgatherer and made him still richer  Footnote 95 Tzulu This prophecy came true Tzulu and Tzukao were officers of Wei when troubles arose Tzulu hastened to the help of his master He met Tzukao withdrawing from the danger and was advised to do the same But Tzulu would not desert the man whose pay he drew He plunged into the fight and was killed  Footnote 96 Tzulu  Footnote 97 The disciple Tzuchang  Footnote 98 The disciple Tzuhsia  Footnote 99 The disciple Jan Yu  He is no disciple of mine said the Master My little children ye may beat your drums and make war on him  17 Chai100 is simple Shen101 is dull Shih102 is smooth Yu103 is coarse  18 The Master said Hui104 is almost faultless and he is often empty Tzu105 will not bow to the Bidding and he heaps up riches but his views are often sound  19 Tzuchang asked What is the way of a good man  The Master said He does not tread the beaten track and yet he does not enter the inner rooms  20 The Master said Commend a man for plain speaking he may prove a gentleman or else but seeming honest  21 Tzulu said Shall I do all I am taught  The Master said Whilst thy father and elder brothers live how canst thou do all thou art taught  Jan Yu asked Shall I do all I am taught  The Master said Do all thou art taught  Kunghsi Hua said Yu106 asked Shall I do all I am taught and ye said Sir Whilst thy father and elder brothers live Chiu107 asked Shall I do all I am taught and ye said Sir Do all thou art taught I am in doubt and dare to ask you Sir  Footnote 100 The disciple Kao Chai  Footnote 101 The disciple Tsengtzu  Footnote 102 The disciple Tzuchang  Footnote 103 The disciple Tzulu  Footnote 104 The disciple Yen YÃ¼an  Footnote 105 The disciple Tzukung  Footnote 106 Tzulu  Footnote 107 Jan Yu  The Master said Chiu is bashful so I egged him on Yu is twice a man so I held him back  22 When the Master was in fear in Kuang Yen YÃ¼an fell behind  The Master said I held thee for dead  He answered Whilst my Master lives how should I dare to die  23 Chi Tzujan108 asked whether Chung Yu2 or Jan Chiu3 could be called a great minister  The Master said I thought ye would ask me a riddle Sir and ye ask about Yu109 and Chiu110 He that holds to the Way in serving his lord and leaves when he cannot do so we call a great minister Now Yu and Chiu I should call tools  Who are just followers then  Nor would they follow said the Master if told to kill their lord or father  24 Tzulu made Tzukao governor of Pi  The Master said Thou art undoing a mans son  Tzulu said What with the people and the spirits of earth and corn must a man read books to become learned  The Master said This is why I hate a glib tongue  25 The Master said to Tzulu Tseng Hsi111 Jan Yu and Kunghsi Hua as they sat beside him I may be a day older than you but forget that Ye are wont to say I am unknown Well if ye were known what would ye do  Footnote 108 The younger brother of Chi Huan the head of the Chi clan  Footnote 109 Tzulu He and Jan Yu had taken office under the Chi  Footnote 110 Jan Yu  Footnote 111 A disciple the father of Tsengtzu  Tzulu answered lightly Give me a land of a thousand chariots crushed between great neighbours overrun by soldiers and searched by famine and within three years I could put courage into it and high purpose  The Master smiled  What wouldst thou do Chiu112 he said  He answered Give me a land of sixty or seventy or fifty or sixty square miles and within three years I could give the people plenty As for courtesy and music they would wait the coming of a gentleman  And what wouldst thou do Chih113  He answered I do not speak of what I can do but of what I should like to learn At services in the Ancestral Temple or at the Grand Audience I should like to fill a small part  And what wouldst thou do Tien114  Tien stopped playing pushed his still sounding lute aside rose and answered My choice would be unlike those of the other three  What harm in that said the Master Each but spake his mind  In the last days of spring all clad for the springtime with five or six young men and six or seven lads I would bathe in the Yi be fanned by the wind in the Rain Gods glade and go back home singing  The Master said with a sigh I side with Tien  Tseng Hsi stayed after the other three had left and said What did ye think Sir of what the three disciples said  Footnote 112 Jan Yu  Footnote 113 Kunghsi Hua  Footnote 114 Tseng Hsi  Each but spake his mind said the Master  Why did ye smile at Yu115 Sir  Lands are swayed by courtesy but what he said was not modest That was why I smiled Yet did not Chiu speak of a state Where would sixty or seventy or fifty or sixty square miles be found that are not a state And did not Chih too speak of a state Who but great vassals are there in the Ancestral Temple or at the Grand Audience But if Chih were to take a small part who could fill a big one  Footnote 115 Tzulu     BOOK XII   1 Yen YÃ¼an asked What is love  The Master said Love is to conquer self and turn to courtesy If we could conquer self and turn to courtesy for one day all below heaven would turn to love Does love flow from within or does it flow from others  Yen YÃ¼an said May I ask what are its signs  The Master said To be always courteous of eye and courteous of ear to be always courteous in word and courteous in deed  Yen YÃ¼an said Though I am not clever I hope to live by these words  2 Chungkung asked What is love  The Master said Without the door to behave as though a great guest were come to treat the people as though we tendered the great sacrifice not to do unto others what we would not they should do unto us to breed no wrongs in the state and breed no wrongs in the home  Chungkung said Though I am not clever I hope to live by these words  3 Ssuma Niu116 asked What is love  The Master said Love is slow to speak  To be slow to speak Can that be called love  The Master said Can that which is hard to do be lightly spoken  Footnote 116 A disciple  4 Ssuma Niu asked What is a gentleman  The Master said A gentleman knows neither sorrow nor fear  No sorrow and no fear Can that be called a gentleman  The Master said He searches his heart it is blameless so why should he sorrow what should he fear  5 Ssuma Niu cried sadly All men have brothers I alone have none  Tzuhsia said I have heard that life and death are allotted that wealth and honours are in Heavens hand A gentleman is careful and does not trip he is humble towards others and courteous All within the four seas are brethren how can a gentleman lament that he has none  6 Tzuchang asked What is insight  The Master said Not to be moved by lap and wash of slander or by plaints that pierce to the quick may be called insight Yea whom lap and wash of slander or plaints that pierce to the quick cannot move may be called farsighted  7 Tzukung asked What is kingcraft  The Master said Food enough troops enough and the trust of the people  Tzukung said If it had to be done which could best be spared of the three  Troops said the Master  And if we had to which could better be spared of the other two  Food said the Master From of old all men die but without trust a people cannot stand  8 Chi Tzucheng117 said It is the stuff alone that makes a gentleman what can art do for him  Alas my lord said Tzukung how ye speak of a gentleman No team overtakes the tongue The art is no less than the stuff the stuff is no less than the art Without the fur a tiger or a leopards hide is no better than the hide of a dog or a goat  9 Duke Ai said to Yu Jo118 In this year of dearth I have not enough for my wants what should be done  Ye might tithe the people answered Yu Jo  A fifth is not enough said the Duke how could I do with a tenth  When all his folk have enough answered Yu Jo shall the lord alone not have enough When none of his folk have enough shall the lord alone have enough  10 Tzuchang asked how to raise the mind and scatter delusions  The Master said Put faithfulness and truth first and follow the right the mind will be raised We wish life to what we love and death to what we hate To wish it both life and death is a delusion      Whether prompted by wealth or not     Yet ye made a distinction  Footnote 117 Minister of Wei  Footnote 118 A disciple of Confucius  11 Ching119 Duke of Chi asked Confucius What is kingcraft  Confucius answered For the lord to be lord and the liege liege the father to be father and the son son  True indeed said the Duke If the lord were no lord and the liege no liege the father no father and the son no son though the grain were there could I get anything to eat  12 The Master said To stint a quarrel with half a word Yu120 is the man  Tzulu never slept over a promise  13 The Master said At hearing lawsuits I am no better than others What is needed is to stop lawsuits  14 Tzuchang asked What is kingcraft  The Master said To be tireless of thought and faithful in doing  15 The Master said Breadth of reading and the ties of courtesy will keep us too from false paths  16 The Master said A gentleman shapes the good in man he does not shape the bad in him The small man does the contrary  17 Chi Kang121 asked Confucius how to rule  Confucius answered To rule is to set straight If ye give a straight lead Sir who will dare not go straight  Footnote 119 Confucius was in Chi in 517 BC The duke was overshadowed by his ministers and thought of setting aside his eldest son  Footnote 120 Tzulu  Footnote 121 On the death of Chi Huan his brother Chi Kang set aside Chi Huans small son and made himself head of the clan  18 Chi Kang being troubled by robbers asked Confucius about it  Confucius answered If ye did not wish it Sir though ye rewarded him no man would steal  19 Chi Kang speaking of kingcraft to Confucius said To help those that follow the Way should we kill the men that will not  Confucius answered Sir what need has a ruler to kill If ye wished for goodness Sir the people would be good The gentlemans mind is the wind and grass are the minds of small men as the wind blows so must the grass bend  20 Tzuchang asked What must a knight be for him to be called eminent  The Master said What dost thou mean by eminence  Tzuchang answered To be famous in the state and famous in his home  That is fame not eminence said the Master The eminent man is plain and straight and loves right He weighs words and scans looks he takes pains to come down to men And he shall be eminent in the state and eminent in his house The famous man wears a mask of love but his deeds belie it Selfconfident and free from doubts fame will be his in the state and fame be his in his home  21 Whilst walking with the Master in the Rain Gods glade Fan Chih said to him May I ask how to raise the mind amend evil and scatter errors  Well asked said the Master Rank thy work above success will not the mind be raised Fight the bad in thee not the bad in other men will not evil be mended One angry morning to forget both self and kin is that no error  22 Fan Chih asked What is love  The Master said To love men  He asked What is wisdom  The Master said To know men  Fan Chih did not understand  The Master said Lift up the straight put by the crooked and crooked men will grow straight  Fan Chih withdrew and seeing Tzuhsia said to him The Master saw me and I asked him what wisdom is He answered Lift up the straight put by the crooked and crooked men will grow straight What did he mean  How rich a saying said Tzuhsia When Shun122 had all below heaven he chose Kaoyao from the many lifted him up and the men without love fled When Tang123 had all below heaven he chose Yiyin124 from the many lifted him up and the men without love fled  Footnote 122 An emperor of the golden age  Footnote 123 The founder of the Shang or Yin dynasty  Footnote 124 Tangs chief minister Yiyin said Whomsoever I serve is he not my lord Whomsoever I rule are they not my people He came in when there was order and came in too when there were tumults He said When Heaven begat the people the man that first understood was sent to waken those slow to understand and the man that first woke was sent to waken those slow to wake I am he that woke first among Heavens people With the help of the Way I shall wake the people For man or wife of all the people below heaven to have missed the blessings of Yao and Shun was the same he thought as if he himself had pushed him into the ditch The burden he shouldered was the weight of all below heaven Mencius Book X chapter 1  23 Tzukung asked about friends  The Master said Talk faithfully to them and guide them well If this is no good stop Do not bring shame upon thee  24 Tsengtzu said A gentleman gathers friends by culture and stays love with friendship     BOOK XIII   1 Tzulu asked how to rule  The Master said Go before work hard  When asked to say more he said Never flag  2 When he was steward of the Chi Chungkung asked how to rule  The Master said Let officers act first overlook small faults lift up brains and worth  Chungkung said How shall I get to know brains and worth to lift them up  Lift up those thou dost know said the Master and those thou dost not know will other men pass by  3 Tzulu said The lord of Wei125 waits for you Sir to govern How shall ye begin  Surely said the Master by putting names right  Indeed said Tzulu that is farfetched Sir Why put them right  What a savage Yu126 is said the Master A gentleman is tonguetied when he does not understand If names are not right words do not fit If words do not fit affairs go wrong If affairs go wrong neither courtesy nor music thrive If courtesy and music do not thrive law and justice fail And if law and justice fail them the people can move neither hand nor foot So a gentleman must be ready to put names into speech and words into deed A gentleman is nowise careless of his words  Footnote 125 See note to Book VII Â 14 Tzulu was his officer  Footnote 126 Tzulu  4 Fan Chih asked to be taught husbandry  The Master said An old husbandman knows more than I do  He asked to be taught gardening  The Master said An old gardener knows more than I do  After Fan Chih had gone the Master said How small a man If those above love courtesy no one will dare to slight them if they love right no one will dare to disobey if they love truth no one will dare to hide the heart Then from the four corners of the earth folk will gather with their children on their backs and what need will there be for husbandry  5 The Master said Though a man have conned three hundred poems if he stands helpless when put to govern if he cannot answer for himself when he is sent to the four corners of the earth many as they are what have they done for him  6 The Master said The man of upright life is obeyed before he speaks commands even go unheeded when the life is crooked  7 The Master said The governments of Lu and Wei are brothers  8 Speaking of Ching of the ducal house of Wei the Master said He was wise in his private life When he had begun to save he said This seems enough When he grew better off he said This seems plenty When he had grown rich he said This seems splendour  9 When Jan Yu was driving him to Wei the Master said What numbers  Jan Yu said Since numbers are here what next is needed  Wealth said the Master  And what comes next after wealth  Teaching said the Master  10 The Master said If I were employed for a twelvemonth much could be done In three years all would be ended  11 The Master said If good men were to govern a land for an hundred years cruelty would be conquered and putting to death done away with How true are these words  12 The Master said Even if a king were to govern a lifetime would pass before love dawned  13 The Master said What is governing to a man that can rule himself If he cannot rule himself how shall he rule others  14 As the disciple Jan127 came back from court the Master said to him Why so late  I had business of state he answered  Household business said the Master If it had been business of state though I am out of office I should have heard of it  15 Duke Ting asked Is there any one saying that can bless a kingdom  Footnote 127 Jan Yu He was in the service of the Chi not of the Duke of Lu  Confucius answered That is more than words can do But men have a saying To be lord is hard and to be minister is not easy And if one knew how hard it is to be lord might not this one saying almost bless a kingdom  And is there any one saying that can wreck a kingdom  That is more than words can do Confucius answered But men have a saying My only delight in being lord is that no one withstands what I say Now if what he says is good and no one withstands him is not that good too But if it is not good and no one withstands him might not this one saying almost wreck a kingdom  16 The Duke of She asked What is kingcraft  The Master answered For those near us to be happy and those far off to come  17 When he was governor of ChÃ¼fu Tzuhsia asked how to rule  The Master said Be not eager for haste look not for small gains Nothing done in haste is thorough and looking for small gains big things are left undone  18 The Duke of She told Confucius Among the upright men of my clan if the father steals a sheep his son bears witness  Confucius answered Our clans uprightness is unlike that The father screens his son and the son screens his father There is uprightness in this  19 Fan Chih asked What is love  The Master said To be humble at home earnest at work and faithful to all Even among wild tribes none of this must be dropped  20 Tzukung asked What is it that we call knighthood  The Master said To be called a knight a man must be shamefast in all that he does if he is sent to the four corners of the earth he must not disgrace his lords commands  May I ask who would come next  He that his clansmen call a good son and his neighbours call modest  And who would come next  A man that clings to his word and sticks to his course a flinty little fellow would perhaps come next  And how are the crown servants of today  What The weights and measures men said the Master Are they worth reckoning  21 The Master said As I cannot get men of the middle way I have to fall back on zealous and austere men Zealous men push ahead and take things up and there are things that austere men will not do  22 The Master said The men of the south have a saying Unless he is stable a man will make neither a wizard nor a leech This is true His instability of mind may disgrace him  The Master said Neglect of the omens that is all  23 The Master said Gentlemen unite but are not the same Small men are all the same but each for himself  24 Tzukung said If the whole countryside loved a man how would that be  It would not do said the Master  And how would it be if the whole countryside hated him  It would not do said the Master It would be better if all the good men of the countryside loved him and all the bad men hated him  25 The Master said A gentleman is easy to serve and hard to please If we go from the Way to please him he is not pleased but his commands are measured to the man A small man is hard to serve and easy to please Though we go from the Way to please him he is pleased but he expects everything of his men  26 The Master said A gentleman is highminded not proud the small man is proud but not highminded  27 The Master said Strength and courage simplicity and modesty are akin to love  28 Tzulu asked When can a man be called a knight  The Master said To be earnest encouraging and kind may be called knighthood earnest and encouraging with his friends and kind to his brothers  29 The Master said If a good man taught the people for seven years they would be fit to bear arms too  30 The Master said To take untaught men to war is called throwing them away     BOOK XIV   1 Hsien128 asked What is shame  The Master said To draw pay when the land keeps the Way and to draw pay when it has lost the Way is shame  2 To eschew strife and bragging spite and greed would that be love  The Master said That may be hard to do but I do not know that it is love  3 The Master said A knight that is fond of ease does not amount to a knight  4 The Master said Whilst the land keeps the Way be fearless of speech and fearless in deed when the land has lost the Way be fearless in deed but soft of speech  5 The Master said A man of mind can always talk but talkers are not always men of mind Love is always bold though boldness is found without love  6 Nankung Kuo said to Confucius Yi129 shot well Ao pushed a boat over land each died before his time YÃ¼ and Chi toiled at their crops and had all below heaven  The Master did not answer But when Nankung Kuo had gone he said What a gentleman he is How he honours mind  Footnote 128 The disciple YÃ¼an Ssu  Footnote 129 Yi was killed by his best pupil who said to himself In all the world no one but Yi shoots better than I do So he killed him  7 The Master said Alas there have been gentlemen without love But there has never been a small man that was not wanting in love  8 The Master said Can he love thee that never tasks thee Can he be faithful that never chides  9 The Master said The decrees were drafted by Pi Shen criticised by Shihshu polished by the Foreign Minister TzuyÃ¼ and given the final touches by Tzuchan of Tungli  10 When he was asked what he thought of Tzuchan the Master said A kindhearted man  Asked what he thought of Tzuhsi the Master said Of him What I think of him  Asked what he thought of Kuan Chung130 the Master said He was the man that drove the Po from the town of Pien with its three hundred households to end his days on coarse rice without his muttering a word  Footnote 130 See note to Book III Â 22  11 The Master said Not to grumble at being poor is hard not to be proud of wealth is easy  12 The Master said Meng Kungcho is more than fit to be steward of Chao or Wei but he could not be minister of Teng or Hsieh  13 Tzulu asked what would make a fullgrown man  The Master said The wisdom of Tsang Wuchung Kungchos lack of greed Chuang of Piens boldness and the skill of Jan Chiu graced by courtesy and music might make a fullgrown man  But now he said who asks the like of a fullgrown man He that in sight of gain thinks of right who when danger looms stakes his life who though the bond be old does not forget what he has been saying all his life might make a fullgrown man  14 Speaking of Kungshu Wen the Master said to Kungming Chia Is it true that thy master does not speak nor laugh nor take a gift  Kungming Chia answered That is saying too much My master only speaks when the time comes so no one tires of his speaking he only laughs when he is merry so no one tires of his laughter he only takes when it is right to take so no one tires of his taking  It may be so said the Master but is it  15 The Master said When he held Fang and asked Lu to appoint an heir though Tsang Wuchung said he was not forcing his lord I do not believe it  16 The Master said Duke Wen of Chin was deep but dishonest Duke Huan of Chi was honest but shallow  17 Tzulu said When Duke Huan slew the young duke Chiu and Shao Hu died with him but Kuan Chung did not was not this want of love131  Footnote 131 Chiu and Huan were brothers sons of the Duke of Chi When their father died their uncle seized the throne To preserve the rightful heir Shao Hu and Kuan Chung fled with Chiu to Lu whilst Huan escaped to another state Later on the usurper was murdered and Huan returned to Chi and secured the throne He then required the Duke of Lu to kill his brother and deliver up to him Shao Hu and Kuan Chung This was done But on the way to Chi Shao Hu killed himself Kuan Chung on the other hand took service under Duke Huan became his chief minister and raised the state to greatness See note to Book III Â 22  The Master said Duke Huan gathered the great vassals round him not by chariots of war but through the might of Kuan Chung What can love do more What can love do more  18 Tzukung said When Duke Huan slew the young duke Chiu and Kuan Chung could not face death and even became his minister surely he showed want of love  The Master said By Kuan Chung helping Duke Huan to put down the great vassals and make all below heaven one men have fared the better from that day to this But for Kuan Chung our hair would hang down our backs and our coats would button to the left or should he like the bumpkin and his lass their troth to keep have drowned in a ditch unknown to anyone  19 The minister Hsien who had been steward to Kungshu Wen went to audience of the Duke together with Wen  When the Master heard of it he said He is rightly called Wen wellbred  20 The Master spake of Ling Duke of Weis contempt for the Way  Kang132 said If this be so how does he escape ruin  Confucius answered With Chungshu YÃ¼ in charge of the guests the reader To in charge of the Ancestral Temple and Wangsun Chia in charge of the troops how should he come to ruin  21 The Master said When words are unblushing they are hard to make good  Footnote 132 Chi Kang  22 Chen Cheng murdered Duke Chien133  Confucius bathed and went to court and told Duke Ai saying Chen Heng has murdered his lord pray punish him  The Duke said Tell the three chiefs  Confucius said As I follow in the wake of the ministers I dared not leave this untold but the lord says Tell the three chiefs  He told the three chiefs It did no good  Confucius said As I follow in the wake of the ministers I dared not leave this untold  23 Tzulu asked how to serve a lord  The Master said Never cheat him stand up to him  24 The Master said A gentlemans life leads upwards the small mans life leads down  25 The Master said The men of old learned for their own sake today men learn for show  26 ChÃ¼ PoyÃ¼ sent a man to Confucius  As they sat together Confucius asked him What does your master do  He answered My master wishes to make his faults fewer but cannot  When the messenger had left the Master said A messenger a messenger indeed  27 The Master said When not in office discuss not policy  Footnote 133 481 BC two years before the death of Confucius who was not at the time in office Chien was Duke of Chi a state bordering on Lu The three chiefs were the heads of the three great clans that were allpowerful in Lu  28 Tsengtzu said Even in his thoughts a gentleman does not outstep his place  29 The Master said A gentleman is shamefast of speech his deeds go further  30 The Master said In the way of the gentleman there are three things that I cannot achieve Love is never troubled wisdom has no doubts courage is without fear  That is what ye say Sir said Tzukung  31 Tzukung would liken this man to that  The Master said What talents Tzu has Now I have no time for this  32 The Master said Sorrow not at being unknown sorrow for thine own shortcomings  33 The Master said Not to expect to be cheated nor to look for falsehood and yet to see them coming shows worth in a man  34 Weisheng Mou said to Confucius How dost thou still find roosts to roost on Chiu unless by wagging a glib tongue  Confucius answered I dare not wag a glib tongue but I hate stubbornness  35 The Master said A steed is not praised for his strength but praised for his mettle  36 One said To mete out good for evil how were that  And how would ye meet good said the Master Meet evil with justice meet good with good  37 The Master said Alas no man knows me Tzukung said Why do ye say Sir that no man knows you  The Master said Never murmuring against Heaven nor finding fault with men learning from the lowest cleaving the heights I am known but to one but to Heaven  38 Liao the dukes uncle spake ill of Tzulu to Chisun134  Tzufu Chingpo told this to Confucius saying My masters mind is surely being led astray by the dukes uncle but I have still the strength to expose his body in the marketplace  The Master said If the Way is to be kept that is the Bidding and if the Way is to be lost this is the Bidding What can the dukes uncle do against the Bidding  39 The Master said Men of worth flee the world the next best flee the land Then come those that go at a look then those that go at words  40 The Master said Seven men did so  41 Tzulu spent a night at Shihmen  The gatekeeper asked him Whence comest thou  From Confucius answered Tzulu  The man that knows it is no good and yet must still be doing said the gatekeeper  42 When the Master was chiming his sounding stones in Wei a basketbearer said as he passed the door The heart is full that chimes those stones But then he said For shame What a tinkling sound If no one knows thee have done      Wade the deep places     Lift thy robe through the shallows  Footnote 134 The head of the Chi clan in whose service Tzulu was  The Master said Where theres a will that is nowise hard  43 Tzuchang said What does the Book mean by saying that Kaotsung135 in his mourning shed did not speak for three years  Why pick out Kaotsung said the Master The men of old were all thus For three years after their lord had died the hundred officers did each his duty and hearkened to the chief minister  44 The Master said When those above love courtesy the people are easy to lead  45 Tzulu asked What makes a gentleman  The Master said To be bent on becoming better  Is that all said Tzulu  By becoming better to bring peace to men  And is that all  By becoming better to bring peace to all men said the Master Even Yao and Shun were still struggling to become better and so bring peace to all men  46 YÃ¼an Jang awaited the Master squatting  Unruly when young unmentioned as man undying when old spells goodfornothing said the Master and he hit him on the leg with his staff  47 When a lad from the village of ChÃ¼eh was made messenger someone asked saying Is it because he is doing well  The Master said I have seen him sitting in a mans seat and seen him walking abreast of his elders He does not try to do well he wishes to be quickly grown up  Footnote 135 An emperor of the Yin dynasty     BOOK XV   1 Ling Duke of Wei asked Confucius about the line of battle  Confucius answered Of the ritual of dish and platter136 I have heard somewhat I have not learnt warfare  He left the next day  In Chen grain ran out His followers were too ill to rise Tzulu showed that he was put out  Has a gentleman to face want too he said  Gentlemen have indeed to face want said the Master The small man when he is in want runs to excess  2 The Master said Tzu137 dost thou not take me for a man that has learnt much and thought it over  Yes he answered is it not so  No said the Master I string all into one  3 The Master said Yu138 how few men know greatheartedness  Footnote 136 For sacrifice  Footnote 137 Tzukung  Footnote 138 Tzulu probably said to him on the occasion mentioned in Â I  4 The Master said To rule doing nothing was what Shun did For what is there to do Selfrespect and to set the face to rule is all  5 Tzuchang asked how to get on  The Master said Be faithful and true of word plain and lowly in thy walk thou wilt get on even in tribal lands If thy words be not faithful and true thy walk not plain and lowly wilt thou get on even in thine own town Standing see these words ranged before thee driving see them written upon the yoke Then thou wilt get on  Tzuchang wrote them on his girdle  6 The Master said Straight indeed was the historian YÃ¼ Like an arrow whilst the land kept the Way and like an arrow when it lost the Way What a gentleman was ChÃ¼ PoyÃ¼ Whilst the land kept the Way he took office and when the land had lost the Way he rolled himself up in thought  7 The Master said Not to speak to him that has ears to hear is to spill the man To speak to a man without ears to hear is to spill thy words Wisdom spills neither man nor words  8 The Master said A high will or a loving heart will not seek life at cost of love To fulfil love they will kill the body  9 Tzukung asked how to attain to love  The Master said A workman bent on good work must first sharpen his tools In the land that is thy home serve those that are worthy among the great and make friends with loving knights  10 Yen YÃ¼an asked how to rule a kingdom  The Master said Follow the Hsia seasons drive in the chariot of Yin wear the headdress of Chou take for music the Shao and its dance Banish the strains of Cheng and flee men that are glib for the strains of Cheng are wanton and glib speakers are dangerous  11 The Master said Without thought for far off things there shall be trouble near at hand  12 The Master said All is ended I have seen no one that loves mind as he loves looks  13 The Master said Did not Tsang Wen filch his post He knew the worth of Liuhsia Hui139 and did not stand by him  14 The Master said By asking much of self and little of other men ill feeling is banished  15 The Master said Unless a man say Would this do Would that do I can do nothing for him  16 The Master said When all day long there is no talk of right and little wiles find favour the company is in hard case  17 The Master said Right is the stuff of which a gentleman is made Done with courtesy spoken with humility rounded with truth right makes a gentleman  18 The Master said His shortcomings trouble a gentleman to be unknown does not trouble him  19 The Master said A gentleman fears that his name shall be no more heard when life is done  Footnote 139 Another of these _seigneurs du temps jadis_ that is more to us than a dim shadow for he still lives in the pages of Mencius who tells us that He was not ashamed of a foul lord and did not refuse a small post On coming in he did not hide his worth but held his own way Neglected and idle he did not grumble straitened and poor he did not mope When brought together with country folk he was quite at his ease and could not bear to leave them Thou art thou he said and I am I standing beside me with thy coat off or thy body naked how canst thou defile me Book X chapter 1 He stopped if a hand was raised to stop him for he did not care whether he went or no Book III chapter 9  20 The Master said A gentleman asks of himself the small man asks of others  21 The Master said A gentleman is firm not quarrelsome a friend not a partisan  22 The Master said A gentleman does not raise a man for his words nor spurn the speech for the man  23 Tzukung said Is there one word by which we may walk till life ends  The Master said Fellowfeeling perhaps Do not do unto others what thou wouldst not have done to thee  24 The Master said Of the men that I meet whom do I cry down whom do I overpraise Or if I overpraise them it is after testing them It was owing to this people that the three lines of kings went the straight way  25 The Master said I have still known historians that would leave a gap in their text and men that would lend a horse to another to ride Now it is so no more  26 The Master said Cunning words confound the mind petty impatience confounds great projects  27 The Master said The hatred of the many must be looked into the love of the many must be looked into  28 The Master said The man can exalt the Way it is not the Way that exalts the man  29 The Master said The fault is to cleave to a fault  30 The Master said I have spent whole days without food and whole nights without sleep thinking and gained nothing by it Learning is better  31 The Master said A gentleman thinks of the Way he does not think of food Sow and famine may follow learn and pay may come but a gentleman grieves for the Way to be poor does not grieve him  32 The Master said What wisdom has got will be lost again unless love hold it fast Wisdom to get and love to hold fast without dignity of bearing will not be honoured among men Wisdom to get love to hold fast and dignity of bearing without courteous ways are not enough  33 The Master said A gentleman has no small knowledge but he can carry out big things the small man can carry out nothing big but he may be knowing in small things  34 The Master said Love is more to the people than fire and water I have seen men come to their death by fire and water I have seen no man that love brought to his death  35 The Master said When love is at stake yield not to an army  36 The Master said A gentleman is consistent not changeless  37 The Master said A servant of the king honours his work and puts food after it  38 The Master said Learning knows no rank  39 The Master said Mingle not in projects with a man whose way is not thine  40 The Master said The whole end of speech is to be understood  41 When he saw the musicmaster Mien the Master said as they came to the steps Here are the steps On coming to the mat he said Here is the mat When all were seated the Master told him He and he are here  After the musicmaster had gone Tzuchang said Is this the way to speak to a musicmaster  The Master said Surely it is the way to help a musicmaster140  Footnote 140 The man being blind as so many musicians are in the East     BOOK XVI   1 The Chi was about to make war on ChuanyÃ¼141  When Confucius saw Jan Yu and Chilu142 they said to him The Chi is going to deal with ChuanyÃ¼  Confucius said After all Chiu143 art thou not in the wrong The kings of old made ChuanyÃ¼ lord of Tung Meng144 Moreover as ChuanyÃ¼ is inside our borders it is the liege of the spirits of earth and corn of our land so how can ye make war upon it  Jan Yu said Our master wishes it Tzulu and I his two ministers do not either of us wish it  Confucius said Chiu Chou Jen used to say He that can put forth his strength takes his place in the line he that cannot stands back Who would take to help him a man that is no stay in danger and no support in falling Moreover what thou sayest is wrong If a tiger or a buffalo escapes from his pen if tortoiseshell or jade is broken in its case who is to blame  Jan Yu said But ChuanyÃ¼ is now strong and it is near to Pi145 if it is not taken now in days to come it will bring sorrow on our sons and grandsons  Footnote 141 A small feudatory state of Lu  Footnote 142 Tzulu He and Jan Yu were in the service of the Chi  Footnote 143 Jan Yu  Footnote 144 A mountain in ChuanyÃ¼ Since the Emperor had given the ruler of ChuanyÃ¼ the right to sacrifice to its mountains that state had some measure of independence though it was feudatory to Lu and within its borders  Footnote 145 A town belonging to the Chi  Chiu said Confucius instead of saying I want it a gentleman hates to plead that he needs must I have heard that fewness of men does not vex a king or a chief but unlikeness of lot vexes him Poverty does not vex him but want of peace vexes him For if wealth were even no one would be poor In harmony is number peace prevents a fall Thus if far off tribes will not submit bring them in by encouraging mind and art and when they come in give them peace But now when far off tribes will not submit ye two helpers of your lord cannot bring them in The kingdom is split and falling and ye cannot save it Yet inside our land ye plot to move spear and shield The sorrows of Chis grandsons will not rise in ChuanyÃ¼ I fear they will rise within the palace wall  2 Confucius said When the Way is kept below heaven courtesy music and punitive wars flow from the Son of heaven When the Way is lost below heaven courtesy music and punitive wars flow from the great vassals When they flow from the great vassals they will rarely last for ten generations When they flow from the great ministers they will rarely last for five generations When underlings sway the countrys fate they will rarely last for three generations When the Way is kept below heaven power does not lie with the great ministers When the Way is kept below heaven common folk do not argue  3 Confucius said For five generations its income has passed from the ducal house146 for four generations power has lain with the great ministers and humbled therefore are the sons and grandsons of the three Huan  Footnote 146 Of Lu  4 Confucius said There are three friends that help us and three that do us harm The friends that help us are a straight friend an outspoken friend and a friend that has heard much The friends that harm us are plausible friends friends that like to flatter and friends with a glib tongue  5 Confucius said There are three delights that do good and three that do us harm Those that do good are delight in dissecting good form and music delight in speaking of the good in men and delight in having many worthy friends Those that do harm are proud delights delight in idle roving and delight in the joys of the feast  6 Confucius said Men that wait upon lords fall into three mistakes To speak before the time has come is rashness Not to speak when the time has come is secrecy To speak heedless of looks is blindness  7 Confucius said A gentleman has three things to guard against  In the days of thy youth ere thy strength is steady beware of lust When manhood is reached in the fulness of strength beware of strife In old age when thy strength is broken beware of greed  8 Confucius said A gentleman holds three things in awe He is in awe of the Bidding of Heaven he is in awe of great men and he is awed by the words of the holy  The small man knows not the Bidding of Heaven and holds it not in awe He is saucy towards the great he makes game of holy mens words  9 Confucius said The best men are born wise Next come those that grow wise by learning then those that learn from toil Those that do not learn from toil are the lowest of the people  10 Confucius said A gentleman has nine aims To see clearly to understand what he hears to be warm in manner dignified in bearing faithful of speech keen at work to ask when in doubt in anger to think of difficulties and in sight of gain to think of right  11 Confucius said In sight of good to be filled with longing to look on evil as scalding to the touch I have seen such men I have heard such words  To live apart and search thy will to achieve thy Way by doing right I have heard these words but I have seen no such men  12 Ching Duke of Chi had a thousand teams of horses but the people on his death day found no good in him to praise Poyi147 and Shuchi148 starved at the foot of Shouyang and to this day the people still praise them  Is not this the clue to that  Footnote 147 See note to Book V Â 22  Footnote 148 See note to Book V Â 22  13 Chen Kang149 asked PoyÃ¼150 Apart from us have ye heard anything Sir  He answered No once as my father stood alone and I sped across the hall he said to me Art thou learning poetry I answered No He that does not learn poetry he said has no hold on words I withdrew and learned poetry  Another day when he again stood alone and I sped across the hall he said to me Art thou learning courtesy I answered No He that does not learn courtesy he said has no foothold I withdrew and learned courtesy These two things I have heard  Chen Kang withdrew and cried gladly I asked one thing and I get three I hear of poetry I hear of courtesy and I hear too that a gentleman stands aloof from his son  14 A king speaks of his wife as my wife She calls herself handmaid Her subjects speak of her as our lords wife but when they speak to foreigners they say our little queen Foreigners speak of her too as the lords wife  Footnote 149 The disciple Tzuchin  Footnote 150 The son of Confucius     BOOK XVII   1 Yang Huo151 wished to see Confucius Confucius did not go to see him He sent Confucius a sucking pig Confucius chose a time when he was out and went to thank him They met on the road  He said to Confucius Come let us speak together To cherish a gem and undo the kingdom can that be called love  It cannot said Confucius  To love office and miss the hour again and again can that be called wisdom  It cannot said Confucius  The days and months go by the years do not wait for us  True said Confucius I must take office  2 The Master said Men are near to each other by nature the lives they lead sunder them  3 The Master said Only the wisest and stupidest of men never change  4 As the Master came to Wucheng152 he heard sounds of lute and song  Why use an oxknife to kill a fowl said the Master with a pleased smile  Tzuyu answered Master once I heard you say A gentleman that has learnt the Way loves men small folk that have learnt the Way are easy to rule  Footnote 151 The allpowerful unscrupulous minister of the Chi  Footnote 152 A very small town of which the disciple Tzuyu was governor  My twothree boys said the Master what Yen153 says is true I spake before in play  5 Kungshan Fujao154 held Pi in rebellion He called the Master who wished to go  Tzulu said in displeasure This cannot be why must ye go to Kungshan  The Master said He calls me and would that be all Could I not make an Eastern Chou155 of him that uses me  6 Tzuchang asked Confucius what is love  Confucius said Love is to mete out five things to all below heaven  May I ask what they are  Modesty and bounty said Confucius truth earnestness and kindness Modesty escapes insult bounty wins the many truth gains mens trust earnestness brings success and kindness is enough to make men work  7 Pi Hsi called the Master who wished to go  Tzulu said Master I heard you say once To men whose own life is evil no gentleman will go Pi Hsi holds Chungmou in rebellion how could ye go to him Sir  Yes I said so answered the Master But is not a thing called hard that cannot be ground thin white if steeping will not turn it black And am I a gourd Can I hang without eating  Footnote 153 Tzuyu  Footnote 154 Steward of the Chi and a confederate of Yang Huo  Footnote 155 A kingdom in the east to match Chou in the west the home of Kings Wen and Wu  8 The Master said Hast thou heard the six words Yu156 and the six they sink into  He answered No  Sit down and I shall tell thee The thirst for love without love of learning sinks into simpleness Love of knowledge without love of learning sinks into vanity Love of truth without love of learning sinks into cruelty Love of straightness without love of learning sinks into rudeness Love of daring without love of learning sinks into turbulence Love of strength without love of learning sinks into oddity  9 The Master said My little children why do ye not learn poetry Poetry would ripen you teach you insight friendliness and forbearance show you how to serve your father at home and teach your lord abroad and it would teach you the names of many birds and beasts plants and trees  10 The Master said to PoyÃ¼157 Hast thou done the Chounan and Shaonan158 He that has not done the Chounan and Shaonan is like a man standing with his face to the wall  11 The Master said Courtesy courtesy is the cry but are jade and silk the whole of courtesy Music music is the cry but are bells and drums the whole of music  12 The Master said Fierce looks and weakness within are like the small man like the thief that breaks through or clambers over a wall  Footnote 156 Tzulu  Footnote 157 His son  Footnote 158 The first two books of _The Book of Poetry_  13 The Master said The plain townsman is the bane of mind  14 The Master said To tell unto the dust all that we hear upon the way is to lay waste the mind  15 The Master said How can we serve the king with a low fellow who is itching to get what he wants and trembling to lose what he has This trembling to lose what he has may lead him anywhere  16 The Master said Men of old had three failings which have perhaps died out today Ambitious men of old were not nice now they are unprincipled Stern men of old were hard now they are quarrelsome Ignorant men of old were straight now they are false That is all  17 The Master said Smooth words and fawning looks are seldom found with love  18 The Master said I hate the ousting of scarlet by purple I hate the strains of Cheng confounders of sweet music I hate a sharp tongue the ruin of kingdom and home  19 The Master said I wish no word were spoken  Tzukung said Sir if ye said no word what could your little children write  The Master said What are the words of Heaven The four seasons pass the hundred things bear life What are the words of Heaven  20 Ju Pei wished to see Confucius Confucius pleaded sickness but as the messenger left his door he took a lute and sang so the messenger should hear  21 Tsai Wo159 asked about mourning for three years He thought that one was enough  If for three years gentlemen forsake courtesy courtesy must suffer If for three years they forsake music music must decay The old grain passes the new grain sprouts the round of woods for the firedrill is ended in one year  The Master said Feeding on rice clad in brocade couldst thou be at rest  I could he answered  Then do what gives thee rest But a gentleman when he is mourning has no taste for sweets and no ear for music he cannot rest in his home So he gives these up Now they give thee rest then keep them  After Tsai Wo had gone the Master said YÃ¼s160 want of love At the age of three a child first leaves the arms of his father and mother and mourning lasts for three years everywhere below heaven But did YÃ¼ have for three years the love of his father and mother  22 The Master said It is hard indeed when a man eats his fill all day and has nothing to task the mind Could he not play at chequers Even that were better  23 Tzulu said Do gentlemen honour daring  They put right higher said the Master With daring and no sense of right gentlemen turn rebels and small men turn robbers  24 Tzukung said Do gentlemen hate too  Footnote 159 A disciple  Footnote 160 Tsai Wo  They do said the Master They hate the sounding of evil deeds they hate men of low estate that slander those over them they hate daring without courtesy they hate men that are stout and fearless but blind  And Tzu161 he said dost thou hate too  I hate those that take spying for wisdom who take want of manners for courage and take taletelling for honesty  25 The Master said Only maids and servinglads are hard to train If we draw near to them they get unruly if we hold them off they grow spiteful  26 The Master said When a man of forty is hated he will be so to the end  Footnote 161 Tzukung     BOOK XVIII   1 The lord of Wei162 left the lord of Chi163 was made a slave Pikan164 spake out and died  Confucius said Three of the Yin had love  2 Whilst Liuhsia Hui165 was Chief Knight166 he was dismissed thrice  Men said Is it not yet time to leave Sir  He answered If I serve men the straight way where can I go without being dismissed thrice If I am to serve men the crooked way why should I leave the land of my father and mother  3 Speaking of how to treat Confucius Ching Duke of Chi said I cannot treat him as I do the Chi I put him between Chi and Meng  I am old he said I cannot use him  Confucius left  4 The men of Chi167 sent a gift of music girls Chi Huan accepted them and for three days no court was held  Confucius left  Footnote 162 Kinsmen of the tyrant Chou Hsin who brought the house of Yin to an end  Footnote 163 Kinsmen of the tyrant Chou Hsin who brought the house of Yin to an end  Footnote 164 Kinsmen of the tyrant Chou Hsin who brought the house of Yin to an end  Footnote 165 See note to Book XV Â 13  Footnote 166 Or Criminal Judge  Footnote 167 To Lu 497 BC The turningpoint in Confuciuss career He left office and his native land and wandered abroad for twelve long years  5 ChiehyÃ¼ the madhead of Chu as he passed Confucius sang      Phoenix bright phoenix       Thy glory is ended     Think of tomorrow       The past cant be mended     Up and away     The Court is today       With danger attended  Confucius alighted for he wished to speak with him but he hurried away and he could not speak with him  6 ChangchÃ¼ and Chiehni were working in the fields As Confucius passed them he sent Tzulu to ask for the ford  ChangchÃ¼ said Who is that holding the reins  He is Kung Chiu said Tzulu  Is he Kung Chiu of Lu  Yes said Tzulu  He knows the ford said ChangchÃ¼  Tzulu asked Chiehni  Who are ye Sir he answered  I am Chung Yu  The disciple of Kung Chiu of Lu  Yes he answered  All below heaven is seething and boiling said Chiehni who can change it How much better would it be to follow a knight that flees the world than to follow a knight that flees persons  And he went on hoeing without stop  Tzulu went and told the Master whose face fell  Can I herd with birds and beasts he said Whom but these men can I take as fellows And if the Way were kept by all below heaven I should not need to change them  7 Tzulu who was following behind met an old man carrying a basket on his staff  Tzulu asked him Have ye seen the Master Sir  The old man answered Thy four limbs are idle thou canst not sort the five seeds who is thy Master  And he planted his staff and weeded  Tzulu stood and bowed  He kept Tzulu for the night killed a fowl made millet gave them him to eat and presented his two sons  Tzulu left the next day and told the Master  The Master said He is in hiding  He sent Tzulu back to see him but when he arrived he had gone  Tzulu said Not to take office is not right If the ties of old and young cannot be thrown off how can he throw off the lieges duty to his lord He wishes to keep his life clean but he is unsettling the bonds between men To discharge that duty a gentleman takes office though he knows beforehand that the Way will not be kept  8 Poyi Shuchi YÃ¼chung Yiyi Chuchang Liuhsia Hui and Shaolien were men that hid from the world  The Master said Poyi168 and Shuchi169 did not bend the will or shame the body  Footnote 168 See note to Book V Â 22  Footnote 169 See note to Book V Â 22  We must say that Liuhsia Hui170 and Shaolien bent the will and shamed the body Their words hit mans duty their deeds hit our hopes This we can say and no more  We may say that YÃ¼chung and Yiyi lived hidden but were free of speech Their lives were clean their retreat was well weighed  But I am unlike all of them there is nothing I must or must not do  9 Chih the Great Musicmaster went to Chi Kan the conductor at the second meal went to Chu Liao the conductor at the third meal went to Tsai ChÃ¼eh the conductor at the fourth meal went to Chin The drum master Fangshu crossed the River the tambourine master Wu crossed the Han Yang the second bandmaster and Hsiang who played the sounding stones crossed the sea  10 The Duke of Chou171 said to the Duke of Lu172 A gentleman does not forsake kinsmen nor offend his great lieges by not using them He will not cast off an old friend unless he have big cause he does not ask everything of anyone  11 Chou had eight knights Pota and Pokuo Chungtu and Chunghu Shuyeh and Shuhsia Chisui and Chikua  Footnote 170 See note to Book XV Â 13  Footnote 171 See note to Book VII Â 5  Footnote 172 His son     BOOK XIX   1 Tzuchang said The knight that stakes his life when he sees danger who in sight of gain thinks of right and whose thoughts are reverent at worship and sad when he is in mourning will do  2 Tzuhsia said Goodness clutched too narrowly a belief in the Way which is not honest can they be said to be or said not to be  3 The disciples of Tzuhsia asked Tzuchang whom we should choose as our companions  Tzuchang said What does Tzuhsia say  They answered Tzuhsia says If the men be well for thee go with them if they be not well push them off  Tzuchang said This is not the same as what I had heard A gentleman honours worth and bears with the many He applauds goodness and pities weakness If I were a man of great worth what could I not bear with in others If I am without worth men will push me off why should I push other men off  4 Tzuhsia said Though there must be things worth seeing along small ways a gentleman does not follow them for fear of being left at last in the mire  5 Tzuhsia said He that each day remembers his failings and each month forgets nothing won may be said to love learning indeed  6 Tzuhsia said By wide learning and singleness of will by keen questions and home thinking we reach love  7 Tzuhsia said To master the hundred trades apprentices work in a shop by learning a gentleman finds his way  8 Tzuhsia said The small man must always gloss his faults  9 Tzuhsia said A gentleman changes thrice Looking up to him he seems stern as we draw near he warms but his speech when we hear it is sharp  10 Tzuhsia said Until they trust him a gentleman lays no burdens on his people If they do not trust him they will think it cruel Until they trust him he does not chide them Unless they trust him it will seem faultfinding  11 Tzuhsia said If we keep within the bounds of honour we can step to and fro through propriety  12 Tzuyu said The disciples the little sons of Tzuhsia can sprinkle and sweep attend and answer come in and go out but what can come of twigs without roots  When Tzuhsia heard this he said Yen Yu173 is wrong If we teach one thing in the way of a gentleman first shall we tire before reaching the next Thus plants and trees differ in size Should the way of a gentleman bewilder him To learn it first and last none but the holy are fit  Footnote 173 Tzuyu  13 Tzuhsia said A servant of the crown should give his spare strength to learning With his spare strength a scholar should serve the crown  14 Tzuyu said Mourning should stretch to grief and stop there  15 Tzuyu said Our friend Chang174 can do hard things but love is not yet his  16 Tsengtzu said Chang is so spacious so lordly that at his side it is hard to do what love bids  17 Tsengtzu said I have heard the Master say Man never shows what is in him unless it be in mourning those dear to him  18 Tsengtzu said I have heard the Master say In all else we may be as good a son as Meng Chuang but in not changing his fathers ministers or his fathers rule he is hard to match  19 The Meng175 made Yang Fu176 Chief Knight177 who spake to Tsengtzu about it  Tsengtzu said Those above have lost their way the people have long been astray When thou dost get at the truth be moved to pity not puffed with joy  20 Tzukung said Chou178 was not so very wicked Thus a gentleman hates to live in a hollow down into which runs all that is foul below heaven  21 Tzukung said A gentlemans faults are like the eating of sun or moon179 All men see them and when he mends all men look up to him  Footnote 174 Tzuchang  Footnote 175 The chief of the Meng clan powerful in Lu  Footnote 176 A disciple of Tsengtzu  Footnote 177 Or criminal judge  Footnote 178 The tyrant that ended the Yin dynasty  Footnote 179 An eclipse  22 Kungsun Chao of Wei asked Tzukung From whom did Chungni180 learn  Tzukung said The Way of Wen and Wu181 has not fallen into ruin It lives in men the big in big men the small in small men In none of them is the Way of Wen and Wu missing How should the Master not learn it What need had he for a set teacher  23 In talk with the great men of the court Shusun Wushu182 said Tzukung is worthier than Chungni  Tzufu Chingpo told this to Tzukung  Tzukung said This is like the palace wall My wall reaches to the shoulder peeping over you see the good home within The Masters wall is several fathoms high no one can see the beauty of the Ancestral Temple and the wealth of its hundred officers unless he gets in by the gate And if only a few men find the gate may not my lord have spoken the truth  24 Shusun Wushu cried down Chungni  Tzukung said It is labour lost Chungni cannot be cried down The greatness of other men is a hummock over which we can still leap Chungni is the sun or moon which no one can overleap Though the man were willing to kill himself how could he hurt the sun or moon That he does not know his own measure would only be seen the better  25 Chen Tzuchin183 said to Tzukung Ye humble yourself Sir In what is Chungni your better  Footnote 180 Confucius  Footnote 181 See Introduction  Footnote 182 Head of the Meng clan  Footnote 183 A disciple of Tzukung  Tzukung said By one word a gentleman shows wisdom by one word want of wisdom Words must not be lightly spoken No one can come up to the Master as heaven is not to be climbed by steps If the Master had power in a kingdom or a clan the saying would come true What he sets up stands he shows the way and men go it he brings peace and they come he stirs them and they are at one Honoured in life he is mourned when dead Who can come up to him     BOOK XX184   1 Yao said Hail to thee Shun The count that Heaven is telling falls on thee Keep true hold of the centre If there be stress or want within the four seas the gift of Heaven will pass for ever  Shun laid the same commands on YÃ¼  _Tang_ said I Thy little child Li dare to offer this black steer and dare to proclaim before Thee Almighty Lord that I dare not forgive sin nor keep down Thy ministers Search them O Lord in Thine heart If Our life be sinful visit it not upon the ten thousand homesteads If the ten thousand homesteads sin the sin is on Our head  Chou bestowed great gifts and good men grew rich  Loving hearts are better than near kinsmen All the people blame no one but me185  He saw to weights and measures revised the laws and brought back broken officers Order reigned everywhere He revived ruined kingdoms and restored fiefs that had fallen in All hearts below heaven turned to him The peoples food burials and worship weighed most with him His bounty gained the many his truth won the peoples trust his earnestness brought success his justice made men glad  Footnote 184 This chapter shows the principles on which China was governed in old times Yao and Shun were the legendary founders of the Chinese Empire YÃ¼ Tang and Chou were the first emperors of the houses of Hsia Shang and Chou which had ruled China up till the time of Confucius  Footnote 185 Said by King Wu Chou The people blamed him for not dethroning at once the tyrant Chou Hsin  2 Tzuchang asked Confucius How should men be governed  The Master said To govern men we must honour five fair things and spurn four evil things  Tzuchang said What are the five fair things  The Master said A gentleman is kind but not wasteful he burdens but he does not embitter he is covetous but not greedy highminded but not proud stern but not fierce  Tzuchang said What is meant by kindness without waste  The Master said To further what furthers the people is not that kindness without waste If burdens be sorted to strength who will grumble To covet love and get love is that greed Few or many small or great all is one to a gentleman he dares not slight any man Is not this to be highminded but not proud A gentleman straightens his robe and cap and settles his look He is severe and men look up to him with awe Is not this to be stern but not fierce  Tzuchang said What are the four evil things  The Master said To leave untaught and then kill is cruelty not to give warning and to expect things to be done is tyranny to give careless orders and be strict when the day comes is robbery to be stingy in rewarding men is littleness  3 The Master said He that does not know the Bidding cannot be a gentleman Not to know good form is to have no foothold Not to know words is to know nothing of men'"
      ]
     },
     "execution_count": 12,
     "metadata": {},
     "output_type": "execute_result"
    }
   ],
   "source": [
    "# nettoyage_1 = nettoyage_0.string.translate()\n",
    "Text_nettoyage_0"
   ]
  },
  {
   "cell_type": "code",
   "execution_count": 13,
   "metadata": {},
   "outputs": [
    {
     "data": {
      "text/plain": [
       "['THE',\n",
       " 'SAYINGS',\n",
       " 'OF',\n",
       " 'CONFUCIUS',\n",
       " 'BOOK',\n",
       " 'I',\n",
       " 'The',\n",
       " 'Master',\n",
       " 'said',\n",
       " 'To',\n",
       " 'learn',\n",
       " 'and',\n",
       " 'then',\n",
       " 'do',\n",
       " 'is',\n",
       " 'not',\n",
       " 'that',\n",
       " 'a',\n",
       " 'pleasure',\n",
       " 'When',\n",
       " 'friends',\n",
       " 'come',\n",
       " 'from',\n",
       " 'afar',\n",
       " 'do',\n",
       " 'we',\n",
       " 'not',\n",
       " 'rejoice',\n",
       " 'To',\n",
       " 'live',\n",
       " 'unknown',\n",
       " 'and',\n",
       " 'not',\n",
       " 'fret',\n",
       " 'is',\n",
       " 'not',\n",
       " 'that',\n",
       " 'to',\n",
       " 'be',\n",
       " 'a',\n",
       " 'gentleman',\n",
       " 'Yutzu',\n",
       " 'said',\n",
       " 'Few',\n",
       " 'men',\n",
       " 'that',\n",
       " 'are',\n",
       " 'good',\n",
       " 'sons',\n",
       " 'and',\n",
       " 'good',\n",
       " 'brothers',\n",
       " 'are',\n",
       " 'fond',\n",
       " 'of',\n",
       " 'withstanding',\n",
       " 'those',\n",
       " 'over',\n",
       " 'them',\n",
       " 'A',\n",
       " 'man',\n",
       " 'that',\n",
       " 'is',\n",
       " 'not',\n",
       " 'fond',\n",
       " 'of',\n",
       " 'withstanding',\n",
       " 'those',\n",
       " 'over',\n",
       " 'him',\n",
       " 'and',\n",
       " 'is',\n",
       " 'yet',\n",
       " 'fond',\n",
       " 'of',\n",
       " 'broils',\n",
       " 'is',\n",
       " 'nowhere',\n",
       " 'found',\n",
       " 'A',\n",
       " 'gentleman',\n",
       " 'heeds',\n",
       " 'the',\n",
       " 'roots',\n",
       " 'When',\n",
       " 'the',\n",
       " 'root',\n",
       " 'has',\n",
       " 'taken',\n",
       " 'the',\n",
       " 'Way',\n",
       " 'is',\n",
       " 'born',\n",
       " 'And',\n",
       " 'to',\n",
       " 'be',\n",
       " 'a',\n",
       " 'good',\n",
       " 'son',\n",
       " 'and',\n",
       " 'a',\n",
       " 'good',\n",
       " 'brother',\n",
       " 'is',\n",
       " 'not',\n",
       " 'that',\n",
       " 'the',\n",
       " 'root',\n",
       " 'of',\n",
       " 'love',\n",
       " 'Footnote',\n",
       " 'A',\n",
       " 'disciple',\n",
       " 'The',\n",
       " 'Master',\n",
       " 'said',\n",
       " 'Smooth',\n",
       " 'words',\n",
       " 'and',\n",
       " 'fawning',\n",
       " 'looks',\n",
       " 'are',\n",
       " 'seldom',\n",
       " 'found',\n",
       " 'with',\n",
       " 'love',\n",
       " 'Tsengtzu',\n",
       " 'said',\n",
       " 'Thrice',\n",
       " 'daily',\n",
       " 'I',\n",
       " 'ask',\n",
       " 'myself',\n",
       " 'In',\n",
       " 'dealing',\n",
       " 'for',\n",
       " 'others',\n",
       " 'have',\n",
       " 'I',\n",
       " 'been',\n",
       " 'unfaithful',\n",
       " 'Have',\n",
       " 'I',\n",
       " 'been',\n",
       " 'untrue',\n",
       " 'to',\n",
       " 'friends',\n",
       " 'Do',\n",
       " 'I',\n",
       " 'practise',\n",
       " 'what',\n",
       " 'I',\n",
       " 'preach',\n",
       " 'Footnote',\n",
       " 'A',\n",
       " 'disciple',\n",
       " 'The',\n",
       " 'Master',\n",
       " 'said',\n",
       " 'To',\n",
       " 'guide',\n",
       " 'a',\n",
       " 'land',\n",
       " 'of',\n",
       " 'a',\n",
       " 'thousand',\n",
       " 'chariots',\n",
       " 'honour',\n",
       " 'business',\n",
       " 'and',\n",
       " 'be',\n",
       " 'true',\n",
       " 'spend',\n",
       " 'little',\n",
       " 'and',\n",
       " 'love',\n",
       " 'men',\n",
       " 'time',\n",
       " 'thy',\n",
       " 'calls',\n",
       " 'on',\n",
       " 'the',\n",
       " 'people',\n",
       " 'The',\n",
       " 'Master',\n",
       " 'said',\n",
       " 'The',\n",
       " 'young',\n",
       " 'should',\n",
       " 'be',\n",
       " 'dutiful',\n",
       " 'at',\n",
       " 'home',\n",
       " 'modest',\n",
       " 'abroad',\n",
       " 'careful',\n",
       " 'and',\n",
       " 'true',\n",
       " 'overflowing',\n",
       " 'in',\n",
       " 'kindness',\n",
       " 'for',\n",
       " 'all',\n",
       " 'but',\n",
       " 'in',\n",
       " 'brotherhood',\n",
       " 'with',\n",
       " 'love',\n",
       " 'And',\n",
       " 'if',\n",
       " 'they',\n",
       " 'have',\n",
       " 'strength',\n",
       " 'to',\n",
       " 'spare',\n",
       " 'they',\n",
       " 'should',\n",
       " 'spend',\n",
       " 'it',\n",
       " 'on',\n",
       " 'the',\n",
       " 'arts',\n",
       " 'Tzuhsia',\n",
       " 'said',\n",
       " 'If',\n",
       " 'a',\n",
       " 'man',\n",
       " 'eschews',\n",
       " 'beauty',\n",
       " 'and',\n",
       " 'honours',\n",
       " 'worth',\n",
       " 'if',\n",
       " 'he',\n",
       " 'serves',\n",
       " 'his',\n",
       " 'father',\n",
       " 'and',\n",
       " 'mother',\n",
       " 'with',\n",
       " 'all',\n",
       " 'his',\n",
       " 'strength',\n",
       " 'if',\n",
       " 'he',\n",
       " 'is',\n",
       " 'ready',\n",
       " 'to',\n",
       " 'give',\n",
       " 'his',\n",
       " 'life',\n",
       " 'for',\n",
       " 'his',\n",
       " 'lord',\n",
       " 'and',\n",
       " 'keeps',\n",
       " 'faith',\n",
       " 'with',\n",
       " 'his',\n",
       " 'friends',\n",
       " 'though',\n",
       " 'others',\n",
       " 'may',\n",
       " 'say',\n",
       " 'he',\n",
       " 'has',\n",
       " 'no',\n",
       " 'learning',\n",
       " 'I',\n",
       " 'must',\n",
       " 'call',\n",
       " 'him',\n",
       " 'learned',\n",
       " 'The',\n",
       " 'Master',\n",
       " 'said',\n",
       " 'A',\n",
       " 'gentleman',\n",
       " 'will',\n",
       " 'not',\n",
       " 'be',\n",
       " 'looked',\n",
       " 'up',\n",
       " 'to',\n",
       " 'unless',\n",
       " 'he',\n",
       " 'is',\n",
       " 'staid',\n",
       " 'nor',\n",
       " 'will',\n",
       " 'his',\n",
       " 'learning',\n",
       " 'be',\n",
       " 'sound',\n",
       " 'Put',\n",
       " 'faithfulness',\n",
       " 'and',\n",
       " 'truth',\n",
       " 'first',\n",
       " 'have',\n",
       " 'no',\n",
       " 'friends',\n",
       " 'unlike',\n",
       " 'thyself',\n",
       " 'be',\n",
       " 'not',\n",
       " 'ashamed',\n",
       " 'to',\n",
       " 'mend',\n",
       " 'thy',\n",
       " 'faults',\n",
       " 'Tsengtzu',\n",
       " 'said',\n",
       " 'Heed',\n",
       " 'the',\n",
       " 'dead',\n",
       " 'follow',\n",
       " 'up',\n",
       " 'the',\n",
       " 'past',\n",
       " 'and',\n",
       " 'the',\n",
       " 'soul',\n",
       " 'of',\n",
       " 'the',\n",
       " 'people',\n",
       " 'will',\n",
       " 'again',\n",
       " 'grow',\n",
       " 'great',\n",
       " 'Footnote',\n",
       " 'A',\n",
       " 'disciple',\n",
       " 'Tzuchin',\n",
       " 'said',\n",
       " 'to',\n",
       " 'Tzukung',\n",
       " 'When',\n",
       " 'he',\n",
       " 'comes',\n",
       " 'to',\n",
       " 'a',\n",
       " 'country',\n",
       " 'the',\n",
       " 'Master',\n",
       " 'always',\n",
       " 'hears',\n",
       " 'how',\n",
       " 'it',\n",
       " 'is',\n",
       " 'governed',\n",
       " 'does',\n",
       " 'he',\n",
       " 'ask',\n",
       " 'or',\n",
       " 'is',\n",
       " 'it',\n",
       " 'told',\n",
       " 'him',\n",
       " 'Footnote',\n",
       " 'A',\n",
       " 'disciple',\n",
       " 'Footnote',\n",
       " 'A',\n",
       " 'disciple',\n",
       " 'Tzukung',\n",
       " 'said',\n",
       " 'The',\n",
       " 'Master',\n",
       " 'gets',\n",
       " 'it',\n",
       " 'by',\n",
       " 'his',\n",
       " 'warmth',\n",
       " 'and',\n",
       " 'honesty',\n",
       " 'by',\n",
       " 'politeness',\n",
       " 'modesty',\n",
       " 'and',\n",
       " 'yielding',\n",
       " 'The',\n",
       " 'way',\n",
       " 'the',\n",
       " 'Master',\n",
       " 'asks',\n",
       " 'is',\n",
       " 'unlike',\n",
       " 'other',\n",
       " 'mens',\n",
       " 'asking',\n",
       " 'The',\n",
       " 'Master',\n",
       " 'said',\n",
       " 'Whilst',\n",
       " 'thy',\n",
       " 'father',\n",
       " 'lives',\n",
       " 'look',\n",
       " 'for',\n",
       " 'his',\n",
       " 'purpose',\n",
       " 'when',\n",
       " 'he',\n",
       " 'is',\n",
       " 'gone',\n",
       " 'look',\n",
       " 'how',\n",
       " 'he',\n",
       " 'walked',\n",
       " 'To',\n",
       " 'change',\n",
       " 'nothing',\n",
       " 'in',\n",
       " 'thy',\n",
       " 'fathers',\n",
       " 'ways',\n",
       " 'for',\n",
       " 'three',\n",
       " 'years',\n",
       " 'may',\n",
       " 'be',\n",
       " 'called',\n",
       " 'pious',\n",
       " 'Yutzu',\n",
       " 'said',\n",
       " 'To',\n",
       " 'behave',\n",
       " 'with',\n",
       " 'ease',\n",
       " 'is',\n",
       " 'the',\n",
       " 'best',\n",
       " 'part',\n",
       " 'of',\n",
       " 'courtesy',\n",
       " 'This',\n",
       " 'was',\n",
       " 'the',\n",
       " 'beauty',\n",
       " 'of',\n",
       " 'the',\n",
       " 'old',\n",
       " 'kings',\n",
       " 'ways',\n",
       " 'this',\n",
       " 'they',\n",
       " 'followed',\n",
       " 'in',\n",
       " 'small',\n",
       " 'and',\n",
       " 'great',\n",
       " 'But',\n",
       " 'knowing',\n",
       " 'this',\n",
       " 'it',\n",
       " 'will',\n",
       " 'not',\n",
       " 'do',\n",
       " 'to',\n",
       " 'give',\n",
       " 'way',\n",
       " 'to',\n",
       " 'ease',\n",
       " 'unchecked',\n",
       " 'by',\n",
       " 'courtesy',\n",
       " 'This',\n",
       " 'too',\n",
       " 'is',\n",
       " 'wrong',\n",
       " 'Footnote',\n",
       " 'A',\n",
       " 'disciple',\n",
       " 'Yutzu',\n",
       " 'said',\n",
       " 'If',\n",
       " 'pledges',\n",
       " 'are',\n",
       " 'close',\n",
       " 'to',\n",
       " 'right',\n",
       " 'word',\n",
       " 'can',\n",
       " 'be',\n",
       " 'kept',\n",
       " 'If',\n",
       " 'attentions',\n",
       " 'are',\n",
       " 'close',\n",
       " 'to',\n",
       " 'courtesy',\n",
       " 'shame',\n",
       " 'will',\n",
       " 'be',\n",
       " 'kept',\n",
       " 'far',\n",
       " 'If',\n",
       " 'we',\n",
       " 'do',\n",
       " 'not',\n",
       " 'choose',\n",
       " 'our',\n",
       " 'leaders',\n",
       " 'wrong',\n",
       " 'we',\n",
       " 'may',\n",
       " 'worship',\n",
       " 'them',\n",
       " 'too',\n",
       " 'The',\n",
       " 'Master',\n",
       " 'said',\n",
       " 'A',\n",
       " 'gentleman',\n",
       " 'that',\n",
       " 'does',\n",
       " 'not',\n",
       " 'seek',\n",
       " 'to',\n",
       " 'eat',\n",
       " 'his',\n",
       " 'fill',\n",
       " 'nor',\n",
       " 'look',\n",
       " 'for',\n",
       " 'ease',\n",
       " 'in',\n",
       " 'his',\n",
       " 'home',\n",
       " 'who',\n",
       " 'is',\n",
       " 'earnest',\n",
       " 'at',\n",
       " 'work',\n",
       " 'and',\n",
       " 'careful',\n",
       " 'of',\n",
       " 'speech',\n",
       " 'who',\n",
       " 'walks',\n",
       " 'with',\n",
       " 'those',\n",
       " 'that',\n",
       " 'keep',\n",
       " 'the',\n",
       " 'Way',\n",
       " 'and',\n",
       " 'is',\n",
       " 'guided',\n",
       " 'by',\n",
       " 'them',\n",
       " 'may',\n",
       " 'be',\n",
       " 'said',\n",
       " 'to',\n",
       " 'love',\n",
       " 'learning',\n",
       " 'Tzukung',\n",
       " 'said',\n",
       " 'Poor',\n",
       " 'but',\n",
       " 'no',\n",
       " 'flatterer',\n",
       " 'rich',\n",
       " 'but',\n",
       " 'not',\n",
       " 'proud',\n",
       " 'how',\n",
       " 'would',\n",
       " 'that',\n",
       " 'be',\n",
       " 'Footnote',\n",
       " 'A',\n",
       " 'disciple',\n",
       " 'It',\n",
       " 'would',\n",
       " 'do',\n",
       " 'said',\n",
       " 'the',\n",
       " 'Master',\n",
       " 'but',\n",
       " 'better',\n",
       " 'still',\n",
       " 'were',\n",
       " 'poor',\n",
       " 'but',\n",
       " 'merry',\n",
       " 'rich',\n",
       " 'but',\n",
       " 'loving',\n",
       " 'courtesy',\n",
       " 'Tzukung',\n",
       " 'said',\n",
       " 'When',\n",
       " 'the',\n",
       " 'poem',\n",
       " 'says',\n",
       " 'If',\n",
       " 'ye',\n",
       " 'cut',\n",
       " 'if',\n",
       " 'ye',\n",
       " 'file',\n",
       " 'If',\n",
       " 'ye',\n",
       " 'polish',\n",
       " 'and',\n",
       " 'grind',\n",
       " 'is',\n",
       " 'that',\n",
       " 'what',\n",
       " 'is',\n",
       " 'meant',\n",
       " 'The',\n",
       " 'Master',\n",
       " 'said',\n",
       " 'Now',\n",
       " 'I',\n",
       " 'can',\n",
       " 'begin',\n",
       " 'to',\n",
       " 'talk',\n",
       " 'of',\n",
       " 'poetry',\n",
       " 'to',\n",
       " 'Tzu',\n",
       " 'Tell',\n",
       " 'him',\n",
       " 'what',\n",
       " 'is',\n",
       " 'gone',\n",
       " 'and',\n",
       " 'he',\n",
       " 'knows',\n",
       " 'what',\n",
       " 'shall',\n",
       " 'come',\n",
       " 'The',\n",
       " 'Master',\n",
       " 'said',\n",
       " 'Not',\n",
       " 'to',\n",
       " 'be',\n",
       " 'known',\n",
       " 'is',\n",
       " 'no',\n",
       " 'sorrow',\n",
       " 'My',\n",
       " 'sorrow',\n",
       " 'is',\n",
       " 'not',\n",
       " 'knowing',\n",
       " 'men',\n",
       " 'BOOK',\n",
       " 'II',\n",
       " 'The',\n",
       " 'Master',\n",
       " 'said',\n",
       " 'He',\n",
       " 'that',\n",
       " 'rules',\n",
       " 'by',\n",
       " 'mind',\n",
       " 'is',\n",
       " 'like',\n",
       " 'the',\n",
       " 'north',\n",
       " 'star',\n",
       " 'steady',\n",
       " 'in',\n",
       " 'his',\n",
       " 'seat',\n",
       " 'whilst',\n",
       " 'the',\n",
       " 'stars',\n",
       " 'all',\n",
       " 'bend',\n",
       " 'to',\n",
       " 'him',\n",
       " 'The',\n",
       " 'Master',\n",
       " 'said',\n",
       " 'The',\n",
       " 'three',\n",
       " 'hundred',\n",
       " 'poems',\n",
       " 'are',\n",
       " 'summed',\n",
       " 'up',\n",
       " 'in',\n",
       " 'the',\n",
       " 'one',\n",
       " 'line',\n",
       " 'Think',\n",
       " 'no',\n",
       " 'evil',\n",
       " 'The',\n",
       " 'Master',\n",
       " 'said',\n",
       " 'Guide',\n",
       " 'the',\n",
       " 'people',\n",
       " 'by',\n",
       " 'law',\n",
       " 'aline',\n",
       " 'them',\n",
       " 'by',\n",
       " 'punishment',\n",
       " 'they',\n",
       " 'may',\n",
       " 'shun',\n",
       " 'crime',\n",
       " 'but',\n",
       " 'they',\n",
       " 'will',\n",
       " 'want',\n",
       " 'shame',\n",
       " 'Guide',\n",
       " 'them',\n",
       " 'by',\n",
       " 'mind',\n",
       " 'aline',\n",
       " 'them',\n",
       " 'by',\n",
       " 'courtesy',\n",
       " 'they',\n",
       " 'will',\n",
       " 'learn',\n",
       " 'shame',\n",
       " 'and',\n",
       " 'grow',\n",
       " 'good',\n",
       " 'The',\n",
       " 'Master',\n",
       " 'said',\n",
       " 'At',\n",
       " 'fifteen',\n",
       " 'I',\n",
       " 'had',\n",
       " 'the',\n",
       " 'will',\n",
       " 'to',\n",
       " 'learn',\n",
       " 'at',\n",
       " 'thirty',\n",
       " 'I',\n",
       " 'could',\n",
       " 'stand',\n",
       " 'at',\n",
       " 'forty',\n",
       " 'I',\n",
       " 'had',\n",
       " 'no',\n",
       " 'doubts',\n",
       " 'at',\n",
       " 'fifty',\n",
       " 'I',\n",
       " 'understood',\n",
       " 'the',\n",
       " 'heavenly',\n",
       " 'Bidding',\n",
       " 'at',\n",
       " 'sixty',\n",
       " 'my',\n",
       " 'ears',\n",
       " 'were',\n",
       " 'opened',\n",
       " 'at',\n",
       " 'seventy',\n",
       " 'I',\n",
       " 'could',\n",
       " 'do',\n",
       " 'as',\n",
       " 'my',\n",
       " 'heart',\n",
       " 'lusted',\n",
       " 'without',\n",
       " 'trespassing',\n",
       " 'from',\n",
       " 'the',\n",
       " 'square',\n",
       " 'Footnote',\n",
       " '_Lit_',\n",
       " 'obedient',\n",
       " 'Meng',\n",
       " 'Yi',\n",
       " 'asked',\n",
       " 'the',\n",
       " 'duty',\n",
       " 'of',\n",
       " 'a',\n",
       " 'son',\n",
       " 'The',\n",
       " 'Master',\n",
       " 'said',\n",
       " 'Not',\n",
       " 'to',\n",
       " 'transgress',\n",
       " 'As',\n",
       " 'Fan',\n",
       " 'Chiih',\n",
       " 'was',\n",
       " 'driving',\n",
       " 'him',\n",
       " 'the',\n",
       " 'Master',\n",
       " 'said',\n",
       " 'Mengsun',\n",
       " 'asked',\n",
       " 'me',\n",
       " 'the',\n",
       " 'duty',\n",
       " 'of',\n",
       " 'a',\n",
       " 'son',\n",
       " 'I',\n",
       " 'answered',\n",
       " 'Not',\n",
       " 'to',\n",
       " 'transgress',\n",
       " 'Footnote',\n",
       " 'A',\n",
       " 'disciple',\n",
       " 'Footnote',\n",
       " 'Meng',\n",
       " 'Yi',\n",
       " 'What',\n",
       " 'did',\n",
       " 'ye',\n",
       " 'mean',\n",
       " 'said',\n",
       " 'Fan',\n",
       " 'Chiih',\n",
       " 'To',\n",
       " 'serve',\n",
       " 'our',\n",
       " 'father',\n",
       " 'and',\n",
       " 'mother',\n",
       " 'with',\n",
       " 'courtesy',\n",
       " 'whilst',\n",
       " 'they',\n",
       " 'live',\n",
       " 'to',\n",
       " 'bury',\n",
       " 'them',\n",
       " 'with',\n",
       " 'courtesy',\n",
       " 'when',\n",
       " 'they',\n",
       " 'die',\n",
       " 'and',\n",
       " 'to',\n",
       " 'worship',\n",
       " 'them',\n",
       " 'with',\n",
       " 'courtesy',\n",
       " 'Meng',\n",
       " 'Wu',\n",
       " 'asked',\n",
       " 'the',\n",
       " 'duty',\n",
       " 'of',\n",
       " 'a',\n",
       " 'son',\n",
       " 'The',\n",
       " 'Master',\n",
       " 'said',\n",
       " 'He',\n",
       " 'should',\n",
       " 'not',\n",
       " 'grieve',\n",
       " 'his',\n",
       " 'father',\n",
       " 'and',\n",
       " 'mother',\n",
       " 'by',\n",
       " 'anything',\n",
       " 'but',\n",
       " 'illness',\n",
       " 'Tzuyu',\n",
       " 'asked',\n",
       " 'the',\n",
       " 'duty',\n",
       " 'of',\n",
       " 'a',\n",
       " 'son',\n",
       " 'Footnote',\n",
       " 'A',\n",
       " 'disciple',\n",
       " 'The',\n",
       " 'Master',\n",
       " 'said',\n",
       " 'He',\n",
       " 'that',\n",
       " 'can',\n",
       " 'feed',\n",
       " 'his',\n",
       " 'parents',\n",
       " 'is',\n",
       " 'now',\n",
       " 'called',\n",
       " 'a',\n",
       " 'good',\n",
       " 'son',\n",
       " 'But',\n",
       " 'both',\n",
       " 'dogs',\n",
       " 'and',\n",
       " 'horses',\n",
       " 'are',\n",
       " 'fed',\n",
       " 'and',\n",
       " 'unless',\n",
       " 'we',\n",
       " 'honour',\n",
       " 'our',\n",
       " 'parents',\n",
       " 'what',\n",
       " 'is',\n",
       " 'the',\n",
       " 'difference',\n",
       " 'Tzuhsia',\n",
       " 'asked',\n",
       " 'the',\n",
       " 'duty',\n",
       " 'of',\n",
       " 'a',\n",
       " 'son',\n",
       " 'Footnote',\n",
       " 'A',\n",
       " 'disciple',\n",
       " 'The',\n",
       " 'Master',\n",
       " 'said',\n",
       " 'Our',\n",
       " 'manner',\n",
       " 'is',\n",
       " 'the',\n",
       " 'hard',\n",
       " 'part',\n",
       " 'For',\n",
       " 'the',\n",
       " 'young',\n",
       " 'to',\n",
       " 'be',\n",
       " 'a',\n",
       " 'stay',\n",
       " 'in',\n",
       " 'toil',\n",
       " 'and',\n",
       " 'leave',\n",
       " 'the',\n",
       " 'wine',\n",
       " 'and',\n",
       " 'food',\n",
       " 'to',\n",
       " 'their',\n",
       " 'elders',\n",
       " 'is',\n",
       " 'this',\n",
       " 'to',\n",
       " 'fulfil',\n",
       " 'their',\n",
       " 'duty',\n",
       " 'The',\n",
       " 'Master',\n",
       " 'said',\n",
       " 'If',\n",
       " 'I',\n",
       " 'talk',\n",
       " 'all',\n",
       " 'day',\n",
       " 'to',\n",
       " 'Hui',\n",
       " 'like',\n",
       " 'a',\n",
       " 'dullard',\n",
       " 'he',\n",
       " 'never',\n",
       " 'differs',\n",
       " 'from',\n",
       " 'me',\n",
       " 'But',\n",
       " 'when',\n",
       " 'he',\n",
       " 'is',\n",
       " 'gone',\n",
       " 'if',\n",
       " 'I',\n",
       " 'watch',\n",
       " 'him',\n",
       " 'when',\n",
       " 'alone',\n",
       " 'he',\n",
       " 'can',\n",
       " 'carry',\n",
       " 'out',\n",
       " ...]"
      ]
     },
     "execution_count": 13,
     "metadata": {},
     "output_type": "execute_result"
    }
   ],
   "source": [
    "# print(Text_nettoyage_0)\n",
    "Text_nettoyage_1 = ''.join([i for i in Text_nettoyage_0 if not i.isdigit()]).split()\n",
    "\n",
    "# from string import digits\n",
    "\n",
    "# # Text_nettoyage_0\n",
    "\n",
    "# Text_nettoyage_1 = Text_nettoyage_0.translate(digits)\n",
    "# print(Text_nettoyage_1)\n",
    "\n",
    "# string = 'abcd1234efg567'\n",
    "# newstring = ''.join([i for i in string if not i.isdigit()])\n",
    "# print(newstring)\n",
    "Text_nettoyage_1"
   ]
  },
  {
   "cell_type": "code",
   "execution_count": 14,
   "metadata": {},
   "outputs": [
    {
     "data": {
      "text/plain": [
       "2723"
      ]
     },
     "execution_count": 14,
     "metadata": {},
     "output_type": "execute_result"
    }
   ],
   "source": [
    "# On va mettre tout en minuscule\n",
    "\n",
    "Text_nettoyage_2 = [i.lower() for i in Text_nettoyage_1]\n",
    "Text_nettoyage_2\n",
    "\n",
    "len(set(Text_nettoyage_2))"
   ]
  },
  {
   "cell_type": "code",
   "execution_count": 15,
   "metadata": {},
   "outputs": [
    {
     "name": "stdout",
     "output_type": "stream",
     "text": [
      "2723\n"
     ]
    }
   ],
   "source": [
    "\n",
    "frequences_des_mots = {}\n",
    "for mot in Text_nettoyage_2:\n",
    "    frequences_des_mots[mot] = frequences_des_mots.get(mot,0) + 1\n",
    "\n",
    "print(len(set(frequences_des_mots)))\n",
    "\n",
    "\n",
    "# frequences_des_mots_100\n",
    "# for i,j in frequences_des_mots_100.items():\n",
    "#     print(max(j)) #le faire après les stop word"
   ]
  },
  {
   "cell_type": "code",
   "execution_count": 16,
   "metadata": {},
   "outputs": [
    {
     "name": "stdout",
     "output_type": "stream",
     "text": [
      "ourselves\n"
     ]
    },
    {
     "name": "stderr",
     "output_type": "stream",
     "text": [
      "[nltk_data] Downloading package stopwords to\n",
      "[nltk_data]     /home/matriceecole/nltk_data...\n",
      "[nltk_data]   Package stopwords is already up-to-date!\n"
     ]
    }
   ],
   "source": [
    "\n",
    "import nltk\n",
    "nltk.download('stopwords') \n",
    "from nltk.corpus import stopwords\n",
    "\n",
    "# print(stopwords.words('english'))\n",
    "\n",
    "for i  in stopwords.words('english'):\n",
    "    if i == 'others' or i == 'ourselves':\n",
    "        print(i)\n",
    "\n"
   ]
  },
  {
   "cell_type": "code",
   "execution_count": 17,
   "metadata": {},
   "outputs": [
    {
     "data": {
      "text/plain": [
       "2563"
      ]
     },
     "execution_count": 17,
     "metadata": {},
     "output_type": "execute_result"
    }
   ],
   "source": [
    "mot_vide = stopwords.words('english')\n",
    "mot_vide = set(stopwords.words('english')) - set(['ourselves', 'our', 'we'])\n",
    "autres_mot_vide = ['i', 'we','master','said','footnote','men','man','asked','confucius', 'tzulu','tzukung','yu','ye','book','tzuyu','â','yã¼','tzuhsia','tzuchang','tzuyu','tzu','tzukung','disciple','answered','one','three','thou','go','yã¼an','thy','see','way','cannot','words','without','yen','things','come','know','say','take','called','never','chou','like','jan']\n",
    "mot_vide.update(autres_mot_vide)\n",
    "for word in mot_vide:\n",
    "    # if word in autres_mot_vide:\n",
    "    #     pass\n",
    "    if frequences_des_mots.get(word):\n",
    "        frequences_des_mots.pop(word)\n",
    "    \n",
    "len(set(frequences_des_mots))\n",
    "\n",
    "# autres_mot_vid = ['footnote','men','man','asked','confucius',]\n",
    "# essai = set(['i', 'we','master','said','footnote'])\n",
    "# essai.update(autres_mot_vid)\n",
    "# essai\n",
    "# print(len(mot_vide))\n",
    "# set(frequences_des_mots)\n",
    "# frequences_des_mots\n",
    "# if (cle in dictionnaire)\n",
    "#  dictionnaire[cle] += 1\n",
    "# else\n",
    "#  dictionnaire[cle] = 0"
   ]
  },
  {
   "cell_type": "code",
   "execution_count": 18,
   "metadata": {},
   "outputs": [
    {
     "data": {
      "text/plain": [
       "[('love', 126),\n",
       " ('gentleman', 89),\n",
       " ('would', 69),\n",
       " ('good', 68),\n",
       " ('chi', 59),\n",
       " ('heaven', 52),\n",
       " ('duke', 50),\n",
       " ('may', 49),\n",
       " ('people', 43),\n",
       " ('lord', 42),\n",
       " ('must', 40),\n",
       " ('courtesy', 40),\n",
       " ('small', 40),\n",
       " ('great', 38),\n",
       " ('son', 36),\n",
       " ('could', 36),\n",
       " ('learning', 34),\n",
       " ('old', 34),\n",
       " ('father', 31),\n",
       " ('shall', 30),\n",
       " ('our', 29),\n",
       " ('right', 28),\n",
       " ('better', 28),\n",
       " ('wisdom', 28),\n",
       " ('speak', 28),\n",
       " ('lu', 28),\n",
       " ('land', 27),\n",
       " ('mind', 26),\n",
       " ('music', 26),\n",
       " ('heard', 26),\n",
       " ('home', 25),\n",
       " ('though', 25),\n",
       " ('sir', 25),\n",
       " ('life', 24),\n",
       " ('first', 24),\n",
       " ('left', 24),\n",
       " ('chiu', 24),\n",
       " ('give', 23),\n",
       " ('hard', 23),\n",
       " ('art', 23),\n",
       " ('learn', 22),\n",
       " ('strength', 22),\n",
       " ('straight', 22),\n",
       " ('make', 22),\n",
       " ('enough', 22),\n",
       " ('king', 22),\n",
       " ('might', 22),\n",
       " ('friends', 21),\n",
       " ('tsengtzu', 21),\n",
       " ('thee', 21),\n",
       " ('made', 21),\n",
       " ('went', 21),\n",
       " ('yet', 20),\n",
       " ('others', 20),\n",
       " ('follow', 20),\n",
       " ('years', 20),\n",
       " ('us', 20),\n",
       " ('minister', 20),\n",
       " ('many', 20),\n",
       " ('ask', 19),\n",
       " ('put', 19),\n",
       " ('nothing', 19),\n",
       " ('want', 19),\n",
       " ('day', 19),\n",
       " ('saying', 19),\n",
       " ('done', 19),\n",
       " ('get', 18),\n",
       " ('thought', 18),\n",
       " ('chih', 18),\n",
       " ('ministers', 18),\n",
       " ('true', 17),\n",
       " ('look', 17),\n",
       " ('word', 17),\n",
       " ('kept', 17),\n",
       " ('hui', 17),\n",
       " ('kuan', 17),\n",
       " ('died', 17),\n",
       " ('death', 17),\n",
       " ('worth', 16),\n",
       " ('truth', 16),\n",
       " ('always', 16),\n",
       " ('still', 16),\n",
       " ('wu', 16),\n",
       " ('hear', 16),\n",
       " ('even', 16),\n",
       " ('court', 16),\n",
       " ('wei', 16),\n",
       " ('well', 16),\n",
       " ('rule', 16),\n",
       " ('hate', 16),\n",
       " ('wen', 16),\n",
       " ('sent', 16),\n",
       " ('huan', 16),\n",
       " ('knows', 15),\n",
       " ('think', 15),\n",
       " ('serve', 15),\n",
       " ('yin', 15),\n",
       " ('back', 15),\n",
       " ('chung', 15),\n",
       " ('seen', 15),\n",
       " ('kingdom', 15),\n",
       " ('face', 15),\n",
       " ('state', 15),\n",
       " ('live', 14),\n",
       " ('little', 14),\n",
       " ('told', 14),\n",
       " ('whilst', 14),\n",
       " ('far', 14),\n",
       " ('keep', 14),\n",
       " ('talk', 14),\n",
       " ('meng', 14),\n",
       " ('much', 14),\n",
       " ('office', 14),\n",
       " ('form', 14),\n",
       " ('long', 14),\n",
       " ('loves', 14),\n",
       " ('disciples', 14),\n",
       " ('dare', 14),\n",
       " ('time', 13),\n",
       " ('hundred', 13),\n",
       " ('evil', 13),\n",
       " ('shun', 13),\n",
       " ('alone', 13),\n",
       " ('house', 13),\n",
       " ('two', 13),\n",
       " ('lost', 13),\n",
       " ('mourning', 13),\n",
       " ('knight', 13),\n",
       " ('gentlemen', 13),\n",
       " ('four', 13),\n",
       " ('unless', 12),\n",
       " ('speech', 12),\n",
       " ('leave', 12),\n",
       " ('taught', 12),\n",
       " ('kang', 12),\n",
       " ('govern', 12),\n",
       " ('whether', 12),\n",
       " ('next', 12),\n",
       " ('stop', 12),\n",
       " ('tsai', 12),\n",
       " ('find', 12),\n",
       " ('within', 12),\n",
       " ('came', 12),\n",
       " ('saw', 12),\n",
       " ('days', 12),\n",
       " ('indeed', 12),\n",
       " ('brothers', 11),\n",
       " ('looks', 11),\n",
       " ('mother', 11),\n",
       " ('faults', 11),\n",
       " ('work', 11),\n",
       " ('bidding', 11),\n",
       " ('duty', 11),\n",
       " ('food', 11),\n",
       " ('away', 11),\n",
       " ('clan', 11),\n",
       " ('knew', 11),\n",
       " ('wished', 11),\n",
       " ('chief', 11),\n",
       " ('wealth', 11),\n",
       " ('bad', 11),\n",
       " ('note', 11),\n",
       " ('near', 11),\n",
       " ('thrice', 10),\n",
       " ('young', 10),\n",
       " ('grow', 10),\n",
       " ('kings', 10),\n",
       " ('wrong', 10),\n",
       " ('rich', 10),\n",
       " ('poetry', 10),\n",
       " ('known', 10),\n",
       " ('fan', 10),\n",
       " ('anything', 10),\n",
       " ('makes', 10),\n",
       " ('lift', 10),\n",
       " ('faithful', 10),\n",
       " ('friend', 10),\n",
       " ('none', 10),\n",
       " ('upon', 10),\n",
       " ('bear', 10),\n",
       " ('peace', 10),\n",
       " ('set', 10),\n",
       " ('whose', 10),\n",
       " ('trust', 10),\n",
       " ('fear', 10),\n",
       " ('gave', 10),\n",
       " ('glib', 10),\n",
       " ('chungkung', 10),\n",
       " ('chen', 10),\n",
       " ('folk', 10),\n",
       " ('help', 10),\n",
       " ('among', 10),\n",
       " ('kill', 10),\n",
       " ('whole', 10),\n",
       " ('found', 9),\n",
       " ('learned', 9),\n",
       " ('looked', 9),\n",
       " ('gone', 9),\n",
       " ('part', 9),\n",
       " ('shame', 9),\n",
       " ('eat', 9),\n",
       " ('poor', 9),\n",
       " ('says', 9),\n",
       " ('heart', 9),\n",
       " ('crooked', 9),\n",
       " ('sacrifice', 9),\n",
       " ('big', 9),\n",
       " ('temple', 9),\n",
       " ('bc', 9),\n",
       " ('masters', 9),\n",
       " ('hold', 9),\n",
       " ('coming', 9),\n",
       " ('together', 9),\n",
       " ('spake', 9),\n",
       " ('sons', 8),\n",
       " ('honours', 8),\n",
       " ('call', 8),\n",
       " ('lives', 8),\n",
       " ('sorrow', 8),\n",
       " ('stand', 8),\n",
       " ('yi', 8),\n",
       " ('die', 8),\n",
       " ('deeds', 8),\n",
       " ('harm', 8),\n",
       " ('head', 8),\n",
       " ('ten', 8),\n",
       " ('took', 8),\n",
       " ('dost', 8),\n",
       " ('wish', 8),\n",
       " ('spirits', 8),\n",
       " ('need', 8),\n",
       " ('wo', 8),\n",
       " ('arms', 8),\n",
       " ('courteous', 8),\n",
       " ('hand', 8),\n",
       " ('wishes', 8),\n",
       " ('loved', 8),\n",
       " ('poyi', 8),\n",
       " ('hide', 8),\n",
       " ('fit', 8),\n",
       " ('rice', 8),\n",
       " ('low', 8),\n",
       " ('yao', 8),\n",
       " ('easy', 8),\n",
       " ('last', 8),\n",
       " ('five', 8),\n",
       " ('speaking', 8),\n",
       " ('brought', 8),\n",
       " ('chuanyã¼', 8),\n",
       " ('unknown', 7),\n",
       " ('thousand', 7),\n",
       " ('keeps', 7),\n",
       " ('past', 7),\n",
       " ('comes', 7),\n",
       " ('ways', 7),\n",
       " ('fill', 7),\n",
       " ('proud', 7),\n",
       " ('horses', 7),\n",
       " ('teach', 7),\n",
       " ('everything', 7),\n",
       " ('generations', 7),\n",
       " ('hsia', 7),\n",
       " ('ended', 7),\n",
       " ('end', 7),\n",
       " ('mans', 7),\n",
       " ('treat', 7),\n",
       " ('grew', 7),\n",
       " ('held', 7),\n",
       " ('shao', 7),\n",
       " ('sight', 7),\n",
       " ('kind', 7),\n",
       " ('pleased', 7),\n",
       " ('daring', 7),\n",
       " ('governor', 7),\n",
       " ('high', 7),\n",
       " ('kunghsi', 7),\n",
       " ('throne', 7),\n",
       " ('pi', 7),\n",
       " ('wife', 7),\n",
       " ('war', 7),\n",
       " ('bent', 7),\n",
       " ('lead', 7),\n",
       " ('turn', 7),\n",
       " ('flesh', 7),\n",
       " ('body', 7),\n",
       " ('awe', 7),\n",
       " ('bowed', 7),\n",
       " ('tongue', 7),\n",
       " ('bring', 7),\n",
       " ('born', 6),\n",
       " ('brother', 6),\n",
       " ('honour', 6),\n",
       " ('unlike', 6),\n",
       " ('ashamed', 6),\n",
       " ('change', 6),\n",
       " ('fathers', 6),\n",
       " ('tell', 6),\n",
       " ('seat', 6),\n",
       " ('mean', 6),\n",
       " ('wine', 6),\n",
       " ('new', 6),\n",
       " ('fair', 6),\n",
       " ('pay', 6),\n",
       " ('lowly', 6),\n",
       " ('meet', 6),\n",
       " ('show', 6),\n",
       " ('shang', 6),\n",
       " ('courage', 6),\n",
       " ('meaning', 6),\n",
       " ('service', 6),\n",
       " ('alas', 6),\n",
       " ('wise', 6),\n",
       " ('going', 6),\n",
       " ('steps', 6),\n",
       " ('second', 6),\n",
       " ('plain', 6),\n",
       " ('since', 6),\n",
       " ('lieges', 6),\n",
       " ('answer', 6),\n",
       " ('gate', 6),\n",
       " ('rest', 6),\n",
       " ('twothree', 6),\n",
       " ('boys', 6),\n",
       " ('rank', 6),\n",
       " ('free', 6),\n",
       " ('higher', 6),\n",
       " ('given', 6),\n",
       " ('gain', 6),\n",
       " ('yes', 6),\n",
       " ('v', 6),\n",
       " ('tzuchien', 6),\n",
       " ('thing', 6),\n",
       " ('understand', 6),\n",
       " ('neither', 6),\n",
       " ('hua', 6),\n",
       " ('met', 6),\n",
       " ('another', 6),\n",
       " ('shuchi', 6),\n",
       " ('tyrant', 6),\n",
       " ('chapter', 6),\n",
       " ('dress', 6),\n",
       " ('cap', 6),\n",
       " ('stands', 6),\n",
       " ('slack', 6),\n",
       " ('stern', 6),\n",
       " ('short', 6),\n",
       " ('grain', 6),\n",
       " ('min', 6),\n",
       " ('ill', 6),\n",
       " ('door', 6),\n",
       " ('delights', 6),\n",
       " ('forsake', 6),\n",
       " ('passed', 6),\n",
       " ('holy', 6),\n",
       " ('earth', 6),\n",
       " ('musicmaster', 6),\n",
       " ('danger', 6),\n",
       " ('stood', 6),\n",
       " ('spoken', 6),\n",
       " ('wore', 6),\n",
       " ('flow', 6),\n",
       " ('delight', 6),\n",
       " ('messenger', 6),\n",
       " ('wall', 6),\n",
       " ('sinks', 6),\n",
       " ('chungni', 6),\n",
       " ('taken', 5),\n",
       " ('fawning', 5),\n",
       " ('seldom', 5),\n",
       " ('chariots', 5),\n",
       " ('business', 5),\n",
       " ('kindness', 5),\n",
       " ('sound', 5),\n",
       " ('faithfulness', 5),\n",
       " ('dead', 5),\n",
       " ('country', 5),\n",
       " ('asks', 5),\n",
       " ('ease', 5),\n",
       " ('best', 5),\n",
       " ('worship', 5),\n",
       " ('loving', 5),\n",
       " ('bend', 5),\n",
       " ('line', 5),\n",
       " ('fifty', 5),\n",
       " ('sixty', 5),\n",
       " ('driving', 5),\n",
       " ('takes', 5),\n",
       " ('ai', 5),\n",
       " ('carriage', 5),\n",
       " ('moved', 5),\n",
       " ('manners', 5),\n",
       " ('china', 5),\n",
       " ('dukes', 5),\n",
       " ('waste', 5),\n",
       " ('grief', 5),\n",
       " ('drink', 5),\n",
       " ('chia', 5),\n",
       " ('sin', 5),\n",
       " ('moon', 5),\n",
       " ('glad', 5),\n",
       " ('round', 5),\n",
       " ('hearing', 5),\n",
       " ('fault', 5),\n",
       " ('raised', 5),\n",
       " ('lay', 5),\n",
       " ('tribes', 5),\n",
       " ('followers', 5),\n",
       " ('escape', 5),\n",
       " ('worthy', 5),\n",
       " ('clothes', 5),\n",
       " ('place', 5),\n",
       " ('slow', 5),\n",
       " ('chang', 5),\n",
       " ('town', 5),\n",
       " ('standing', 5),\n",
       " ('dynasty', 5),\n",
       " ('withdrew', 5),\n",
       " ('fur', 5),\n",
       " ('surely', 5),\n",
       " ('six', 5),\n",
       " ('clad', 5),\n",
       " ('water', 5),\n",
       " ('cried', 5),\n",
       " ('behind', 5),\n",
       " ('chao', 5),\n",
       " ('common', 5),\n",
       " ('self', 5),\n",
       " ('ling', 5),\n",
       " ('age', 5),\n",
       " ('deep', 5),\n",
       " ('hu', 5),\n",
       " ('later', 5),\n",
       " ('anyone', 5),\n",
       " ('fierce', 5),\n",
       " ('children', 5),\n",
       " ('ching', 5),\n",
       " ('pass', 5),\n",
       " ('thus', 5),\n",
       " ('unto', 5),\n",
       " ('rose', 5),\n",
       " ('gown', 5),\n",
       " ('palace', 5),\n",
       " ('kuang', 5),\n",
       " ('culture', 5),\n",
       " ('yang', 5),\n",
       " ('seems', 5),\n",
       " ('east', 5),\n",
       " ('today', 5),\n",
       " ('greed', 5),\n",
       " ('ancestral', 5),\n",
       " ('audience', 5),\n",
       " ('foot', 5),\n",
       " ('gift', 5),\n",
       " ('changed', 5),\n",
       " ('stuff', 5),\n",
       " ('meal', 5),\n",
       " ('speaks', 5),\n",
       " ('wake', 5),\n",
       " ('officers', 5),\n",
       " ('killed', 5),\n",
       " ('hsi', 5),\n",
       " ('vassals', 5),\n",
       " ('kingcraft', 5),\n",
       " ('liege', 5),\n",
       " ('shows', 5),\n",
       " ('kinsmen', 5),\n",
       " ('fond', 4),\n",
       " ('smooth', 4),\n",
       " ('guide', 4),\n",
       " ('calls', 4),\n",
       " ('modest', 4),\n",
       " ('abroad', 4),\n",
       " ('beauty', 4),\n",
       " ('mend', 4),\n",
       " ('heed', 4),\n",
       " ('governed', 4),\n",
       " ('modesty', 4),\n",
       " ('mens', 4),\n",
       " ('knowing', 4),\n",
       " ('seek', 4),\n",
       " ('earnest', 4),\n",
       " ('merry', 4),\n",
       " ('meant', 4),\n",
       " ('law', 4),\n",
       " ('crime', 4),\n",
       " ('doubts', 4),\n",
       " ('ears', 4),\n",
       " ('manner', 4),\n",
       " ('carry', 4),\n",
       " ('search', 4),\n",
       " ('lie', 4),\n",
       " ('vessel', 4),\n",
       " ('follows', 4),\n",
       " ('else', 4),\n",
       " ('wilt', 4),\n",
       " ('rue', 4),\n",
       " ('lines', 4),\n",
       " ('tang', 4),\n",
       " ('ghosts', 4),\n",
       " ('iii', 4),\n",
       " ('borne', 4),\n",
       " ('clans', 4),\n",
       " ('yung', 4),\n",
       " ('sung', 4),\n",
       " ('canst', 4),\n",
       " ('less', 4),\n",
       " ('perhaps', 4),\n",
       " ('light', 4),\n",
       " ('white', 4),\n",
       " ('ground', 4),\n",
       " ('hast', 4),\n",
       " ('hit', 4),\n",
       " ('due', 4),\n",
       " ('use', 4),\n",
       " ('offering', 4),\n",
       " ('chinese', 4),\n",
       " ('times', 4),\n",
       " ('seem', 4),\n",
       " ('trees', 4),\n",
       " ('famous', 4),\n",
       " ('power', 4),\n",
       " ('became', 4),\n",
       " ('play', 4),\n",
       " ('fall', 4),\n",
       " ('thoroughly', 4),\n",
       " ('hated', 4),\n",
       " ('name', 4),\n",
       " ('idle', 4),\n",
       " ('care', 4),\n",
       " ('shen', 4),\n",
       " ('runs', 4),\n",
       " ('trouble', 4),\n",
       " ('quick', 4),\n",
       " ('neighbours', 4),\n",
       " ('charge', 4),\n",
       " ('firm', 4),\n",
       " ('tsang', 4),\n",
       " ('murdered', 4),\n",
       " ('clean', 4),\n",
       " ('twice', 4),\n",
       " ('showed', 4),\n",
       " ('simple', 4),\n",
       " ('zealous', 4),\n",
       " ('chilu', 4),\n",
       " ('sitting', 4),\n",
       " ('elder', 4),\n",
       " ('mencius', 4),\n",
       " ('x', 4),\n",
       " ('order', 4),\n",
       " ('sea', 4),\n",
       " ('grows', 4),\n",
       " ('honest', 4),\n",
       " ('riches', 4),\n",
       " ('nine', 4),\n",
       " ('governing', 4),\n",
       " ('across', 4),\n",
       " ('walking', 4),\n",
       " ('reach', 4),\n",
       " ('drinking', 4),\n",
       " ('horn', 4),\n",
       " ('bounty', 4),\n",
       " ('foothold', 4),\n",
       " ('vii', 4),\n",
       " ('making', 4),\n",
       " ('move', 4),\n",
       " ('till', 4),\n",
       " ('night', 4),\n",
       " ('eating', 4),\n",
       " ('beside', 4),\n",
       " ('sure', 4),\n",
       " ('taste', 4),\n",
       " ('coarse', 4),\n",
       " ('village', 4),\n",
       " ('judge', 4),\n",
       " ('sang', 4),\n",
       " ('tires', 4),\n",
       " ('unruly', 4),\n",
       " ('humble', 4),\n",
       " ('bearing', 4),\n",
       " ('burden', 4),\n",
       " ('crown', 4),\n",
       " ('ear', 4),\n",
       " ('almost', 4),\n",
       " ('side', 4),\n",
       " ('blind', 4),\n",
       " ('step', 4),\n",
       " ('towards', 4),\n",
       " ('goodness', 4),\n",
       " ('thoughts', 4),\n",
       " ('hall', 4),\n",
       " ('lifted', 4),\n",
       " ('black', 4),\n",
       " ('mat', 4),\n",
       " ('staff', 4),\n",
       " ('wind', 4),\n",
       " ('fast', 4),\n",
       " ('seeing', 4),\n",
       " ('brains', 4),\n",
       " ('lute', 4),\n",
       " ('shih', 4),\n",
       " ('holds', 4),\n",
       " ('wouldst', 4),\n",
       " ('sounding', 4),\n",
       " ('deed', 4),\n",
       " ('eminent', 4),\n",
       " ('steward', 4),\n",
       " ('names', 4),\n",
       " ('justice', 4),\n",
       " ('commands', 4),\n",
       " ('lords', 4),\n",
       " ('push', 4),\n",
       " ('please', 4),\n",
       " ('highminded', 4),\n",
       " ('draw', 4),\n",
       " ('fearless', 4),\n",
       " ('world', 4),\n",
       " ('fullgrown', 4),\n",
       " ('uncle', 4),\n",
       " ('ruin', 4),\n",
       " ('cheng', 4),\n",
       " ('chiefs', 4),\n",
       " ('poyã¼', 4),\n",
       " ('thine', 4),\n",
       " ('learnt', 4),\n",
       " ('liuhsia', 4),\n",
       " ('hsin', 4),\n",
       " ('yutzu', 3),\n",
       " ('root', 3),\n",
       " ('careful', 3),\n",
       " ('spare', 3),\n",
       " ('thyself', 3),\n",
       " ('soul', 3),\n",
       " ('tzuchin', 3),\n",
       " ('hears', 3),\n",
       " ('yielding', 3),\n",
       " ('purpose', 3),\n",
       " ('walked', 3),\n",
       " ('poem', 3),\n",
       " ('cut', 3),\n",
       " ('forty', 3),\n",
       " ('understood', 3),\n",
       " ('seventy', 3),\n",
       " ('square', 3),\n",
       " ('bury', 3),\n",
       " ('illness', 3),\n",
       " ('stay', 3),\n",
       " ('toil', 3),\n",
       " ('watch', 3),\n",
       " ('hidden', 3),\n",
       " ('knowledge', 3),\n",
       " ('warm', 3),\n",
       " ('dangerous', 3),\n",
       " ('fight', 3),\n",
       " ('dignity', 3),\n",
       " ('ruled', 3),\n",
       " ('eight', 3),\n",
       " ('fang', 3),\n",
       " ('thrift', 3),\n",
       " ('lands', 3),\n",
       " ('shooting', 3),\n",
       " ('strife', 3),\n",
       " ('bright', 3),\n",
       " ('dearth', 3),\n",
       " ('books', 3),\n",
       " ('worshipped', 3),\n",
       " ('wangsun', 3),\n",
       " ('year', 3),\n",
       " ('leaves', 3),\n",
       " ('arrow', 3),\n",
       " ('sheep', 3),\n",
       " ('_the', 3),\n",
       " ('sad', 3),\n",
       " ('emperors', 3),\n",
       " ('let', 3),\n",
       " ('chide', 3),\n",
       " ('failed', 3),\n",
       " ('beautiful', 3),\n",
       " ('dwell', 3),\n",
       " ('got', 3),\n",
       " ('haste', 3),\n",
       " ('hates', 3),\n",
       " ('uncharity', 3),\n",
       " ('enter', 3),\n",
       " ('fail', 3),\n",
       " ('sway', 3),\n",
       " ('changes', 3),\n",
       " ('gladness', 3),\n",
       " ('brings', 3),\n",
       " ('disgrace', 3),\n",
       " ('daughter', 3),\n",
       " ('seas', 3),\n",
       " ('guests', 3),\n",
       " ('listen', 3),\n",
       " ('beyond', 3),\n",
       " ('tzuchan', 3),\n",
       " ('honoured', 3),\n",
       " ('served', 3),\n",
       " ('longer', 3),\n",
       " ('hills', 3),\n",
       " ('amount', 3),\n",
       " ('tsui', 3),\n",
       " ('ning', 3),\n",
       " ('simplicity', 3),\n",
       " ('middle', 3),\n",
       " ('younger', 3),\n",
       " ('lawless', 3),\n",
       " ('talent', 3),\n",
       " ('measures', 3),\n",
       " ('months', 3),\n",
       " ('chin', 3),\n",
       " ('clever', 3),\n",
       " ('fell', 3),\n",
       " ('wants', 3),\n",
       " ('except', 3),\n",
       " ('horse', 3),\n",
       " ('matter', 3),\n",
       " ('reading', 3),\n",
       " ('ties', 3),\n",
       " ('false', 3),\n",
       " ('nantzu', 3),\n",
       " ('finds', 3),\n",
       " ('mine', 3),\n",
       " ('sorrows', 3),\n",
       " ('meat', 3),\n",
       " ('teaching', 3),\n",
       " ('sat', 3),\n",
       " ('ate', 3),\n",
       " ('forward', 3),\n",
       " ('tiger', 3),\n",
       " ('river', 3),\n",
       " ('road', 3),\n",
       " ('played', 3),\n",
       " ('grandson', 3),\n",
       " ('pick', 3),\n",
       " ('birds', 3),\n",
       " ('miss', 3),\n",
       " ('pray', 3),\n",
       " ('taipo', 3),\n",
       " ('carried', 3),\n",
       " ('praise', 3),\n",
       " ('becomes', 3),\n",
       " ('thrive', 3),\n",
       " ('sick', 3),\n",
       " ('feet', 3),\n",
       " ('banish', 3),\n",
       " ('bold', 3),\n",
       " ('heavy', 3),\n",
       " ('hatred', 3),\n",
       " ('fears', 3),\n",
       " ('lose', 3),\n",
       " ('introduction', 3),\n",
       " ('greatness', 3),\n",
       " ('flaw', 3),\n",
       " ('linen', 3),\n",
       " ('bow', 3),\n",
       " ('huo', 3),\n",
       " ('post', 3),\n",
       " ('fellow', 3),\n",
       " ('phoenix', 3),\n",
       " ('gives', 3),\n",
       " ('ahead', 3),\n",
       " ('leads', 3),\n",
       " ('spent', 3),\n",
       " ('jade', 3),\n",
       " ('case', 3),\n",
       " ('sell', 3),\n",
       " ('basket', 3),\n",
       " ('robes', 3),\n",
       " ('weights', 3),\n",
       " ('full', 3),\n",
       " ('seemed', 3),\n",
       " ('guest', 3),\n",
       " ('looking', 3),\n",
       " ('sceptre', 3),\n",
       " ('wear', 3),\n",
       " ('girdle', 3),\n",
       " ('sacrificial', 3),\n",
       " ('cooked', 3),\n",
       " ('season', 3),\n",
       " ('conquer', 3),\n",
       " ('sharp', 3),\n",
       " ('outer', 3),\n",
       " ('coffin', 3),\n",
       " ('inner', 3),\n",
       " ('undone', 3),\n",
       " ('dared', 3),\n",
       " ('tzukao', 3),\n",
       " ('tseng', 3),\n",
       " ('forget', 3),\n",
       " ('lightly', 3),\n",
       " ('wait', 3),\n",
       " ('tien', 3),\n",
       " ('pushed', 3),\n",
       " ('aside', 3),\n",
       " ('seven', 3),\n",
       " ('ssuma', 3),\n",
       " ('niu', 3),\n",
       " ('insight', 3),\n",
       " ('slander', 3),\n",
       " ('troops', 3),\n",
       " ('jo', 3),\n",
       " ('raise', 3),\n",
       " ('gentlemans', 3),\n",
       " ('fame', 3),\n",
       " ('success', 3),\n",
       " ('chose', 3),\n",
       " ('fled', 3),\n",
       " ('emperor', 3),\n",
       " ('corners', 3),\n",
       " ('cruelty', 3),\n",
       " ('withstands', 3),\n",
       " ('gains', 3),\n",
       " ('countryside', 3),\n",
       " ('encouraging', 3),\n",
       " ('grumble', 3),\n",
       " ('thinks', 3),\n",
       " ('flee', 3),\n",
       " ('stones', 3),\n",
       " ('becoming', 3),\n",
       " ('xv', 3),\n",
       " ('rise', 3),\n",
       " ('walk', 3),\n",
       " ('strains', 3),\n",
       " ('cry', 3),\n",
       " ('broken', 3),\n",
       " ('grandsons', 3),\n",
       " ('rarely', 3),\n",
       " ('beware', 3),\n",
       " ('earnestness', 3),\n",
       " ('changchã¼', 3),\n",
       " ('chiehni', 3),\n",
       " ('kung', 3),\n",
       " ('conductor', 3),\n",
       " ('crossed', 3),\n",
       " ('burdens', 3),\n",
       " ('sun', 3),\n",
       " ('pleasure', 2),\n",
       " ('afar', 2),\n",
       " ('fret', 2),\n",
       " ('withstanding', 2),\n",
       " ('roots', 2),\n",
       " ('spend', 2),\n",
       " ('arts', 2),\n",
       " ('ready', 2),\n",
       " ('faith', 2),\n",
       " ('gets', 2),\n",
       " ('honesty', 2),\n",
       " ('asking', 2),\n",
       " ('pious', 2),\n",
       " ('behave', 2),\n",
       " ('followed', 2),\n",
       " ('close', 2),\n",
       " ('attentions', 2),\n",
       " ('choose', 2),\n",
       " ('begin', 2),\n",
       " ('north', 2),\n",
       " ('steady', 2),\n",
       " ('poems', 2),\n",
       " ('aline', 2),\n",
       " ('punishment', 2),\n",
       " ('transgress', 2),\n",
       " ('chiih', 2),\n",
       " ('grieve', 2),\n",
       " ('parents', 2),\n",
       " ('elders', 2),\n",
       " ('fulfil', 2),\n",
       " ('dullard', 2),\n",
       " ('teacher', 2),\n",
       " ('puts', 2),\n",
       " ('sides', 2),\n",
       " ('eye', 2),\n",
       " ('warily', 2),\n",
       " ('deal', 2),\n",
       " ('pains', 2),\n",
       " ('history', 2),\n",
       " ('yoke', 2),\n",
       " ('hence', 2),\n",
       " ('akin', 2),\n",
       " ('courtyard', 2),\n",
       " ('prerogative', 2),\n",
       " ('solemn', 2),\n",
       " ('lin', 2),\n",
       " ('burials', 2),\n",
       " ('wild', 2),\n",
       " ('sacrificed', 2),\n",
       " ('mount', 2),\n",
       " ('tai', 2),\n",
       " ('cunning', 2),\n",
       " ('eyes', 2),\n",
       " ('proof', 2),\n",
       " ('overlook', 2),\n",
       " ('hearthgod', 2),\n",
       " ('god', 2),\n",
       " ('sees', 2),\n",
       " ('goes', 2),\n",
       " ('prayer', 2),\n",
       " ('rite', 2),\n",
       " ('ting', 2),\n",
       " ('faithfully', 2),\n",
       " ('wanton', 2),\n",
       " ('earthaltars', 2),\n",
       " ('cypress', 2),\n",
       " ('settled', 2),\n",
       " ('shallow', 2),\n",
       " ('household', 2),\n",
       " ('screen', 2),\n",
       " ('turneddown', 2),\n",
       " ('prince', 2),\n",
       " ('empire', 2),\n",
       " ('merit', 2),\n",
       " ('swell', 2),\n",
       " ('harmony', 2),\n",
       " ('finish', 2),\n",
       " ('ever', 2),\n",
       " ('lament', 2),\n",
       " ('warning', 2),\n",
       " ('reverence', 2),\n",
       " ('cast', 2),\n",
       " ('glance', 2),\n",
       " ('piece', 2),\n",
       " ('cherishes', 2),\n",
       " ('trusts', 2),\n",
       " ('favour', 2),\n",
       " ('fellowfeeling', 2),\n",
       " ('living', 2),\n",
       " ('course', 2),\n",
       " ('shamed', 2),\n",
       " ('nagging', 2),\n",
       " ('girl', 2),\n",
       " ('wed', 2),\n",
       " ('nan', 2),\n",
       " ('jung', 2),\n",
       " ('neglected', 2),\n",
       " ('loses', 2),\n",
       " ('loss', 2),\n",
       " ('households', 2),\n",
       " ('slept', 2),\n",
       " ('precepts', 2),\n",
       " ('nature', 2),\n",
       " ('cultured', 2),\n",
       " ('feeding', 2),\n",
       " ('teams', 2),\n",
       " ('driven', 2),\n",
       " ('finished', 2),\n",
       " ('weisheng', 2),\n",
       " ('kao', 2),\n",
       " ('begged', 2),\n",
       " ('humility', 2),\n",
       " ('shameful', 2),\n",
       " ('friendship', 2),\n",
       " ('starved', 2),\n",
       " ('tells', 2),\n",
       " ('tumults', 2),\n",
       " ('stayed', 2),\n",
       " ('dust', 2),\n",
       " ('waiting', 2),\n",
       " ('angry', 2),\n",
       " ('houses', 2),\n",
       " ('anger', 2),\n",
       " ('mission', 2),\n",
       " ('ssu', 2),\n",
       " ('refused', 2),\n",
       " ('red', 2),\n",
       " ('offer', 2),\n",
       " ('month', 2),\n",
       " ('thorough', 2),\n",
       " ('poniu', 2),\n",
       " ('gourd', 2),\n",
       " ('wucheng', 2),\n",
       " ('wont', 2),\n",
       " ('reader', 2),\n",
       " ('outweighing', 2),\n",
       " ('begets', 2),\n",
       " ('lucky', 2),\n",
       " ('aloof', 2),\n",
       " ('quiet', 2),\n",
       " ('revolution', 2),\n",
       " ('cheated', 2),\n",
       " ('breadth', 2),\n",
       " ('paths', 2),\n",
       " ('highest', 2),\n",
       " ('minds', 2),\n",
       " ('cleave', 2),\n",
       " ('centre', 2),\n",
       " ('holiness', 2),\n",
       " ('seeking', 2),\n",
       " ('clue', 2),\n",
       " ('golden', 2),\n",
       " ('liken', 2),\n",
       " ('peng', 2),\n",
       " ('lack', 2),\n",
       " ('cheerful', 2),\n",
       " ('decay', 2),\n",
       " ('upwards', 2),\n",
       " ('founder', 2),\n",
       " ('carrying', 2),\n",
       " ('principles', 2),\n",
       " ('viii', 2),\n",
       " ('mourner', 2),\n",
       " ('sing', 2),\n",
       " ...]"
      ]
     },
     "execution_count": 18,
     "metadata": {},
     "output_type": "execute_result"
    }
   ],
   "source": [
    "# Visualisation des données qualitatives du livre \"The Says of Confucius\"\n",
    "import matplotlib.pyplot as plt\n",
    "\n",
    "frequences_des_mots_ranger_en_tuples = frequences_des_mots.items()\n",
    "# on ordonne les mots et leur fréquences, l'orde se fait en fonction des fréquences, comme dans les tuples la fréquence\n",
    "# est en 1, on fait lambda imet : item[1]\n",
    "frequences_des_mots_ordonnés = sorted(frequences_des_mots_ranger_en_tuples, reverse = True, key = lambda item : item[1])\n",
    "frequences_des_mots_ordonnés\n",
    "# for i  in frequences_des_mots_ordonnés:\n",
    "#     if i == 'others' or i == 'ourselves':\n",
    "#         print(i)\n",
    "#     else:\n",
    "#         print('none')"
   ]
  },
  {
   "attachments": {},
   "cell_type": "markdown",
   "metadata": {},
   "source": [
    "I) Intéressons nous aux 20 mots le plus réccurents, sans retirer les mots qu'on estime peu intéressant pour tirer des conclusions"
   ]
  },
  {
   "cell_type": "code",
   "execution_count": 19,
   "metadata": {},
   "outputs": [
    {
     "data": {
      "text/plain": [
       "[('love', 126),\n",
       " ('gentleman', 89),\n",
       " ('would', 69),\n",
       " ('good', 68),\n",
       " ('chi', 59),\n",
       " ('heaven', 52),\n",
       " ('duke', 50),\n",
       " ('may', 49),\n",
       " ('people', 43)]"
      ]
     },
     "execution_count": 19,
     "metadata": {},
     "output_type": "execute_result"
    }
   ],
   "source": [
    "\n",
    "Les_dix_mots_les_plus_fréquents = frequences_des_mots_ordonnés[0:9]\n",
    "Les_dix_mots_les_plus_fréquents"
   ]
  },
  {
   "cell_type": "code",
   "execution_count": 20,
   "metadata": {},
   "outputs": [
    {
     "data": {
      "text/plain": [
       "{'love': 126,\n",
       " 'gentleman': 89,\n",
       " 'would': 69,\n",
       " 'good': 68,\n",
       " 'chi': 59,\n",
       " 'heaven': 52,\n",
       " 'duke': 50,\n",
       " 'may': 49,\n",
       " 'people': 43}"
      ]
     },
     "execution_count": 20,
     "metadata": {},
     "output_type": "execute_result"
    }
   ],
   "source": [
    "Les_dix_mots_les_plus_fréquents = dict(Les_dix_mots_les_plus_fréquents)\n",
    "Les_dix_mots_les_plus_fréquents"
   ]
  },
  {
   "cell_type": "code",
   "execution_count": 21,
   "metadata": {},
   "outputs": [],
   "source": [
    "# Création d'une fonction pour faciliter, les requêtes\n",
    "\n",
    "def top(dictionnaire, n):\n",
    "    return dict(sorted(dictionnaire.items(),reverse=True, key=lambda item: item[1])[:n])\n",
    "\n",
    "top5 = top(frequences_des_mots, 5)\n",
    "# top5 = frequences_des_mots_ordonnés[0:4]\n",
    "top10 = top(frequences_des_mots, 10)\n",
    "top15 = top(frequences_des_mots, 15)\n",
    "top20 = top(frequences_des_mots, 20)\n",
    "top25 = top(frequences_des_mots, 25)\n"
   ]
  },
  {
   "cell_type": "code",
   "execution_count": 22,
   "metadata": {},
   "outputs": [
    {
     "ename": "ValueError",
     "evalue": "Could not interpret input 'Fréquences des mots'",
     "output_type": "error",
     "traceback": [
      "\u001b[0;31m---------------------------------------------------------------------------\u001b[0m",
      "\u001b[0;31mValueError\u001b[0m                                Traceback (most recent call last)",
      "Cell \u001b[0;32mIn[22], line 12\u001b[0m\n\u001b[1;32m      2\u001b[0m \u001b[39mimport\u001b[39;00m \u001b[39mmatplotlib\u001b[39;00m\u001b[39m.\u001b[39;00m\u001b[39mpyplot\u001b[39;00m \u001b[39mas\u001b[39;00m \u001b[39mplt\u001b[39;00m\n\u001b[1;32m      4\u001b[0m \u001b[39m# # set plot style: grey grid in the background:\u001b[39;00m\n\u001b[1;32m      5\u001b[0m \u001b[39m# sns.set(style=\"darkgrid\")\u001b[39;00m\n\u001b[1;32m      6\u001b[0m \n\u001b[0;32m   (...)\u001b[0m\n\u001b[1;32m     10\u001b[0m \n\u001b[1;32m     11\u001b[0m \u001b[39m# plot a bar chart\u001b[39;00m\n\u001b[0;32m---> 12\u001b[0m sns\u001b[39m.\u001b[39;49mbarplot(\n\u001b[1;32m     13\u001b[0m     x\u001b[39m=\u001b[39;49m\u001b[39m'\u001b[39;49m\u001b[39mFréquences des mots\u001b[39;49m\u001b[39m'\u001b[39;49m, \n\u001b[1;32m     14\u001b[0m     y\u001b[39m=\u001b[39;49m\u001b[39m\"\u001b[39;49m\u001b[39mTop10\u001b[39;49m\u001b[39m\"\u001b[39;49m,\n\u001b[1;32m     15\u001b[0m     data\u001b[39m=\u001b[39;49mtop10, \n\u001b[1;32m     16\u001b[0m     estimator\u001b[39m=\u001b[39;49m\u001b[39msum\u001b[39;49m,\n\u001b[1;32m     17\u001b[0m     color\u001b[39m=\u001b[39;49m\u001b[39m'\u001b[39;49m\u001b[39m#69b3a2\u001b[39;49m\u001b[39m'\u001b[39;49m)\n",
      "File \u001b[0;32m~/anaconda3/lib/python3.10/site-packages/seaborn/categorical.py:2755\u001b[0m, in \u001b[0;36mbarplot\u001b[0;34m(data, x, y, hue, order, hue_order, estimator, errorbar, n_boot, units, seed, orient, color, palette, saturation, width, errcolor, errwidth, capsize, dodge, ci, ax, **kwargs)\u001b[0m\n\u001b[1;32m   2752\u001b[0m \u001b[39mif\u001b[39;00m estimator \u001b[39mis\u001b[39;00m \u001b[39mlen\u001b[39m:\n\u001b[1;32m   2753\u001b[0m     estimator \u001b[39m=\u001b[39m \u001b[39m\"\u001b[39m\u001b[39msize\u001b[39m\u001b[39m\"\u001b[39m\n\u001b[0;32m-> 2755\u001b[0m plotter \u001b[39m=\u001b[39m _BarPlotter(x, y, hue, data, order, hue_order,\n\u001b[1;32m   2756\u001b[0m                       estimator, errorbar, n_boot, units, seed,\n\u001b[1;32m   2757\u001b[0m                       orient, color, palette, saturation,\n\u001b[1;32m   2758\u001b[0m                       width, errcolor, errwidth, capsize, dodge)\n\u001b[1;32m   2760\u001b[0m \u001b[39mif\u001b[39;00m ax \u001b[39mis\u001b[39;00m \u001b[39mNone\u001b[39;00m:\n\u001b[1;32m   2761\u001b[0m     ax \u001b[39m=\u001b[39m plt\u001b[39m.\u001b[39mgca()\n",
      "File \u001b[0;32m~/anaconda3/lib/python3.10/site-packages/seaborn/categorical.py:1530\u001b[0m, in \u001b[0;36m_BarPlotter.__init__\u001b[0;34m(self, x, y, hue, data, order, hue_order, estimator, errorbar, n_boot, units, seed, orient, color, palette, saturation, width, errcolor, errwidth, capsize, dodge)\u001b[0m\n\u001b[1;32m   1525\u001b[0m \u001b[39mdef\u001b[39;00m \u001b[39m__init__\u001b[39m(\u001b[39mself\u001b[39m, x, y, hue, data, order, hue_order,\n\u001b[1;32m   1526\u001b[0m              estimator, errorbar, n_boot, units, seed,\n\u001b[1;32m   1527\u001b[0m              orient, color, palette, saturation, width,\n\u001b[1;32m   1528\u001b[0m              errcolor, errwidth, capsize, dodge):\n\u001b[1;32m   1529\u001b[0m     \u001b[39m\"\"\"Initialize the plotter.\"\"\"\u001b[39;00m\n\u001b[0;32m-> 1530\u001b[0m     \u001b[39mself\u001b[39;49m\u001b[39m.\u001b[39;49mestablish_variables(x, y, hue, data, orient,\n\u001b[1;32m   1531\u001b[0m                              order, hue_order, units)\n\u001b[1;32m   1532\u001b[0m     \u001b[39mself\u001b[39m\u001b[39m.\u001b[39mestablish_colors(color, palette, saturation)\n\u001b[1;32m   1533\u001b[0m     \u001b[39mself\u001b[39m\u001b[39m.\u001b[39mestimate_statistic(estimator, errorbar, n_boot, seed)\n",
      "File \u001b[0;32m~/anaconda3/lib/python3.10/site-packages/seaborn/categorical.py:541\u001b[0m, in \u001b[0;36m_CategoricalPlotter.establish_variables\u001b[0;34m(self, x, y, hue, data, orient, order, hue_order, units)\u001b[0m\n\u001b[1;32m    539\u001b[0m     \u001b[39mif\u001b[39;00m \u001b[39misinstance\u001b[39m(var, \u001b[39mstr\u001b[39m):\n\u001b[1;32m    540\u001b[0m         err \u001b[39m=\u001b[39m \u001b[39mf\u001b[39m\u001b[39m\"\u001b[39m\u001b[39mCould not interpret input \u001b[39m\u001b[39m'\u001b[39m\u001b[39m{\u001b[39;00mvar\u001b[39m}\u001b[39;00m\u001b[39m'\u001b[39m\u001b[39m\"\u001b[39m\n\u001b[0;32m--> 541\u001b[0m         \u001b[39mraise\u001b[39;00m \u001b[39mValueError\u001b[39;00m(err)\n\u001b[1;32m    543\u001b[0m \u001b[39m# Figure out the plotting orientation\u001b[39;00m\n\u001b[1;32m    544\u001b[0m orient \u001b[39m=\u001b[39m infer_orient(\n\u001b[1;32m    545\u001b[0m     x, y, orient, require_numeric\u001b[39m=\u001b[39m\u001b[39mself\u001b[39m\u001b[39m.\u001b[39mrequire_numeric\n\u001b[1;32m    546\u001b[0m )\n",
      "\u001b[0;31mValueError\u001b[0m: Could not interpret input 'Fréquences des mots'"
     ]
    }
   ],
   "source": [
    "import seaborn as sns\n",
    "import matplotlib.pyplot as plt\n",
    "\n",
    "# # set plot style: grey grid in the background:\n",
    "# sns.set(style=\"darkgrid\")\n",
    "\n",
    "\n",
    "# # Set the figure size\n",
    "# plt.figure(figsize=(10, 7))\n",
    "\n",
    "# plot a bar chart\n",
    "sns.barplot(\n",
    "    x='Fréquences des mots', \n",
    "    y=\"Top10\",\n",
    "    data=top10, \n",
    "    estimator=sum,\n",
    "    color='#69b3a2')\n",
    "# errorbar=None, \n",
    "#     ci=None,"
   ]
  },
  {
   "cell_type": "code",
   "execution_count": null,
   "metadata": {},
   "outputs": [
    {
     "data": {
      "application/vnd.plotly.v1+json": {
       "config": {
        "plotlyServerURL": "https://plot.ly"
       },
       "data": [
        {
         "alignmentgroup": "True",
         "hovertemplate": "x=%{x}<br>y=%{y}<extra></extra>",
         "legendgroup": "",
         "marker": {
          "color": "red",
          "pattern": {
           "shape": ""
          }
         },
         "name": "",
         "offsetgroup": "",
         "orientation": "h",
         "showlegend": false,
         "textposition": "auto",
         "type": "bar",
         "x": [
          126,
          89,
          69,
          68,
          59,
          52,
          50,
          49,
          43,
          42,
          40,
          40,
          40,
          38,
          36,
          36,
          34,
          34,
          31,
          30
         ],
         "xaxis": "x",
         "y": [
          "love",
          "gentleman",
          "would",
          "good",
          "chi",
          "heaven",
          "duke",
          "may",
          "people",
          "lord",
          "must",
          "courtesy",
          "small",
          "great",
          "son",
          "could",
          "learning",
          "old",
          "father",
          "shall"
         ],
         "yaxis": "y"
        }
       ],
       "layout": {
        "barmode": "relative",
        "height": 600,
        "legend": {
         "tracegroupgap": 0
        },
        "margin": {
         "t": 60
        },
        "template": {
         "data": {
          "bar": [
           {
            "error_x": {
             "color": "#2a3f5f"
            },
            "error_y": {
             "color": "#2a3f5f"
            },
            "marker": {
             "line": {
              "color": "#E5ECF6",
              "width": 0.5
             },
             "pattern": {
              "fillmode": "overlay",
              "size": 10,
              "solidity": 0.2
             }
            },
            "type": "bar"
           }
          ],
          "barpolar": [
           {
            "marker": {
             "line": {
              "color": "#E5ECF6",
              "width": 0.5
             },
             "pattern": {
              "fillmode": "overlay",
              "size": 10,
              "solidity": 0.2
             }
            },
            "type": "barpolar"
           }
          ],
          "carpet": [
           {
            "aaxis": {
             "endlinecolor": "#2a3f5f",
             "gridcolor": "white",
             "linecolor": "white",
             "minorgridcolor": "white",
             "startlinecolor": "#2a3f5f"
            },
            "baxis": {
             "endlinecolor": "#2a3f5f",
             "gridcolor": "white",
             "linecolor": "white",
             "minorgridcolor": "white",
             "startlinecolor": "#2a3f5f"
            },
            "type": "carpet"
           }
          ],
          "choropleth": [
           {
            "colorbar": {
             "outlinewidth": 0,
             "ticks": ""
            },
            "type": "choropleth"
           }
          ],
          "contour": [
           {
            "colorbar": {
             "outlinewidth": 0,
             "ticks": ""
            },
            "colorscale": [
             [
              0,
              "#0d0887"
             ],
             [
              0.1111111111111111,
              "#46039f"
             ],
             [
              0.2222222222222222,
              "#7201a8"
             ],
             [
              0.3333333333333333,
              "#9c179e"
             ],
             [
              0.4444444444444444,
              "#bd3786"
             ],
             [
              0.5555555555555556,
              "#d8576b"
             ],
             [
              0.6666666666666666,
              "#ed7953"
             ],
             [
              0.7777777777777778,
              "#fb9f3a"
             ],
             [
              0.8888888888888888,
              "#fdca26"
             ],
             [
              1,
              "#f0f921"
             ]
            ],
            "type": "contour"
           }
          ],
          "contourcarpet": [
           {
            "colorbar": {
             "outlinewidth": 0,
             "ticks": ""
            },
            "type": "contourcarpet"
           }
          ],
          "heatmap": [
           {
            "colorbar": {
             "outlinewidth": 0,
             "ticks": ""
            },
            "colorscale": [
             [
              0,
              "#0d0887"
             ],
             [
              0.1111111111111111,
              "#46039f"
             ],
             [
              0.2222222222222222,
              "#7201a8"
             ],
             [
              0.3333333333333333,
              "#9c179e"
             ],
             [
              0.4444444444444444,
              "#bd3786"
             ],
             [
              0.5555555555555556,
              "#d8576b"
             ],
             [
              0.6666666666666666,
              "#ed7953"
             ],
             [
              0.7777777777777778,
              "#fb9f3a"
             ],
             [
              0.8888888888888888,
              "#fdca26"
             ],
             [
              1,
              "#f0f921"
             ]
            ],
            "type": "heatmap"
           }
          ],
          "heatmapgl": [
           {
            "colorbar": {
             "outlinewidth": 0,
             "ticks": ""
            },
            "colorscale": [
             [
              0,
              "#0d0887"
             ],
             [
              0.1111111111111111,
              "#46039f"
             ],
             [
              0.2222222222222222,
              "#7201a8"
             ],
             [
              0.3333333333333333,
              "#9c179e"
             ],
             [
              0.4444444444444444,
              "#bd3786"
             ],
             [
              0.5555555555555556,
              "#d8576b"
             ],
             [
              0.6666666666666666,
              "#ed7953"
             ],
             [
              0.7777777777777778,
              "#fb9f3a"
             ],
             [
              0.8888888888888888,
              "#fdca26"
             ],
             [
              1,
              "#f0f921"
             ]
            ],
            "type": "heatmapgl"
           }
          ],
          "histogram": [
           {
            "marker": {
             "pattern": {
              "fillmode": "overlay",
              "size": 10,
              "solidity": 0.2
             }
            },
            "type": "histogram"
           }
          ],
          "histogram2d": [
           {
            "colorbar": {
             "outlinewidth": 0,
             "ticks": ""
            },
            "colorscale": [
             [
              0,
              "#0d0887"
             ],
             [
              0.1111111111111111,
              "#46039f"
             ],
             [
              0.2222222222222222,
              "#7201a8"
             ],
             [
              0.3333333333333333,
              "#9c179e"
             ],
             [
              0.4444444444444444,
              "#bd3786"
             ],
             [
              0.5555555555555556,
              "#d8576b"
             ],
             [
              0.6666666666666666,
              "#ed7953"
             ],
             [
              0.7777777777777778,
              "#fb9f3a"
             ],
             [
              0.8888888888888888,
              "#fdca26"
             ],
             [
              1,
              "#f0f921"
             ]
            ],
            "type": "histogram2d"
           }
          ],
          "histogram2dcontour": [
           {
            "colorbar": {
             "outlinewidth": 0,
             "ticks": ""
            },
            "colorscale": [
             [
              0,
              "#0d0887"
             ],
             [
              0.1111111111111111,
              "#46039f"
             ],
             [
              0.2222222222222222,
              "#7201a8"
             ],
             [
              0.3333333333333333,
              "#9c179e"
             ],
             [
              0.4444444444444444,
              "#bd3786"
             ],
             [
              0.5555555555555556,
              "#d8576b"
             ],
             [
              0.6666666666666666,
              "#ed7953"
             ],
             [
              0.7777777777777778,
              "#fb9f3a"
             ],
             [
              0.8888888888888888,
              "#fdca26"
             ],
             [
              1,
              "#f0f921"
             ]
            ],
            "type": "histogram2dcontour"
           }
          ],
          "mesh3d": [
           {
            "colorbar": {
             "outlinewidth": 0,
             "ticks": ""
            },
            "type": "mesh3d"
           }
          ],
          "parcoords": [
           {
            "line": {
             "colorbar": {
              "outlinewidth": 0,
              "ticks": ""
             }
            },
            "type": "parcoords"
           }
          ],
          "pie": [
           {
            "automargin": true,
            "type": "pie"
           }
          ],
          "scatter": [
           {
            "fillpattern": {
             "fillmode": "overlay",
             "size": 10,
             "solidity": 0.2
            },
            "type": "scatter"
           }
          ],
          "scatter3d": [
           {
            "line": {
             "colorbar": {
              "outlinewidth": 0,
              "ticks": ""
             }
            },
            "marker": {
             "colorbar": {
              "outlinewidth": 0,
              "ticks": ""
             }
            },
            "type": "scatter3d"
           }
          ],
          "scattercarpet": [
           {
            "marker": {
             "colorbar": {
              "outlinewidth": 0,
              "ticks": ""
             }
            },
            "type": "scattercarpet"
           }
          ],
          "scattergeo": [
           {
            "marker": {
             "colorbar": {
              "outlinewidth": 0,
              "ticks": ""
             }
            },
            "type": "scattergeo"
           }
          ],
          "scattergl": [
           {
            "marker": {
             "colorbar": {
              "outlinewidth": 0,
              "ticks": ""
             }
            },
            "type": "scattergl"
           }
          ],
          "scattermapbox": [
           {
            "marker": {
             "colorbar": {
              "outlinewidth": 0,
              "ticks": ""
             }
            },
            "type": "scattermapbox"
           }
          ],
          "scatterpolar": [
           {
            "marker": {
             "colorbar": {
              "outlinewidth": 0,
              "ticks": ""
             }
            },
            "type": "scatterpolar"
           }
          ],
          "scatterpolargl": [
           {
            "marker": {
             "colorbar": {
              "outlinewidth": 0,
              "ticks": ""
             }
            },
            "type": "scatterpolargl"
           }
          ],
          "scatterternary": [
           {
            "marker": {
             "colorbar": {
              "outlinewidth": 0,
              "ticks": ""
             }
            },
            "type": "scatterternary"
           }
          ],
          "surface": [
           {
            "colorbar": {
             "outlinewidth": 0,
             "ticks": ""
            },
            "colorscale": [
             [
              0,
              "#0d0887"
             ],
             [
              0.1111111111111111,
              "#46039f"
             ],
             [
              0.2222222222222222,
              "#7201a8"
             ],
             [
              0.3333333333333333,
              "#9c179e"
             ],
             [
              0.4444444444444444,
              "#bd3786"
             ],
             [
              0.5555555555555556,
              "#d8576b"
             ],
             [
              0.6666666666666666,
              "#ed7953"
             ],
             [
              0.7777777777777778,
              "#fb9f3a"
             ],
             [
              0.8888888888888888,
              "#fdca26"
             ],
             [
              1,
              "#f0f921"
             ]
            ],
            "type": "surface"
           }
          ],
          "table": [
           {
            "cells": {
             "fill": {
              "color": "#EBF0F8"
             },
             "line": {
              "color": "white"
             }
            },
            "header": {
             "fill": {
              "color": "#C8D4E3"
             },
             "line": {
              "color": "white"
             }
            },
            "type": "table"
           }
          ]
         },
         "layout": {
          "annotationdefaults": {
           "arrowcolor": "#2a3f5f",
           "arrowhead": 0,
           "arrowwidth": 1
          },
          "autotypenumbers": "strict",
          "coloraxis": {
           "colorbar": {
            "outlinewidth": 0,
            "ticks": ""
           }
          },
          "colorscale": {
           "diverging": [
            [
             0,
             "#8e0152"
            ],
            [
             0.1,
             "#c51b7d"
            ],
            [
             0.2,
             "#de77ae"
            ],
            [
             0.3,
             "#f1b6da"
            ],
            [
             0.4,
             "#fde0ef"
            ],
            [
             0.5,
             "#f7f7f7"
            ],
            [
             0.6,
             "#e6f5d0"
            ],
            [
             0.7,
             "#b8e186"
            ],
            [
             0.8,
             "#7fbc41"
            ],
            [
             0.9,
             "#4d9221"
            ],
            [
             1,
             "#276419"
            ]
           ],
           "sequential": [
            [
             0,
             "#0d0887"
            ],
            [
             0.1111111111111111,
             "#46039f"
            ],
            [
             0.2222222222222222,
             "#7201a8"
            ],
            [
             0.3333333333333333,
             "#9c179e"
            ],
            [
             0.4444444444444444,
             "#bd3786"
            ],
            [
             0.5555555555555556,
             "#d8576b"
            ],
            [
             0.6666666666666666,
             "#ed7953"
            ],
            [
             0.7777777777777778,
             "#fb9f3a"
            ],
            [
             0.8888888888888888,
             "#fdca26"
            ],
            [
             1,
             "#f0f921"
            ]
           ],
           "sequentialminus": [
            [
             0,
             "#0d0887"
            ],
            [
             0.1111111111111111,
             "#46039f"
            ],
            [
             0.2222222222222222,
             "#7201a8"
            ],
            [
             0.3333333333333333,
             "#9c179e"
            ],
            [
             0.4444444444444444,
             "#bd3786"
            ],
            [
             0.5555555555555556,
             "#d8576b"
            ],
            [
             0.6666666666666666,
             "#ed7953"
            ],
            [
             0.7777777777777778,
             "#fb9f3a"
            ],
            [
             0.8888888888888888,
             "#fdca26"
            ],
            [
             1,
             "#f0f921"
            ]
           ]
          },
          "colorway": [
           "#636efa",
           "#EF553B",
           "#00cc96",
           "#ab63fa",
           "#FFA15A",
           "#19d3f3",
           "#FF6692",
           "#B6E880",
           "#FF97FF",
           "#FECB52"
          ],
          "font": {
           "color": "#2a3f5f"
          },
          "geo": {
           "bgcolor": "white",
           "lakecolor": "white",
           "landcolor": "#E5ECF6",
           "showlakes": true,
           "showland": true,
           "subunitcolor": "white"
          },
          "hoverlabel": {
           "align": "left"
          },
          "hovermode": "closest",
          "mapbox": {
           "style": "light"
          },
          "paper_bgcolor": "white",
          "plot_bgcolor": "#E5ECF6",
          "polar": {
           "angularaxis": {
            "gridcolor": "white",
            "linecolor": "white",
            "ticks": ""
           },
           "bgcolor": "#E5ECF6",
           "radialaxis": {
            "gridcolor": "white",
            "linecolor": "white",
            "ticks": ""
           }
          },
          "scene": {
           "xaxis": {
            "backgroundcolor": "#E5ECF6",
            "gridcolor": "white",
            "gridwidth": 2,
            "linecolor": "white",
            "showbackground": true,
            "ticks": "",
            "zerolinecolor": "white"
           },
           "yaxis": {
            "backgroundcolor": "#E5ECF6",
            "gridcolor": "white",
            "gridwidth": 2,
            "linecolor": "white",
            "showbackground": true,
            "ticks": "",
            "zerolinecolor": "white"
           },
           "zaxis": {
            "backgroundcolor": "#E5ECF6",
            "gridcolor": "white",
            "gridwidth": 2,
            "linecolor": "white",
            "showbackground": true,
            "ticks": "",
            "zerolinecolor": "white"
           }
          },
          "shapedefaults": {
           "line": {
            "color": "#2a3f5f"
           }
          },
          "ternary": {
           "aaxis": {
            "gridcolor": "white",
            "linecolor": "white",
            "ticks": ""
           },
           "baxis": {
            "gridcolor": "white",
            "linecolor": "white",
            "ticks": ""
           },
           "bgcolor": "#E5ECF6",
           "caxis": {
            "gridcolor": "white",
            "linecolor": "white",
            "ticks": ""
           }
          },
          "title": {
           "x": 0.05
          },
          "xaxis": {
           "automargin": true,
           "gridcolor": "white",
           "linecolor": "white",
           "ticks": "",
           "title": {
            "standoff": 15
           },
           "zerolinecolor": "white",
           "zerolinewidth": 2
          },
          "yaxis": {
           "automargin": true,
           "gridcolor": "white",
           "linecolor": "white",
           "ticks": "",
           "title": {
            "standoff": 15
           },
           "zerolinecolor": "white",
           "zerolinewidth": 2
          }
         }
        },
        "title": {
         "text": "Les dix mots les plus rencontrés dans l'ouvrage"
        },
        "xaxis": {
         "anchor": "y",
         "domain": [
          0,
          1
         ],
         "title": {
          "text": "Fréquences des mots"
         }
        },
        "yaxis": {
         "anchor": "x",
         "domain": [
          0,
          1
         ],
         "title": {
          "text": "Top 10"
         }
        }
       }
      }
     },
     "metadata": {},
     "output_type": "display_data"
    },
    {
     "data": {
      "text/plain": [
       "20"
      ]
     },
     "execution_count": 40,
     "metadata": {},
     "output_type": "execute_result"
    }
   ],
   "source": [
    "import plotly.express as px\n",
    "\n",
    "fig = px.bar(y=list(top20.keys()), x=top20.values(), orientation='h',  height=600)\n",
    "\n",
    "fig.update_traces(marker_color='red')\n",
    "\n",
    "fig.update_layout(\n",
    "    title=\"Les dix mots les plus rencontrés dans l'ouvrage\",\n",
    "    xaxis_title=\"Fréquences des mots\",\n",
    "    yaxis_title=\"Top 10\")\n",
    "\n",
    "fig.show()\n",
    "len(top20)"
   ]
  },
  {
   "cell_type": "code",
   "execution_count": null,
   "metadata": {},
   "outputs": [
    {
     "ename": "SyntaxError",
     "evalue": "invalid syntax. Maybe you meant '==' or ':=' instead of '='? (401896815.py, line 11)",
     "output_type": "error",
     "traceback": [
      "\u001b[0;36m  Cell \u001b[0;32mIn[41], line 11\u001b[0;36m\u001b[0m\n\u001b[0;31m    plt.pie((top10.values(),explode=explode_list)[0.1]*n,labels=top10.keys(), colors=couleurs, autopct='%1.1f%%' )\u001b[0m\n\u001b[0m                            ^\u001b[0m\n\u001b[0;31mSyntaxError\u001b[0m\u001b[0;31m:\u001b[0m invalid syntax. Maybe you meant '==' or ':=' instead of '='?\n"
     ]
    }
   ],
   "source": [
    "# Création d'une liste de couleurs pour le camembert\n",
    "n=5\n",
    "couleurs = ['lightcoral', 'lightskyblue', 'yellowgreen', 'gold', 'pink', 'purple', 'red', 'green', 'blue', 'orange', 'brown', 'grey', 'black', 'beige', 'lavender']\n",
    "explode_list = [0.1]\n",
    "for i in range(19):\n",
    "    explode_list.append(0.1)\n",
    "print(len(explode_list))\n",
    "# Affichage du camembert\n",
    "\n",
    "plt.figure(figsize=(15,15))\n",
    "plt.pie((top10.values(),explode=explode_list)[0.1]*n,labels=top10.keys(), colors=couleurs, autopct='%1.1f%%' )\n",
    "plt.axis('equal')\n",
    "plt.title('Fréquence des mots')\n",
    "plt.show()\n"
   ]
  },
  {
   "cell_type": "code",
   "execution_count": null,
   "metadata": {},
   "outputs": [
    {
     "name": "stdout",
     "output_type": "stream",
     "text": [
      "Requirement already satisfied: wordcloud in /home/matriceecole/anaconda3/lib/python3.10/site-packages (1.9.1.1)\n",
      "Requirement already satisfied: pillow in /home/matriceecole/anaconda3/lib/python3.10/site-packages (from wordcloud) (9.4.0)\n",
      "Requirement already satisfied: numpy>=1.6.1 in /home/matriceecole/anaconda3/lib/python3.10/site-packages (from wordcloud) (1.23.5)\n",
      "Requirement already satisfied: matplotlib in /home/matriceecole/anaconda3/lib/python3.10/site-packages (from wordcloud) (3.7.0)\n",
      "Requirement already satisfied: python-dateutil>=2.7 in /home/matriceecole/anaconda3/lib/python3.10/site-packages (from matplotlib->wordcloud) (2.8.2)\n",
      "Requirement already satisfied: pyparsing>=2.3.1 in /home/matriceecole/anaconda3/lib/python3.10/site-packages (from matplotlib->wordcloud) (3.0.9)\n",
      "Requirement already satisfied: contourpy>=1.0.1 in /home/matriceecole/anaconda3/lib/python3.10/site-packages (from matplotlib->wordcloud) (1.0.5)\n",
      "Requirement already satisfied: kiwisolver>=1.0.1 in /home/matriceecole/anaconda3/lib/python3.10/site-packages (from matplotlib->wordcloud) (1.4.4)\n",
      "Requirement already satisfied: packaging>=20.0 in /home/matriceecole/anaconda3/lib/python3.10/site-packages (from matplotlib->wordcloud) (22.0)\n",
      "Requirement already satisfied: cycler>=0.10 in /home/matriceecole/anaconda3/lib/python3.10/site-packages (from matplotlib->wordcloud) (0.11.0)\n",
      "Requirement already satisfied: fonttools>=4.22.0 in /home/matriceecole/anaconda3/lib/python3.10/site-packages (from matplotlib->wordcloud) (4.25.0)\n",
      "Requirement already satisfied: six>=1.5 in /home/matriceecole/anaconda3/lib/python3.10/site-packages (from python-dateutil>=2.7->matplotlib->wordcloud) (1.12.0)\n",
      "Note: you may need to restart the kernel to use updated packages.\n"
     ]
    }
   ],
   "source": [
    "pip install wordcloud"
   ]
  },
  {
   "cell_type": "code",
   "execution_count": null,
   "metadata": {},
   "outputs": [
    {
     "data": {
      "image/png": "[encoded data removed]",
      "text/plain": [
       "<Figure size 1000x500 with 1 Axes>"
      ]
     },
     "metadata": {},
     "output_type": "display_data"
    }
   ],
   "source": [
    "from wordcloud import WordCloud\n",
    "wordcloud = WordCloud(background_color = 'white').generate_from_frequencies(top20)\n",
    "\n",
    "plt.figure(figsize=(10,5))\n",
    "plt.imshow(wordcloud)\n",
    "plt.axis(\"off\")\n",
    "\n",
    "plt.show()"
   ]
  },
  {
   "cell_type": "code",
   "execution_count": null,
   "metadata": {},
   "outputs": [
    {
     "ename": "NameError",
     "evalue": "name 'str_token' is not defined",
     "output_type": "error",
     "traceback": [
      "\u001b[0;31m---------------------------------------------------------------------------\u001b[0m",
      "\u001b[0;31mNameError\u001b[0m                                 Traceback (most recent call last)",
      "Cell \u001b[0;32mIn[44], line 4\u001b[0m\n\u001b[1;32m      2\u001b[0m \u001b[39m# On crée le wordclouud en question\u001b[39;00m\n\u001b[1;32m      3\u001b[0m \u001b[39mfrom\u001b[39;00m \u001b[39mwordcloud\u001b[39;00m \u001b[39mimport\u001b[39;00m WordCloud\n\u001b[0;32m----> 4\u001b[0m Nuage_de_mot \u001b[39m=\u001b[39m WordCloud(width\u001b[39m=\u001b[39m\u001b[39m1600\u001b[39m, height\u001b[39m=\u001b[39m\u001b[39m800\u001b[39m, background_color\u001b[39m=\u001b[39m\u001b[39m\"\u001b[39m\u001b[39mwhite\u001b[39m\u001b[39m\"\u001b[39m, colormap\u001b[39m=\u001b[39m\u001b[39m\"\u001b[39m\u001b[39mAccent\u001b[39m\u001b[39m\"\u001b[39m)\u001b[39m.\u001b[39mgenerate(str_token)\n\u001b[1;32m      6\u001b[0m \u001b[39m# On défini la taille de notre figure\u001b[39;00m\n\u001b[1;32m      7\u001b[0m \n\u001b[1;32m      8\u001b[0m \u001b[39m# On l'affiche\u001b[39;00m\n\u001b[1;32m      9\u001b[0m plt\u001b[39m.\u001b[39mimshow(wordcloud)\n",
      "\u001b[0;31mNameError\u001b[0m: name 'str_token' is not defined"
     ]
    }
   ],
   "source": [
    "top(frequences_des_mots, 20)\n",
    "# On crée le wordclouud en question\n",
    "from wordcloud import WordCloud\n",
    "Nuage_de_mot = WordCloud(width=1600, height=800, background_color=\"white\", colormap=\"Accent\").generate(str_token)\n",
    "\n",
    "# On défini la taille de notre figure\n",
    "\n",
    "# On l'affiche\n",
    "plt.imshow(wordcloud)\n",
    "\n",
    "plt.axis(\"off\")\n",
    "#plt.savefig(\"word.jpg\", dpi=800)\n",
    "wordcloud.to_file(\"word.png\")\n",
    "\n",
    "\n",
    "\n"
   ]
  },
  {
   "cell_type": "code",
   "execution_count": null,
   "metadata": {},
   "outputs": [
    {
     "data": {
      "image/png": "[encoded data removed]",
      "text/plain": [
       "<Figure size 1000x500 with 1 Axes>"
      ]
     },
     "metadata": {},
     "output_type": "display_data"
    }
   ],
   "source": [
    "wordcloud = WordCloud(background_color = 'white').generate_from_frequencies(top20)\n",
    "\n",
    "plt.figure(figsize=(10,5))\n",
    "plt.imshow(wordcloud)\n",
    "plt.axis(\"off\")\n",
    "\n",
    "plt.show()"
   ]
  },
  {
   "attachments": {},
   "cell_type": "markdown",
   "metadata": {},
   "source": [
    "On met en exergue les pourcentages :"
   ]
  },
  {
   "cell_type": "code",
   "execution_count": null,
   "metadata": {},
   "outputs": [
    {
     "data": {
      "text/plain": [
       "{'plead': 0.0,\n",
       " 'dogs': 0.0,\n",
       " 'commend': 0.0,\n",
       " 'gardener': 0.0,\n",
       " 'being': 0.05,\n",
       " 'climbed': 0.0,\n",
       " 'thoroughness': 0.0,\n",
       " 'eminent': 0.02,\n",
       " 'sun': 0.01,\n",
       " 'prize': 0.0,\n",
       " 'conduct': 0.0,\n",
       " 'helping': 0.0,\n",
       " 'mother': 0.05,\n",
       " 'sorely': 0.0,\n",
       " 'asks': 0.02,\n",
       " 'claims': 0.0,\n",
       " 'haste': 0.01,\n",
       " 'kungwen': 0.0,\n",
       " 'sour': 0.0,\n",
       " 'friendless': 0.0,\n",
       " 'spake': 0.04,\n",
       " 'coming': 0.04,\n",
       " 'wedded': 0.0,\n",
       " 'learning': 0.15,\n",
       " 'remembered': 0.0,\n",
       " 'clue': 0.01,\n",
       " 'tonguetied': 0.0,\n",
       " 'fight': 0.01,\n",
       " 'chungni': 0.03,\n",
       " 'same': 0.06,\n",
       " 'yã¼an': 0.13,\n",
       " 'bought': 0.0,\n",
       " 'food': 0.05,\n",
       " 'fire': 0.01,\n",
       " 'bathe': 0.0,\n",
       " 'leaders': 0.0,\n",
       " 'tui': 0.01,\n",
       " 'cast': 0.01,\n",
       " 'escape': 0.02,\n",
       " 'plain': 0.03,\n",
       " 'kill': 0.04,\n",
       " 'huans': 0.0,\n",
       " 'big': 0.04,\n",
       " 'wasteful': 0.0,\n",
       " 'seasons': 0.01,\n",
       " 'oxknife': 0.0,\n",
       " 'buried': 0.0,\n",
       " 'names': 0.02,\n",
       " 'neglected': 0.01,\n",
       " 'acting': 0.0,\n",
       " 'sake': 0.0,\n",
       " 'mounting': 0.0,\n",
       " 'final': 0.0,\n",
       " 'carried': 0.01,\n",
       " 'loved': 0.04,\n",
       " 'unknown': 0.03,\n",
       " 'ties': 0.01,\n",
       " 'spite': 0.0,\n",
       " 'talents': 0.0,\n",
       " 'settles': 0.0,\n",
       " 'likewise': 0.0,\n",
       " 'tzuchang': 0.11,\n",
       " 'holds': 0.02,\n",
       " 'dawned': 0.0,\n",
       " 'buildings': 0.0,\n",
       " 'hsien': 0.01,\n",
       " 'dwell': 0.01,\n",
       " 'outstep': 0.0,\n",
       " 'roost': 0.0,\n",
       " 'lot': 0.0,\n",
       " 'culture': 0.02,\n",
       " 'square': 0.01,\n",
       " 'fond': 0.02,\n",
       " 'withstanding': 0.01,\n",
       " 'sees': 0.01,\n",
       " 'fur': 0.02,\n",
       " 'some': 0.03,\n",
       " 'chequers': 0.0,\n",
       " 'ruin': 0.02,\n",
       " 'goblins': 0.0,\n",
       " 'hast': 0.02,\n",
       " 'bury': 0.01,\n",
       " 'swayed': 0.0,\n",
       " 'pupil': 0.0,\n",
       " 'throw': 0.0,\n",
       " 'temps': 0.0,\n",
       " 'kuang': 0.02,\n",
       " 'weighed': 0.01,\n",
       " 'seize': 0.0,\n",
       " 'sacrificing': 0.0,\n",
       " 'levies': 0.0,\n",
       " 'honour': 0.03,\n",
       " 'purpose': 0.01,\n",
       " 'carrying': 0.01,\n",
       " 'happy': 0.0,\n",
       " 'would': 0.3,\n",
       " 'show': 0.03,\n",
       " 'shallow': 0.01,\n",
       " 'paid': 0.0,\n",
       " 'thou': 0.2,\n",
       " 'teach': 0.03,\n",
       " 'troth': 0.0,\n",
       " 'sacrificed': 0.01,\n",
       " 'desire': 0.0,\n",
       " 'grieve': 0.01,\n",
       " 'tyrant': 0.03,\n",
       " 'stream': 0.0,\n",
       " 'lowest': 0.01,\n",
       " 'hsia': 0.03,\n",
       " 'spot': 0.0,\n",
       " 'can': 0.37,\n",
       " 'drugs': 0.0,\n",
       " 'fail': 0.01,\n",
       " 'taken': 0.02,\n",
       " 'too': 0.13,\n",
       " 'generations': 0.03,\n",
       " 'leads': 0.01,\n",
       " 'though': 0.11,\n",
       " 'answered': 0.22,\n",
       " 'throwing': 0.0,\n",
       " 'shuyeh': 0.0,\n",
       " 'horse': 0.01,\n",
       " 'tell': 0.03,\n",
       " 'musicians': 0.0,\n",
       " 'later': 0.02,\n",
       " 'friendship': 0.01,\n",
       " 'straight': 0.1,\n",
       " 'rare': 0.0,\n",
       " 'had': 0.3,\n",
       " 'get': 0.08,\n",
       " 'girt': 0.0,\n",
       " 'tomorrow': 0.01,\n",
       " 'wisdom': 0.12,\n",
       " 'chiu': 0.11,\n",
       " 'becoming': 0.01,\n",
       " 'humbled': 0.0,\n",
       " 'then': 0.08,\n",
       " 'poems': 0.01,\n",
       " 'supplant': 0.0,\n",
       " 'sought': 0.01,\n",
       " 'tools': 0.01,\n",
       " 'grown': 0.01,\n",
       " 'ssu': 0.01,\n",
       " 'hash': 0.0,\n",
       " 'blossom': 0.0,\n",
       " 'dismissed': 0.01,\n",
       " 'power': 0.02,\n",
       " 'soft': 0.0,\n",
       " 'pillow': 0.0,\n",
       " 'chihfan': 0.0,\n",
       " 'overlook': 0.01,\n",
       " 'cleaving': 0.0,\n",
       " 'brotherhood': 0.0,\n",
       " 'enemies': 0.0,\n",
       " 'everlastingly': 0.0,\n",
       " 'feast': 0.0,\n",
       " 'swept': 0.01,\n",
       " 'became': 0.02,\n",
       " 'guests': 0.01,\n",
       " 'i': 1.37,\n",
       " 'lays': 0.01,\n",
       " 'emperor': 0.01,\n",
       " 'tzuhsi': 0.0,\n",
       " 'countrys': 0.0,\n",
       " 'tahsiang': 0.0,\n",
       " 'anywhere': 0.0,\n",
       " 'bc': 0.04,\n",
       " 'borne': 0.02,\n",
       " 'hoeing': 0.0,\n",
       " 'chalice': 0.0,\n",
       " 'o': 0.0,\n",
       " 'abroad': 0.02,\n",
       " 'instruments': 0.0,\n",
       " 'chopped': 0.0,\n",
       " 'go': 0.18,\n",
       " 'musicmaster': 0.03,\n",
       " 'fill': 0.03,\n",
       " 'hated': 0.02,\n",
       " 'weis': 0.0,\n",
       " 'notes': 0.0,\n",
       " 'ruined': 0.0,\n",
       " 'wizard': 0.0,\n",
       " 'thrive': 0.01,\n",
       " 'stars': 0.0,\n",
       " 'thyself': 0.01,\n",
       " 'springtime': 0.0,\n",
       " 'xviii': 0.0,\n",
       " 'mire': 0.0,\n",
       " 'seeing': 0.02,\n",
       " 'troubles': 0.0,\n",
       " 'dies': 0.0,\n",
       " 'ride': 0.0,\n",
       " 'clever': 0.01,\n",
       " 'tires': 0.02,\n",
       " 'moved': 0.02,\n",
       " 'ju': 0.0,\n",
       " 'pleased': 0.03,\n",
       " 'found': 0.04,\n",
       " 'underlings': 0.0,\n",
       " 'spacious': 0.01,\n",
       " 'audience': 0.02,\n",
       " 'business': 0.02,\n",
       " 'twice': 0.02,\n",
       " 'pushed': 0.01,\n",
       " 'branches': 0.0,\n",
       " 'ping': 0.0,\n",
       " 'impatience': 0.0,\n",
       " 'using': 0.0,\n",
       " 'byends': 0.0,\n",
       " 'pities': 0.0,\n",
       " 'riches': 0.02,\n",
       " 'undone': 0.01,\n",
       " 'asking': 0.01,\n",
       " 'legs': 0.01,\n",
       " 'tread': 0.01,\n",
       " 'thing': 0.03,\n",
       " 'touches': 0.0,\n",
       " 'kuo': 0.01,\n",
       " 'high': 0.03,\n",
       " 'eye': 0.01,\n",
       " 'hearkened': 0.0,\n",
       " 'their': 0.14,\n",
       " 'poor': 0.04,\n",
       " 'chungshu': 0.0,\n",
       " 'kingdom': 0.07,\n",
       " 'effected': 0.0,\n",
       " 'simple': 0.02,\n",
       " 'ones': 0.0,\n",
       " 'follow': 0.09,\n",
       " 'reverence': 0.01,\n",
       " 'eminence': 0.01,\n",
       " 'granted': 0.0,\n",
       " 'river': 0.01,\n",
       " 'bated': 0.0,\n",
       " 'sound': 0.02,\n",
       " 'effort': 0.0,\n",
       " 'years': 0.09,\n",
       " 'blossoms': 0.01,\n",
       " 'carriage': 0.02,\n",
       " 'neighbours': 0.02,\n",
       " 'stint': 0.0,\n",
       " 'measured': 0.0,\n",
       " 'matters': 0.0,\n",
       " 'greatness': 0.01,\n",
       " 'bless': 0.01,\n",
       " 'hamlet': 0.0,\n",
       " 'peace': 0.04,\n",
       " 'suppose': 0.0,\n",
       " 'yu': 0.21,\n",
       " 'save': 0.01,\n",
       " 'ripen': 0.0,\n",
       " 'order': 0.02,\n",
       " 'standing': 0.02,\n",
       " 'ahead': 0.01,\n",
       " 'nights': 0.0,\n",
       " 'zealous': 0.02,\n",
       " 'office': 0.06,\n",
       " 'outer': 0.01,\n",
       " 'have': 0.4,\n",
       " 'tally': 0.0,\n",
       " 'drawest': 0.0,\n",
       " 'kungshu': 0.01,\n",
       " 'selfrespect': 0.0,\n",
       " 'x': 0.02,\n",
       " 'wild': 0.01,\n",
       " 'so': 0.2,\n",
       " 'barbarous': 0.0,\n",
       " 'shang': 0.03,\n",
       " 'chides': 0.0,\n",
       " 'shoots': 0.0,\n",
       " 'says': 0.04,\n",
       " 'abreast': 0.0,\n",
       " 'soul': 0.01,\n",
       " 'earnest': 0.02,\n",
       " 'feed': 0.0,\n",
       " 'contempt': 0.0,\n",
       " 'questions': 0.0,\n",
       " 'learned': 0.04,\n",
       " 'known': 0.04,\n",
       " 'spare': 0.01,\n",
       " 'act': 0.01,\n",
       " 'places': 0.0,\n",
       " 'ancestral': 0.02,\n",
       " 'sounding': 0.02,\n",
       " 'ten': 0.04,\n",
       " 'shield': 0.0,\n",
       " 'parents': 0.01,\n",
       " 'yung': 0.02,\n",
       " 'taste': 0.02,\n",
       " 'ate': 0.01,\n",
       " 'greatheartedness': 0.0,\n",
       " 'chide': 0.01,\n",
       " 'uncharity': 0.01,\n",
       " 'servants': 0.0,\n",
       " 'gourd': 0.01,\n",
       " 'doubted': 0.0,\n",
       " 'hears': 0.01,\n",
       " 'punishment': 0.01,\n",
       " 'thick': 0.0,\n",
       " 'joined': 0.0,\n",
       " 'kinsmen': 0.02,\n",
       " 'beasts': 0.01,\n",
       " 'ministers': 0.08,\n",
       " 'heard': 0.11,\n",
       " 'gentlemen': 0.06,\n",
       " 'below': 0.15,\n",
       " 'law': 0.02,\n",
       " 'tsai': 0.05,\n",
       " 'meats': 0.0,\n",
       " 'entered': 0.0,\n",
       " 'heaven': 0.23,\n",
       " 'son': 0.16,\n",
       " 'east': 0.02,\n",
       " 'shaonan': 0.01,\n",
       " 'nightgown': 0.0,\n",
       " 'governments': 0.0,\n",
       " 'servitors': 0.0,\n",
       " 'orders': 0.0,\n",
       " 'troops': 0.01,\n",
       " 'seems': 0.02,\n",
       " 'again': 0.04,\n",
       " 'likes': 0.0,\n",
       " 'text': 0.01,\n",
       " 'chiming': 0.0,\n",
       " 'eats': 0.0,\n",
       " 'awe': 0.03,\n",
       " 'tzu': 0.04,\n",
       " 'scholar': 0.0,\n",
       " 'brothers': 0.05,\n",
       " 'deftly': 0.0,\n",
       " 'frank': 0.0,\n",
       " 'advised': 0.0,\n",
       " 'horn': 0.02,\n",
       " 'course': 0.01,\n",
       " 'pride': 0.0,\n",
       " 'bring': 0.03,\n",
       " 'before': 0.07,\n",
       " 'utter': 0.0,\n",
       " 'huan': 0.07,\n",
       " 'grows': 0.02,\n",
       " 'the': 6.72,\n",
       " 'king': 0.1,\n",
       " 'nicety': 0.0,\n",
       " 'flame': 0.0,\n",
       " 'hightides': 0.0,\n",
       " 'scans': 0.0,\n",
       " 'displeased': 0.0,\n",
       " 'quick': 0.02,\n",
       " 'heedless': 0.0,\n",
       " 'achieve': 0.01,\n",
       " 'repeat': 0.0,\n",
       " 'hear': 0.07,\n",
       " 'independence': 0.0,\n",
       " 'loser': 0.0,\n",
       " 'finds': 0.01,\n",
       " 'fret': 0.01,\n",
       " 'enable': 0.0,\n",
       " 'slew': 0.01,\n",
       " 'dost': 0.04,\n",
       " 'exorcisms': 0.0,\n",
       " 'war': 0.03,\n",
       " 'chuanyã¼': 0.04,\n",
       " 'broils': 0.0,\n",
       " 'alighted': 0.0,\n",
       " 'courtesy': 0.18,\n",
       " 'might': 0.1,\n",
       " 'hurried': 0.0,\n",
       " 'mend': 0.02,\n",
       " 'rebuilt': 0.0,\n",
       " 'wiles': 0.0,\n",
       " 'mends': 0.0,\n",
       " 'thought': 0.08,\n",
       " 'han': 0.0,\n",
       " 'fish': 0.01,\n",
       " 'undo': 0.0,\n",
       " 'from': 0.25,\n",
       " 'sea': 0.02,\n",
       " 'unmoved': 0.0,\n",
       " 'chin': 0.01,\n",
       " 'stirs': 0.0,\n",
       " 'exalt': 0.0,\n",
       " 'land': 0.12,\n",
       " 'part': 0.04,\n",
       " 'kin': 0.0,\n",
       " 'burial': 0.0,\n",
       " 'bounty': 0.02,\n",
       " 'seething': 0.0,\n",
       " 'plum': 0.0,\n",
       " 'came': 0.05,\n",
       " 'weights': 0.01,\n",
       " 'arose': 0.0,\n",
       " 'emptily': 0.0,\n",
       " 'hearts': 0.01,\n",
       " 'only': 0.06,\n",
       " 'twothirds': 0.0,\n",
       " 'take': 0.13,\n",
       " 'argue': 0.0,\n",
       " 'often': 0.01,\n",
       " 'set': 0.04,\n",
       " 'alas': 0.03,\n",
       " 'unprincipled': 0.0,\n",
       " 'them': 0.31,\n",
       " 'affairs': 0.01,\n",
       " 'mistake': 0.0,\n",
       " 'tung': 0.0,\n",
       " 'praised': 0.01,\n",
       " 'decked': 0.0,\n",
       " 'bewilder': 0.0,\n",
       " 'rule': 0.07,\n",
       " 'things': 0.14,\n",
       " 'need': 0.04,\n",
       " 'wind': 0.02,\n",
       " 'idle': 0.02,\n",
       " 'task': 0.0,\n",
       " 'spend': 0.01,\n",
       " 'plan': 0.0,\n",
       " 'frankly': 0.0,\n",
       " 'begat': 0.01,\n",
       " 'showing': 0.0,\n",
       " 'dust': 0.01,\n",
       " 'chose': 0.01,\n",
       " 'tsui': 0.01,\n",
       " 'abstinence': 0.01,\n",
       " 'niu': 0.01,\n",
       " 'maker': 0.0,\n",
       " 'sacrificial': 0.01,\n",
       " 'gotten': 0.0,\n",
       " 'stooped': 0.0,\n",
       " 'ask': 0.08,\n",
       " 'mans': 0.03,\n",
       " 'place': 0.02,\n",
       " 'starved': 0.01,\n",
       " 'dynasty': 0.02,\n",
       " 'scalding': 0.0,\n",
       " 'dung': 0.0,\n",
       " 'historians': 0.0,\n",
       " 'empty': 0.0,\n",
       " 'book': 0.18,\n",
       " 'joy': 0.0,\n",
       " 'yin': 0.07,\n",
       " 'deeds': 0.04,\n",
       " 'music': 0.11,\n",
       " 'keeps': 0.03,\n",
       " 'unintelligible': 0.0,\n",
       " 'arraign': 0.0,\n",
       " 'working': 0.0,\n",
       " 'see': 0.18,\n",
       " 'seeking': 0.01,\n",
       " 'red': 0.01,\n",
       " 'sons': 0.04,\n",
       " 'eyes': 0.01,\n",
       " 'while': 0.0,\n",
       " 'secrecy': 0.0,\n",
       " 'jadis_': 0.0,\n",
       " 'du': 0.0,\n",
       " 'career': 0.0,\n",
       " 'threw': 0.0,\n",
       " 'wed': 0.01,\n",
       " 'times': 0.02,\n",
       " 'inner': 0.01,\n",
       " 'opposed': 0.0,\n",
       " 'posts': 0.0,\n",
       " 'wellbred': 0.0,\n",
       " 'sing': 0.01,\n",
       " 'homesteads': 0.01,\n",
       " 'rolling': 0.0,\n",
       " 'sign': 0.0,\n",
       " 'shantung': 0.0,\n",
       " 'steer': 0.0,\n",
       " 'raised': 0.02,\n",
       " 'clans': 0.02,\n",
       " 'merry': 0.02,\n",
       " 'another': 0.03,\n",
       " 'out': 0.11,\n",
       " 'screen': 0.01,\n",
       " 'coffin': 0.01,\n",
       " 'confederate': 0.0,\n",
       " 'fathoms': 0.0,\n",
       " 'trades': 0.0,\n",
       " 'differs': 0.0,\n",
       " 'playing': 0.0,\n",
       " 'under': 0.02,\n",
       " 'itself': 0.01,\n",
       " 'uncle': 0.02,\n",
       " 'painstaking': 0.0,\n",
       " 'wanting': 0.01,\n",
       " 'error': 0.0,\n",
       " 'robbers': 0.01,\n",
       " 'leader': 0.0,\n",
       " 'occasion': 0.0,\n",
       " 'tarry': 0.0,\n",
       " 'rightly': 0.0,\n",
       " 'deed': 0.02,\n",
       " 'shun': 0.06,\n",
       " 'politeness': 0.0,\n",
       " 'song': 0.01,\n",
       " 'pick': 0.01,\n",
       " '_tremble_': 0.0,\n",
       " 'ye': 0.2,\n",
       " 'off': 0.06,\n",
       " 'san': 0.0,\n",
       " 'wins': 0.0,\n",
       " 'instability': 0.0,\n",
       " 'weight': 0.0,\n",
       " 'forgive': 0.0,\n",
       " 'shih': 0.02,\n",
       " 'ashamed': 0.03,\n",
       " 'trouble': 0.02,\n",
       " 'loss': 0.01,\n",
       " 'weakness': 0.01,\n",
       " 'measures': 0.01,\n",
       " 'due': 0.02,\n",
       " 'main': 0.0,\n",
       " 'houses': 0.01,\n",
       " 'strife': 0.01,\n",
       " 'given': 0.03,\n",
       " 'gifts': 0.01,\n",
       " 'clan': 0.05,\n",
       " 'ice': 0.0,\n",
       " 'expose': 0.0,\n",
       " 'tzuwen': 0.0,\n",
       " 'meanness': 0.0,\n",
       " 'about': 0.07,\n",
       " 'graced': 0.0,\n",
       " 'twanging': 0.0,\n",
       " 'cherishes': 0.01,\n",
       " 'led': 0.0,\n",
       " 'whip': 0.0,\n",
       " 'lovest': 0.0,\n",
       " 'hills': 0.01,\n",
       " 'reaches': 0.0,\n",
       " 'tzuchien': 0.03,\n",
       " 'chooses': 0.0,\n",
       " 'condemns': 0.0,\n",
       " 'six': 0.02,\n",
       " 'excuse': 0.0,\n",
       " 'stakes': 0.01,\n",
       " 'tinkling': 0.0,\n",
       " 'xix': 0.0,\n",
       " 'lifetime': 0.0,\n",
       " 'linen': 0.01,\n",
       " 'sets': 0.0,\n",
       " 'change': 0.03,\n",
       " 'oppressed': 0.0,\n",
       " 'saw': 0.05,\n",
       " 'muttering': 0.0,\n",
       " 'past': 0.03,\n",
       " 'violet': 0.0,\n",
       " 'lordly': 0.0,\n",
       " 'ruling': 0.0,\n",
       " 'arms': 0.04,\n",
       " 'sad': 0.01,\n",
       " 'mirth': 0.0,\n",
       " 'nature': 0.01,\n",
       " 'fifth': 0.0,\n",
       " 'wrong': 0.04,\n",
       " 'modest': 0.02,\n",
       " 'puffed': 0.0,\n",
       " 'target': 0.0,\n",
       " 'profit': 0.0,\n",
       " 'robes': 0.01,\n",
       " 'blame': 0.01,\n",
       " 'studies': 0.0,\n",
       " 'murmur': 0.0,\n",
       " 'narrowly': 0.0,\n",
       " 'becomes': 0.01,\n",
       " 'be': 0.97,\n",
       " 'ears': 0.02,\n",
       " 'shapes': 0.0,\n",
       " 'case': 0.01,\n",
       " 'borders': 0.01,\n",
       " 'evil': 0.06,\n",
       " 'enlightens': 0.0,\n",
       " 'rejoice': 0.0,\n",
       " 'wei': 0.07,\n",
       " 'followers': 0.02,\n",
       " 'foreign': 0.0,\n",
       " 'head': 0.04,\n",
       " 'kungchos': 0.0,\n",
       " 'driven': 0.01,\n",
       " 'mount': 0.01,\n",
       " 'holding': 0.0,\n",
       " 'on': 0.38,\n",
       " 'lightly': 0.01,\n",
       " 'poetry': 0.04,\n",
       " 'shape': 0.0,\n",
       " 'yen': 0.14,\n",
       " 'headdress': 0.0,\n",
       " 'criminal': 0.01,\n",
       " 'officers': 0.02,\n",
       " 'shameful': 0.01,\n",
       " 'went': 0.09,\n",
       " 'treated': 0.0,\n",
       " 'shallows': 0.0,\n",
       " 'steals': 0.0,\n",
       " 'uprightness': 0.01,\n",
       " 'trip': 0.0,\n",
       " 'great': 0.17,\n",
       " 'attempts': 0.0,\n",
       " 'plants': 0.01,\n",
       " 'pointed': 0.0,\n",
       " 'pota': 0.0,\n",
       " 'flattening': 0.0,\n",
       " 'always': 0.07,\n",
       " 'slave': 0.0,\n",
       " 'accepted': 0.01,\n",
       " 'glance': 0.01,\n",
       " 'struggling': 0.0,\n",
       " 'polish': 0.0,\n",
       " 'amount': 0.01,\n",
       " 'dwelt': 0.0,\n",
       " 'fujao': 0.0,\n",
       " 'corner': 0.0,\n",
       " 'pleasure': 0.01,\n",
       " 'mourner': 0.01,\n",
       " 'talking': 0.0,\n",
       " 'guest': 0.01,\n",
       " 'crime': 0.02,\n",
       " 'eager': 0.0,\n",
       " 'gentleman': 0.39,\n",
       " 'shore': 0.0,\n",
       " 'xiii': 0.0,\n",
       " 'hua': 0.03,\n",
       " 'were': 0.3,\n",
       " 'tangs': 0.0,\n",
       " 'gathered': 0.0,\n",
       " 'flaw': 0.01,\n",
       " 'older': 0.0,\n",
       " 'like': 0.13,\n",
       " 'button': 0.0,\n",
       " 'talk': 0.06,\n",
       " 'carriages': 0.0,\n",
       " '_chestnut_': 0.0,\n",
       " 'straitened': 0.0,\n",
       " 'cupstand': 0.0,\n",
       " 'shen': 0.02,\n",
       " 'books': 0.01,\n",
       " 'punitive': 0.01,\n",
       " 'brindled': 0.0,\n",
       " 'confound': 0.0,\n",
       " 'smooth': 0.02,\n",
       " 'warmth': 0.0,\n",
       " 'laughter': 0.0,\n",
       " 'ritual': 0.01,\n",
       " 'crown': 0.02,\n",
       " 'proclaim': 0.0,\n",
       " 'falling': 0.01,\n",
       " 'cold': 0.0,\n",
       " 'hide': 0.04,\n",
       " 'chilu': 0.02,\n",
       " 'taletelling': 0.0,\n",
       " 'leaving': 0.0,\n",
       " 'chia': 0.02,\n",
       " 'gown': 0.02,\n",
       " 'therein': 0.0,\n",
       " 'osprey_': 0.0,\n",
       " 'yes': 0.03,\n",
       " 'foxskin': 0.0,\n",
       " 'hsiang': 0.0,\n",
       " 'stern': 0.03,\n",
       " 'countryfolk': 0.0,\n",
       " 'sir': 0.11,\n",
       " 'guards': 0.0,\n",
       " 'learn': 0.1,\n",
       " 'jung': 0.01,\n",
       " 'hearthgod': 0.01,\n",
       " 'palace': 0.02,\n",
       " 'driving': 0.02,\n",
       " 'ease': 0.02,\n",
       " 'roving': 0.0,\n",
       " 'feet': 0.01,\n",
       " 'cypress': 0.01,\n",
       " 'aside': 0.01,\n",
       " 'confounders': 0.0,\n",
       " 'earth': 0.03,\n",
       " 'making': 0.02,\n",
       " 'force': 0.0,\n",
       " 'against': 0.04,\n",
       " 'shot': 0.01,\n",
       " 'obedient': 0.0,\n",
       " 'vexes': 0.01,\n",
       " 'terms': 0.0,\n",
       " 'burnt': 0.0,\n",
       " 'mistakes': 0.0,\n",
       " 'commands': 0.02,\n",
       " 'quarrel': 0.0,\n",
       " 'pokuo': 0.0,\n",
       " 'disorder': 0.0,\n",
       " 'whereas': 0.0,\n",
       " 'pheasant': 0.0,\n",
       " 'door': 0.03,\n",
       " 'orphan': 0.0,\n",
       " 'gatekeeper': 0.01,\n",
       " 'singing': 0.0,\n",
       " 'remembers': 0.0,\n",
       " 'bashful': 0.0,\n",
       " 'outspoken': 0.0,\n",
       " 'robe': 0.01,\n",
       " 'mound': 0.0,\n",
       " 'faith': 0.01,\n",
       " 'wagging': 0.0,\n",
       " 'stress': 0.0,\n",
       " 'ning': 0.01,\n",
       " 'teams': 0.01,\n",
       " 'girdle': 0.01,\n",
       " 'straightened': 0.0,\n",
       " 'far': 0.06,\n",
       " 'half': 0.01,\n",
       " 'unskilled': 0.0,\n",
       " 'drawn': 0.0,\n",
       " 'finding': 0.0,\n",
       " 'match': 0.01,\n",
       " 'tribal': 0.0,\n",
       " 'hasting': 0.0,\n",
       " 'lust': 0.0,\n",
       " 'poyã¼': 0.02,\n",
       " 'kindness': 0.02,\n",
       " 'pleases': 0.0,\n",
       " 'crossbar': 0.0,\n",
       " 'chi': 0.26,\n",
       " 'does': 0.21,\n",
       " 'disciples': 0.06,\n",
       " 'myself': 0.01,\n",
       " 'shaolien': 0.01,\n",
       " 'guiding': 0.0,\n",
       " 'basketbearer': 0.0,\n",
       " 'matter': 0.01,\n",
       " 'lucky': 0.01,\n",
       " 'fifteen': 0.0,\n",
       " 'wellcleaned': 0.0,\n",
       " 'lifted': 0.02,\n",
       " 'touch': 0.0,\n",
       " 'restored': 0.0,\n",
       " 'dare': 0.06,\n",
       " 'whipped': 0.0,\n",
       " 'mind': 0.11,\n",
       " 'sow': 0.0,\n",
       " 'chis': 0.0,\n",
       " 'died': 0.07,\n",
       " 'leech': 0.0,\n",
       " 'admit': 0.0,\n",
       " 'probably': 0.01,\n",
       " 'along': 0.0,\n",
       " 'ducal': 0.01,\n",
       " 'savage': 0.0,\n",
       " 'leap': 0.0,\n",
       " 'several': 0.0,\n",
       " 'changes': 0.01,\n",
       " 'kang': 0.05,\n",
       " 'lambskin': 0.0,\n",
       " 'reaching': 0.0,\n",
       " 'never': 0.13,\n",
       " 'bed': 0.0,\n",
       " 'use': 0.02,\n",
       " 'daily': 0.0,\n",
       " 'hidden': 0.01,\n",
       " 'prerogative': 0.01,\n",
       " 'waste': 0.02,\n",
       " 'smiles': 0.0,\n",
       " 'lasts': 0.0,\n",
       " 'covetous': 0.0,\n",
       " 'am': 0.11,\n",
       " 'daybreak': 0.0,\n",
       " 'dimples': 0.0,\n",
       " 'burden': 0.02,\n",
       " 'spiteful': 0.0,\n",
       " 'beyond': 0.01,\n",
       " 'upon': 0.04,\n",
       " 'plenty': 0.01,\n",
       " 'daytime': 0.0,\n",
       " 'breed': 0.01,\n",
       " 'listless': 0.0,\n",
       " 'prayer': 0.01,\n",
       " 'serve': 0.07,\n",
       " 'spent': 0.01,\n",
       " 'and': 2.59,\n",
       " 'hence': 0.01,\n",
       " 'helpless': 0.01,\n",
       " 'but': 0.74,\n",
       " 'shusun': 0.01,\n",
       " 'weisheng': 0.01,\n",
       " 'pay': 0.03,\n",
       " 'dog': 0.0,\n",
       " 'keep': 0.06,\n",
       " 'humble': 0.02,\n",
       " 'missed': 0.0,\n",
       " 'travel': 0.0,\n",
       " 'mencius': 0.02,\n",
       " 'enemy': 0.0,\n",
       " 'kuan': 0.07,\n",
       " '_seigneurs': 0.0,\n",
       " 'post': 0.01,\n",
       " 'poetry_': 0.0,\n",
       " 'bids': 0.0,\n",
       " 'shame': 0.04,\n",
       " 'sense': 0.01,\n",
       " 'squatting': 0.0,\n",
       " 'presented': 0.0,\n",
       " 'wucheng': 0.01,\n",
       " 'between': 0.01,\n",
       " 'prompted': 0.0,\n",
       " 'hsin': 0.02,\n",
       " 'weary': 0.0,\n",
       " 'opened': 0.0,\n",
       " 'once': 0.02,\n",
       " 'afar': 0.01,\n",
       " 'trees': 0.02,\n",
       " 'its': 0.05,\n",
       " 'gates': 0.0,\n",
       " 'robbed': 0.01,\n",
       " 'longer': 0.01,\n",
       " 'mou': 0.0,\n",
       " 'no': 0.61,\n",
       " 'warfare': 0.0,\n",
       " 'fifty': 0.02,\n",
       " 'over': 0.08,\n",
       " 'bordering': 0.0,\n",
       " 'which': 0.1,\n",
       " 'bent': 0.03,\n",
       " 'wisest': 0.0,\n",
       " 'north': 0.01,\n",
       " 'made': 0.09,\n",
       " 'unheeded': 0.0,\n",
       " 'elders': 0.01,\n",
       " 'passes': 0.0,\n",
       " 'obscurity': 0.0,\n",
       " 'piety': 0.0,\n",
       " 'townsman': 0.0,\n",
       " 'witness': 0.0,\n",
       " 'pity': 0.01,\n",
       " 'tap': 0.0,\n",
       " 'blessings': 0.0,\n",
       " 'heights': 0.01,\n",
       " 'chai': 0.01,\n",
       " 'care': 0.02,\n",
       " 'fed': 0.0,\n",
       " 'tzuyã¼': 0.0,\n",
       " 'ao': 0.0,\n",
       " 'sitting': 0.02,\n",
       " 'net': 0.0,\n",
       " 'steadfast': 0.01,\n",
       " 'steal': 0.01,\n",
       " 'farfetched': 0.0,\n",
       " 'banished': 0.0,\n",
       " 'this': 0.33,\n",
       " 'heads': 0.0,\n",
       " 'any': 0.03,\n",
       " 'widens': 0.0,\n",
       " 'violence': 0.0,\n",
       " 'quickened': 0.0,\n",
       " 'better': 0.12,\n",
       " 'alley': 0.0,\n",
       " 'ridge': 0.0,\n",
       " 'front': 0.01,\n",
       " 'earnestness': 0.01,\n",
       " 'wandered': 0.0,\n",
       " 'child': 0.01,\n",
       " 'into': 0.15,\n",
       " 'excess': 0.0,\n",
       " 'owing': 0.0,\n",
       " 'thousand': 0.03,\n",
       " 'mission': 0.01,\n",
       " 'vessel': 0.02,\n",
       " 'barefisted': 0.0,\n",
       " 'thank': 0.0,\n",
       " 'chariot': 0.0,\n",
       " 'xii': 0.0,\n",
       " 'feeling': 0.0,\n",
       " 'chisui': 0.0,\n",
       " 'try': 0.0,\n",
       " 'hold': 0.04,\n",
       " 'offend': 0.0,\n",
       " 'still': 0.07,\n",
       " 'ling': 0.02,\n",
       " 'hail': 0.0,\n",
       " 'iii': 0.02,\n",
       " 'mark': 0.01,\n",
       " 'humility': 0.01,\n",
       " 'fared': 0.0,\n",
       " 'together': 0.04,\n",
       " 'cherish': 0.0,\n",
       " 'forsake': 0.03,\n",
       " 'shop': 0.0,\n",
       " 'wrote': 0.0,\n",
       " 'tremble': 0.0,\n",
       " 'silk': 0.01,\n",
       " 'dukes': 0.02,\n",
       " 'kaoyao': 0.0,\n",
       " 'bidding': 0.05,\n",
       " 'famous': 0.02,\n",
       " 'bestowed': 0.0,\n",
       " 'upright': 0.01,\n",
       " 'gathers': 0.0,\n",
       " 'changchã¼': 0.01,\n",
       " 'hate': 0.07,\n",
       " 'plot': 0.0,\n",
       " 'beside': 0.02,\n",
       " 'courtyard': 0.01,\n",
       " 'streams': 0.0,\n",
       " 'sides': 0.01,\n",
       " 'taipo': 0.01,\n",
       " 'tribes': 0.02,\n",
       " 'dislikes': 0.0,\n",
       " 'clansmen': 0.0,\n",
       " 'sand': 0.0,\n",
       " 'bend': 0.02,\n",
       " 'gate': 0.03,\n",
       " 'thinking': 0.01,\n",
       " 'sway': 0.01,\n",
       " 'outweighing': 0.01,\n",
       " 'bold': 0.01,\n",
       " 'miehming': 0.0,\n",
       " 'chung': 0.07,\n",
       " 'untaught': 0.01,\n",
       " 'last': 0.04,\n",
       " 'nearer': 0.0,\n",
       " 'awed': 0.0,\n",
       " 'staff': 0.02,\n",
       " 'overpraise': 0.01,\n",
       " 'carter': 0.0,\n",
       " 'rites': 0.0,\n",
       " 'propriety': 0.0,\n",
       " 'round': 0.02,\n",
       " 'wuma': 0.01,\n",
       " 'loves': 0.06,\n",
       " 'ditch': 0.01,\n",
       " 'millet': 0.0,\n",
       " 'stones': 0.01,\n",
       " 'peng': 0.01,\n",
       " 'reeds': 0.0,\n",
       " 'has': 0.25,\n",
       " 'lost': 0.06,\n",
       " 'ill': 0.03,\n",
       " 'at': 0.35,\n",
       " 'court': 0.07,\n",
       " 'distinction': 0.0,\n",
       " 'right': 0.12,\n",
       " 'kunghei': 0.0,\n",
       " 'mended': 0.01,\n",
       " 'beforehand': 0.0,\n",
       " 'clutched': 0.0,\n",
       " 'time': 0.06,\n",
       " 'seventh': 0.0,\n",
       " 'chidden': 0.0,\n",
       " 'younger': 0.01,\n",
       " 'wake': 0.02,\n",
       " 'fu': 0.0,\n",
       " 'worshipped': 0.01,\n",
       " 'rudeness': 0.01,\n",
       " 'girl': 0.01,\n",
       " 'cunning': 0.01,\n",
       " 'village': 0.02,\n",
       " 'deeper': 0.0,\n",
       " 'tantai': 0.0,\n",
       " 'looked': 0.04,\n",
       " 'fierce': 0.02,\n",
       " 'beaten': 0.0,\n",
       " 'ditches': 0.0,\n",
       " 'lords': 0.02,\n",
       " 'sucking': 0.0,\n",
       " 'tai': 0.01,\n",
       " 'do': 0.59,\n",
       " 'seated': 0.0,\n",
       " 'breath': 0.0,\n",
       " 'knew': 0.05,\n",
       " 'wade': 0.0,\n",
       " 'passage': 0.0,\n",
       " 'strains': 0.01,\n",
       " 'speaking': 0.04,\n",
       " 'partisan': 0.0,\n",
       " 'written': 0.0,\n",
       " 'tainted': 0.0,\n",
       " 'boast': 0.0,\n",
       " 'stingy': 0.0,\n",
       " 'testing': 0.0,\n",
       " 'ranks': 0.0,\n",
       " 'weeded': 0.0,\n",
       " 'ruled': 0.01,\n",
       " 'servant': 0.01,\n",
       " 'herb': 0.0,\n",
       " 'chariots': 0.02,\n",
       " 'ways': 0.03,\n",
       " 'rewarding': 0.0,\n",
       " 'as': 0.39,\n",
       " 'pious': 0.01,\n",
       " 'righted': 0.0,\n",
       " 'wretch': 0.0,\n",
       " 'goat': 0.0,\n",
       " 'ghosts': 0.02,\n",
       " 'seventy': 0.01,\n",
       " 'that': 1.0,\n",
       " 'furthers': 0.0,\n",
       " 'coats': 0.0,\n",
       " 'heaps': 0.0,\n",
       " 'troubled': 0.01,\n",
       " 'silence': 0.0,\n",
       " 'centre': 0.01,\n",
       " 'stables': 0.0,\n",
       " 'heir': 0.01,\n",
       " 'tonguecraft': 0.0,\n",
       " ...}"
      ]
     },
     "execution_count": 48,
     "metadata": {},
     "output_type": "execute_result"
    }
   ],
   "source": [
    "frequences_des_mots_100 = {}\n",
    "for i in set(Text_nettoyage_2):\n",
    "    frequences_des_mots_100[i] = round(Text_nettoyage_2.count(i)/len(Text_nettoyage_2)*100,2)\n",
    "frequences_des_mots_100"
   ]
  },
  {
   "cell_type": "code",
   "execution_count": null,
   "metadata": {},
   "outputs": [
    {
     "name": "stdout",
     "output_type": "stream",
     "text": [
      "Requirement already satisfied: altair in /home/matriceecole/anaconda3/lib/python3.10/site-packages (5.0.1)\n",
      "Requirement already satisfied: typing-extensions>=4.0.1 in /home/matriceecole/anaconda3/lib/python3.10/site-packages (from altair) (4.4.0)\n",
      "Requirement already satisfied: jsonschema>=3.0 in /home/matriceecole/anaconda3/lib/python3.10/site-packages (from altair) (4.17.3)\n",
      "Requirement already satisfied: jinja2 in /home/matriceecole/anaconda3/lib/python3.10/site-packages (from altair) (3.1.2)\n",
      "Requirement already satisfied: numpy in /home/matriceecole/anaconda3/lib/python3.10/site-packages (from altair) (1.23.5)\n",
      "Requirement already satisfied: toolz in /home/matriceecole/anaconda3/lib/python3.10/site-packages (from altair) (0.12.0)\n",
      "Requirement already satisfied: pandas>=0.18 in /home/matriceecole/anaconda3/lib/python3.10/site-packages (from altair) (1.5.3)\n",
      "Requirement already satisfied: attrs>=17.4.0 in /home/matriceecole/anaconda3/lib/python3.10/site-packages (from jsonschema>=3.0->altair) (22.1.0)\n",
      "Requirement already satisfied: pyrsistent!=0.17.0,!=0.17.1,!=0.17.2,>=0.14.0 in /home/matriceecole/anaconda3/lib/python3.10/site-packages (from jsonschema>=3.0->altair) (0.18.0)\n",
      "Requirement already satisfied: python-dateutil>=2.8.1 in /home/matriceecole/anaconda3/lib/python3.10/site-packages (from pandas>=0.18->altair) (2.8.2)\n",
      "Requirement already satisfied: pytz>=2020.1 in /home/matriceecole/anaconda3/lib/python3.10/site-packages (from pandas>=0.18->altair) (2022.7)\n",
      "Requirement already satisfied: MarkupSafe>=2.0 in /home/matriceecole/anaconda3/lib/python3.10/site-packages (from jinja2->altair) (2.1.1)\n",
      "Requirement already satisfied: six>=1.5 in /home/matriceecole/anaconda3/lib/python3.10/site-packages (from python-dateutil>=2.8.1->pandas>=0.18->altair) (1.12.0)\n",
      "Note: you may need to restart the kernel to use updated packages.\n"
     ]
    }
   ],
   "source": [
    "pip install altair\n"
   ]
  },
  {
   "cell_type": "code",
   "execution_count": 24,
   "metadata": {},
   "outputs": [
    {
     "ename": "ValueError",
     "evalue": "'show' method requires the altair_viewer package. See http://github.com/altair-viz/altair_viewer",
     "output_type": "error",
     "traceback": [
      "\u001b[0;31m---------------------------------------------------------------------------\u001b[0m",
      "\u001b[0;31mModuleNotFoundError\u001b[0m                       Traceback (most recent call last)",
      "File \u001b[0;32m~/anaconda3/lib/python3.10/site-packages/altair/vegalite/v5/api.py:2274\u001b[0m, in \u001b[0;36mTopLevelMixin.show\u001b[0;34m(self, embed_opt, open_browser)\u001b[0m\n\u001b[1;32m   2273\u001b[0m \u001b[39mtry\u001b[39;00m:\n\u001b[0;32m-> 2274\u001b[0m     \u001b[39mimport\u001b[39;00m \u001b[39maltair_viewer\u001b[39;00m  \u001b[39m# type: ignore\u001b[39;00m\n\u001b[1;32m   2275\u001b[0m \u001b[39mexcept\u001b[39;00m \u001b[39mImportError\u001b[39;00m \u001b[39mas\u001b[39;00m err:\n",
      "\u001b[0;31mModuleNotFoundError\u001b[0m: No module named 'altair_viewer'",
      "\nThe above exception was the direct cause of the following exception:\n",
      "\u001b[0;31mValueError\u001b[0m                                Traceback (most recent call last)",
      "Cell \u001b[0;32mIn[24], line 29\u001b[0m\n\u001b[1;32m      5\u001b[0m base \u001b[39m=\u001b[39m alt\u001b[39m.\u001b[39mChart(frequences_des_mots)\u001b[39m.\u001b[39mmark_point()\u001b[39m.\u001b[39mencode(\n\u001b[1;32m      6\u001b[0m \n\u001b[1;32m      7\u001b[0m \tx\u001b[39m=\u001b[39m\u001b[39m'\u001b[39m\u001b[39mHorsepower:Q\u001b[39m\u001b[39m'\u001b[39m,\n\u001b[0;32m   (...)\u001b[0m\n\u001b[1;32m     16\u001b[0m \n\u001b[1;32m     17\u001b[0m )\n\u001b[1;32m     19\u001b[0m chart \u001b[39m=\u001b[39m alt\u001b[39m.\u001b[39mhconcat(\n\u001b[1;32m     20\u001b[0m \n\u001b[1;32m     21\u001b[0m    base\u001b[39m.\u001b[39mencode(color\u001b[39m=\u001b[39malt\u001b[39m.\u001b[39mColor(\u001b[39m'\u001b[39m\u001b[39mCylinders:Q\u001b[39m\u001b[39m'\u001b[39m, scale\u001b[39m=\u001b[39malt\u001b[39m.\u001b[39mScale(scheme\u001b[39m=\u001b[39m\u001b[39m'\u001b[39m\u001b[39mreds\u001b[39m\u001b[39m'\u001b[39m)))\u001b[39m.\u001b[39mproperties(title\u001b[39m=\u001b[39m\u001b[39m'\u001b[39m\u001b[39mquantitative\u001b[39m\u001b[39m'\u001b[39m),\n\u001b[0;32m   (...)\u001b[0m\n\u001b[1;32m     26\u001b[0m \n\u001b[1;32m     27\u001b[0m )\n\u001b[0;32m---> 29\u001b[0m chart\u001b[39m.\u001b[39;49mshow()\n",
      "File \u001b[0;32m~/anaconda3/lib/python3.10/site-packages/altair/vegalite/v5/api.py:2276\u001b[0m, in \u001b[0;36mTopLevelMixin.show\u001b[0;34m(self, embed_opt, open_browser)\u001b[0m\n\u001b[1;32m   2274\u001b[0m     \u001b[39mimport\u001b[39;00m \u001b[39maltair_viewer\u001b[39;00m  \u001b[39m# type: ignore\u001b[39;00m\n\u001b[1;32m   2275\u001b[0m \u001b[39mexcept\u001b[39;00m \u001b[39mImportError\u001b[39;00m \u001b[39mas\u001b[39;00m err:\n\u001b[0;32m-> 2276\u001b[0m     \u001b[39mraise\u001b[39;00m \u001b[39mValueError\u001b[39;00m(\n\u001b[1;32m   2277\u001b[0m         \u001b[39m\"\u001b[39m\u001b[39m'\u001b[39m\u001b[39mshow\u001b[39m\u001b[39m'\u001b[39m\u001b[39m method requires the altair_viewer package. \u001b[39m\u001b[39m\"\u001b[39m\n\u001b[1;32m   2278\u001b[0m         \u001b[39m\"\u001b[39m\u001b[39mSee http://github.com/altair-viz/altair_viewer\u001b[39m\u001b[39m\"\u001b[39m\n\u001b[1;32m   2279\u001b[0m     ) \u001b[39mfrom\u001b[39;00m \u001b[39merr\u001b[39;00m\n\u001b[1;32m   2280\u001b[0m altair_viewer\u001b[39m.\u001b[39mshow(\u001b[39mself\u001b[39m, embed_opt\u001b[39m=\u001b[39membed_opt, open_browser\u001b[39m=\u001b[39mopen_browser)\n",
      "\u001b[0;31mValueError\u001b[0m: 'show' method requires the altair_viewer package. See http://github.com/altair-viz/altair_viewer"
     ]
    }
   ],
   "source": [
    "import altair as alt\n",
    "\n",
    "# cars = frequences_des_mots.cars()\n",
    "\n",
    "base = alt.Chart(frequences_des_mots).mark_point().encode(\n",
    "\n",
    "\tx='Horsepower:Q',\n",
    "\n",
    "\ty='Miles_per_Gallon:Q',\n",
    "\n",
    ").properties(\n",
    "\n",
    "\twidth=150,\n",
    "\n",
    "\theight=150\n",
    "\n",
    ")\n",
    "\n",
    "chart = alt.hconcat(\n",
    "\n",
    "   base.encode(color=alt.Color('Cylinders:Q', scale=alt.Scale(scheme='reds'))).properties(title='quantitative'),\n",
    "\n",
    "   base.encode(color=alt.Color('Cylinders:O', scale=alt.Scale(scheme='reds'))).properties(title='ordinal'),\n",
    "\n",
    "   base.encode(color='Cylinders:N').properties(title='nominal')\n",
    "\n",
    ")\n",
    "\n",
    "chart.show()\n"
   ]
  },
  {
   "cell_type": "code",
   "execution_count": null,
   "metadata": {},
   "outputs": [
    {
     "name": "stderr",
     "output_type": "stream",
     "text": [
      "[nltk_data] Downloading package stopwords to\n",
      "[nltk_data]     /home/matriceecole/nltk_data...\n",
      "[nltk_data]   Package stopwords is already up-to-date!\n"
     ]
    },
    {
     "ename": "AttributeError",
     "evalue": "'list' object has no attribute 'items'",
     "output_type": "error",
     "traceback": [
      "\u001b[0;31m---------------------------------------------------------------------------\u001b[0m",
      "\u001b[0;31mAttributeError\u001b[0m                            Traceback (most recent call last)",
      "Cell \u001b[0;32mIn[46], line 51\u001b[0m\n\u001b[1;32m     48\u001b[0m \u001b[39mdef\u001b[39;00m \u001b[39mtop\u001b[39m(dictionnaire, n):\n\u001b[1;32m     49\u001b[0m     \u001b[39mreturn\u001b[39;00m \u001b[39mdict\u001b[39m(\u001b[39msorted\u001b[39m(dictionnaire\u001b[39m.\u001b[39mitems(),reverse\u001b[39m=\u001b[39m\u001b[39mTrue\u001b[39;00m, key\u001b[39m=\u001b[39m\u001b[39mlambda\u001b[39;00m item: item[\u001b[39m1\u001b[39m])[:n])\n\u001b[0;32m---> 51\u001b[0m top5_IG \u001b[39m=\u001b[39m top(frequences_des_mots_ordonnés_IG, \u001b[39m5\u001b[39;49m)\n\u001b[1;32m     52\u001b[0m \u001b[39m# top5 = frequences_des_mots_ordonnés[0:4]\u001b[39;00m\n\u001b[1;32m     53\u001b[0m top10_IG \u001b[39m=\u001b[39m top(frequences_des_mots_ordonnés_IG, \u001b[39m10\u001b[39m)\n",
      "Cell \u001b[0;32mIn[46], line 49\u001b[0m, in \u001b[0;36mtop\u001b[0;34m(dictionnaire, n)\u001b[0m\n\u001b[1;32m     48\u001b[0m \u001b[39mdef\u001b[39;00m \u001b[39mtop\u001b[39m(dictionnaire, n):\n\u001b[0;32m---> 49\u001b[0m     \u001b[39mreturn\u001b[39;00m \u001b[39mdict\u001b[39m(\u001b[39msorted\u001b[39m(dictionnaire\u001b[39m.\u001b[39;49mitems(),reverse\u001b[39m=\u001b[39m\u001b[39mTrue\u001b[39;00m, key\u001b[39m=\u001b[39m\u001b[39mlambda\u001b[39;00m item: item[\u001b[39m1\u001b[39m])[:n])\n",
      "\u001b[0;31mAttributeError\u001b[0m: 'list' object has no attribute 'items'"
     ]
    }
   ],
   "source": [
    "with open(\"10_texte_instagram.txt\",'r') as tIG:\n",
    "    TextIG = tIG.read()\n",
    "\n",
    "TextIG = (TextIG).replace('\\n',\" \")\n",
    "\n",
    "import re\n",
    "import string\n",
    "Text_nettoyage_IG0 = re.sub(r'[^\\w\\s]', '',(TextIG))\n",
    "Text_nettoyage_IG0\n",
    "\n",
    "Text_nettoyage_IG1 = ''.join([i for i in Text_nettoyage_IG0 if not i.isdigit()]).split()\n",
    "\n",
    "Text_nettoyage_IG2 = [i.lower() for i in Text_nettoyage_IG1]\n",
    "Text_nettoyage_IG2\n",
    "\n",
    "\n",
    "frequences_des_mots_IG = {}\n",
    "for mot_IG in Text_nettoyage_IG2:\n",
    "    frequences_des_mots_IG[mot_IG] = frequences_des_mots_IG.get(mot_IG,0) + 1\n",
    "\n",
    "\n",
    "import nltk\n",
    "nltk.download('stopwords') \n",
    "from nltk.corpus import stopwords\n",
    "\n",
    "mot_vide = stopwords.words('english')\n",
    "autres_mot_vide = ['long','rabits','slowly','matter','second','small','great','two','i', 'we', 'he', 'him', 'master','said','footnote','men','man','asked','confucius', 'tzulu','tzukung','yu','ye','book','tzuyu','â','yã¼','tzuhsia','tzuchang','tzuyu','tzu','tzukung','disciple','answered','one','three','thou','go','yã¼an','thy','see','way','words','without','yen','things','come','know','say','take','called','never','chou','like','shall','jan']\n",
    "mot_vide.extend(autres_mot_vide)\n",
    "\n",
    "for words in mot_vide:\n",
    "    if frequences_des_mots_IG.get(words):\n",
    "        frequences_des_mots_IG.pop(words)\n",
    "\n",
    "\n",
    "import matplotlib.pyplot as plt\n",
    "\n",
    "frequences_des_mots_ranger_en_tuples_IG = frequences_des_mots_IG.items()\n",
    "# on ordonne les mots et leur fréquences, l'orde se fait en fonction des fréquences, comme dans les tuples la fréquence\n",
    "# est en 1, on fait lambda imet : item[1]\n",
    "frequences_des_mots_ordonnés_IG = sorted(frequences_des_mots_ranger_en_tuples_IG, reverse = True, key = lambda item : item[1])\n",
    "frequences_des_mots_ordonnés_IG\n",
    "Les_dix_mots_les_plus_fréquents_IG = frequences_des_mots_ordonnés_IG[0:9]\n",
    "Les_dix_mots_les_plus_fréquents_IG\n",
    "Les_dix_mots_les_plus_fréquents_IG = dict(Les_dix_mots_les_plus_fréquents_IG)\n",
    "Les_dix_mots_les_plus_fréquents_IG\n",
    "\n",
    "\n",
    "def top(dictionnaire, n):\n",
    "    return dict(sorted(dictionnaire.items(),reverse=True, key=lambda item: item[1])[:n])\n",
    "\n",
    "top5_IG = top(frequences_des_mots_ordonnés_IG, 5)\n",
    "# top5 = frequences_des_mots_ordonnés[0:4]\n",
    "top10_IG = top(frequences_des_mots_ordonnés_IG, 10)\n",
    "top15_IG = top(frequences_des_mots_ordonnés_IG, 15)\n",
    "top20_IG = top(frequences_des_mots_ordonnés_IG, 20)\n",
    "frequences_des_mots_ordonnés_IG\n",
    "\n",
    "Text_nettoyage_IG2\n"
   ]
  },
  {
   "cell_type": "code",
   "execution_count": null,
   "metadata": {},
   "outputs": [
    {
     "data": {
      "application/vnd.plotly.v1+json": {
       "config": {
        "plotlyServerURL": "https://plot.ly"
       },
       "data": [
        {
         "alignmentgroup": "True",
         "hovertemplate": "x=%{x}<br>y=%{y}<extra></extra>",
         "legendgroup": "",
         "marker": {
          "color": "#d4d6d2",
          "pattern": {
           "shape": ""
          }
         },
         "name": "",
         "offsetgroup": "",
         "orientation": "h",
         "showlegend": false,
         "textposition": "auto",
         "type": "bar",
         "x": [
          4,
          2,
          2,
          2,
          2,
          2,
          2,
          1,
          1,
          1,
          1,
          1,
          1,
          1,
          1,
          1,
          1,
          1,
          1,
          1
         ],
         "xaxis": "x",
         "y": [
          "thinks",
          "hasnt",
          "fool",
          "evil",
          "others",
          "hard",
          "superior",
          "lives",
          "begins",
          "relise",
          "stop",
          "chases",
          "rabbits",
          "catches",
          "neither",
          "failed",
          "failure",
          "stopped",
          "asks",
          "question"
         ],
         "yaxis": "y"
        }
       ],
       "layout": {
        "barmode": "relative",
        "height": 600,
        "legend": {
         "tracegroupgap": 0
        },
        "margin": {
         "t": 60
        },
        "template": {
         "data": {
          "bar": [
           {
            "error_x": {
             "color": "#2a3f5f"
            },
            "error_y": {
             "color": "#2a3f5f"
            },
            "marker": {
             "line": {
              "color": "#E5ECF6",
              "width": 0.5
             },
             "pattern": {
              "fillmode": "overlay",
              "size": 10,
              "solidity": 0.2
             }
            },
            "type": "bar"
           }
          ],
          "barpolar": [
           {
            "marker": {
             "line": {
              "color": "#E5ECF6",
              "width": 0.5
             },
             "pattern": {
              "fillmode": "overlay",
              "size": 10,
              "solidity": 0.2
             }
            },
            "type": "barpolar"
           }
          ],
          "carpet": [
           {
            "aaxis": {
             "endlinecolor": "#2a3f5f",
             "gridcolor": "white",
             "linecolor": "white",
             "minorgridcolor": "white",
             "startlinecolor": "#2a3f5f"
            },
            "baxis": {
             "endlinecolor": "#2a3f5f",
             "gridcolor": "white",
             "linecolor": "white",
             "minorgridcolor": "white",
             "startlinecolor": "#2a3f5f"
            },
            "type": "carpet"
           }
          ],
          "choropleth": [
           {
            "colorbar": {
             "outlinewidth": 0,
             "ticks": ""
            },
            "type": "choropleth"
           }
          ],
          "contour": [
           {
            "colorbar": {
             "outlinewidth": 0,
             "ticks": ""
            },
            "colorscale": [
             [
              0,
              "#0d0887"
             ],
             [
              0.1111111111111111,
              "#46039f"
             ],
             [
              0.2222222222222222,
              "#7201a8"
             ],
             [
              0.3333333333333333,
              "#9c179e"
             ],
             [
              0.4444444444444444,
              "#bd3786"
             ],
             [
              0.5555555555555556,
              "#d8576b"
             ],
             [
              0.6666666666666666,
              "#ed7953"
             ],
             [
              0.7777777777777778,
              "#fb9f3a"
             ],
             [
              0.8888888888888888,
              "#fdca26"
             ],
             [
              1,
              "#f0f921"
             ]
            ],
            "type": "contour"
           }
          ],
          "contourcarpet": [
           {
            "colorbar": {
             "outlinewidth": 0,
             "ticks": ""
            },
            "type": "contourcarpet"
           }
          ],
          "heatmap": [
           {
            "colorbar": {
             "outlinewidth": 0,
             "ticks": ""
            },
            "colorscale": [
             [
              0,
              "#0d0887"
             ],
             [
              0.1111111111111111,
              "#46039f"
             ],
             [
              0.2222222222222222,
              "#7201a8"
             ],
             [
              0.3333333333333333,
              "#9c179e"
             ],
             [
              0.4444444444444444,
              "#bd3786"
             ],
             [
              0.5555555555555556,
              "#d8576b"
             ],
             [
              0.6666666666666666,
              "#ed7953"
             ],
             [
              0.7777777777777778,
              "#fb9f3a"
             ],
             [
              0.8888888888888888,
              "#fdca26"
             ],
             [
              1,
              "#f0f921"
             ]
            ],
            "type": "heatmap"
           }
          ],
          "heatmapgl": [
           {
            "colorbar": {
             "outlinewidth": 0,
             "ticks": ""
            },
            "colorscale": [
             [
              0,
              "#0d0887"
             ],
             [
              0.1111111111111111,
              "#46039f"
             ],
             [
              0.2222222222222222,
              "#7201a8"
             ],
             [
              0.3333333333333333,
              "#9c179e"
             ],
             [
              0.4444444444444444,
              "#bd3786"
             ],
             [
              0.5555555555555556,
              "#d8576b"
             ],
             [
              0.6666666666666666,
              "#ed7953"
             ],
             [
              0.7777777777777778,
              "#fb9f3a"
             ],
             [
              0.8888888888888888,
              "#fdca26"
             ],
             [
              1,
              "#f0f921"
             ]
            ],
            "type": "heatmapgl"
           }
          ],
          "histogram": [
           {
            "marker": {
             "pattern": {
              "fillmode": "overlay",
              "size": 10,
              "solidity": 0.2
             }
            },
            "type": "histogram"
           }
          ],
          "histogram2d": [
           {
            "colorbar": {
             "outlinewidth": 0,
             "ticks": ""
            },
            "colorscale": [
             [
              0,
              "#0d0887"
             ],
             [
              0.1111111111111111,
              "#46039f"
             ],
             [
              0.2222222222222222,
              "#7201a8"
             ],
             [
              0.3333333333333333,
              "#9c179e"
             ],
             [
              0.4444444444444444,
              "#bd3786"
             ],
             [
              0.5555555555555556,
              "#d8576b"
             ],
             [
              0.6666666666666666,
              "#ed7953"
             ],
             [
              0.7777777777777778,
              "#fb9f3a"
             ],
             [
              0.8888888888888888,
              "#fdca26"
             ],
             [
              1,
              "#f0f921"
             ]
            ],
            "type": "histogram2d"
           }
          ],
          "histogram2dcontour": [
           {
            "colorbar": {
             "outlinewidth": 0,
             "ticks": ""
            },
            "colorscale": [
             [
              0,
              "#0d0887"
             ],
             [
              0.1111111111111111,
              "#46039f"
             ],
             [
              0.2222222222222222,
              "#7201a8"
             ],
             [
              0.3333333333333333,
              "#9c179e"
             ],
             [
              0.4444444444444444,
              "#bd3786"
             ],
             [
              0.5555555555555556,
              "#d8576b"
             ],
             [
              0.6666666666666666,
              "#ed7953"
             ],
             [
              0.7777777777777778,
              "#fb9f3a"
             ],
             [
              0.8888888888888888,
              "#fdca26"
             ],
             [
              1,
              "#f0f921"
             ]
            ],
            "type": "histogram2dcontour"
           }
          ],
          "mesh3d": [
           {
            "colorbar": {
             "outlinewidth": 0,
             "ticks": ""
            },
            "type": "mesh3d"
           }
          ],
          "parcoords": [
           {
            "line": {
             "colorbar": {
              "outlinewidth": 0,
              "ticks": ""
             }
            },
            "type": "parcoords"
           }
          ],
          "pie": [
           {
            "automargin": true,
            "type": "pie"
           }
          ],
          "scatter": [
           {
            "fillpattern": {
             "fillmode": "overlay",
             "size": 10,
             "solidity": 0.2
            },
            "type": "scatter"
           }
          ],
          "scatter3d": [
           {
            "line": {
             "colorbar": {
              "outlinewidth": 0,
              "ticks": ""
             }
            },
            "marker": {
             "colorbar": {
              "outlinewidth": 0,
              "ticks": ""
             }
            },
            "type": "scatter3d"
           }
          ],
          "scattercarpet": [
           {
            "marker": {
             "colorbar": {
              "outlinewidth": 0,
              "ticks": ""
             }
            },
            "type": "scattercarpet"
           }
          ],
          "scattergeo": [
           {
            "marker": {
             "colorbar": {
              "outlinewidth": 0,
              "ticks": ""
             }
            },
            "type": "scattergeo"
           }
          ],
          "scattergl": [
           {
            "marker": {
             "colorbar": {
              "outlinewidth": 0,
              "ticks": ""
             }
            },
            "type": "scattergl"
           }
          ],
          "scattermapbox": [
           {
            "marker": {
             "colorbar": {
              "outlinewidth": 0,
              "ticks": ""
             }
            },
            "type": "scattermapbox"
           }
          ],
          "scatterpolar": [
           {
            "marker": {
             "colorbar": {
              "outlinewidth": 0,
              "ticks": ""
             }
            },
            "type": "scatterpolar"
           }
          ],
          "scatterpolargl": [
           {
            "marker": {
             "colorbar": {
              "outlinewidth": 0,
              "ticks": ""
             }
            },
            "type": "scatterpolargl"
           }
          ],
          "scatterternary": [
           {
            "marker": {
             "colorbar": {
              "outlinewidth": 0,
              "ticks": ""
             }
            },
            "type": "scatterternary"
           }
          ],
          "surface": [
           {
            "colorbar": {
             "outlinewidth": 0,
             "ticks": ""
            },
            "colorscale": [
             [
              0,
              "#0d0887"
             ],
             [
              0.1111111111111111,
              "#46039f"
             ],
             [
              0.2222222222222222,
              "#7201a8"
             ],
             [
              0.3333333333333333,
              "#9c179e"
             ],
             [
              0.4444444444444444,
              "#bd3786"
             ],
             [
              0.5555555555555556,
              "#d8576b"
             ],
             [
              0.6666666666666666,
              "#ed7953"
             ],
             [
              0.7777777777777778,
              "#fb9f3a"
             ],
             [
              0.8888888888888888,
              "#fdca26"
             ],
             [
              1,
              "#f0f921"
             ]
            ],
            "type": "surface"
           }
          ],
          "table": [
           {
            "cells": {
             "fill": {
              "color": "#EBF0F8"
             },
             "line": {
              "color": "white"
             }
            },
            "header": {
             "fill": {
              "color": "#C8D4E3"
             },
             "line": {
              "color": "white"
             }
            },
            "type": "table"
           }
          ]
         },
         "layout": {
          "annotationdefaults": {
           "arrowcolor": "#2a3f5f",
           "arrowhead": 0,
           "arrowwidth": 1
          },
          "autotypenumbers": "strict",
          "coloraxis": {
           "colorbar": {
            "outlinewidth": 0,
            "ticks": ""
           }
          },
          "colorscale": {
           "diverging": [
            [
             0,
             "#8e0152"
            ],
            [
             0.1,
             "#c51b7d"
            ],
            [
             0.2,
             "#de77ae"
            ],
            [
             0.3,
             "#f1b6da"
            ],
            [
             0.4,
             "#fde0ef"
            ],
            [
             0.5,
             "#f7f7f7"
            ],
            [
             0.6,
             "#e6f5d0"
            ],
            [
             0.7,
             "#b8e186"
            ],
            [
             0.8,
             "#7fbc41"
            ],
            [
             0.9,
             "#4d9221"
            ],
            [
             1,
             "#276419"
            ]
           ],
           "sequential": [
            [
             0,
             "#0d0887"
            ],
            [
             0.1111111111111111,
             "#46039f"
            ],
            [
             0.2222222222222222,
             "#7201a8"
            ],
            [
             0.3333333333333333,
             "#9c179e"
            ],
            [
             0.4444444444444444,
             "#bd3786"
            ],
            [
             0.5555555555555556,
             "#d8576b"
            ],
            [
             0.6666666666666666,
             "#ed7953"
            ],
            [
             0.7777777777777778,
             "#fb9f3a"
            ],
            [
             0.8888888888888888,
             "#fdca26"
            ],
            [
             1,
             "#f0f921"
            ]
           ],
           "sequentialminus": [
            [
             0,
             "#0d0887"
            ],
            [
             0.1111111111111111,
             "#46039f"
            ],
            [
             0.2222222222222222,
             "#7201a8"
            ],
            [
             0.3333333333333333,
             "#9c179e"
            ],
            [
             0.4444444444444444,
             "#bd3786"
            ],
            [
             0.5555555555555556,
             "#d8576b"
            ],
            [
             0.6666666666666666,
             "#ed7953"
            ],
            [
             0.7777777777777778,
             "#fb9f3a"
            ],
            [
             0.8888888888888888,
             "#fdca26"
            ],
            [
             1,
             "#f0f921"
            ]
           ]
          },
          "colorway": [
           "#636efa",
           "#EF553B",
           "#00cc96",
           "#ab63fa",
           "#FFA15A",
           "#19d3f3",
           "#FF6692",
           "#B6E880",
           "#FF97FF",
           "#FECB52"
          ],
          "font": {
           "color": "#2a3f5f"
          },
          "geo": {
           "bgcolor": "white",
           "lakecolor": "white",
           "landcolor": "#E5ECF6",
           "showlakes": true,
           "showland": true,
           "subunitcolor": "white"
          },
          "hoverlabel": {
           "align": "left"
          },
          "hovermode": "closest",
          "mapbox": {
           "style": "light"
          },
          "paper_bgcolor": "white",
          "plot_bgcolor": "#E5ECF6",
          "polar": {
           "angularaxis": {
            "gridcolor": "white",
            "linecolor": "white",
            "ticks": ""
           },
           "bgcolor": "#E5ECF6",
           "radialaxis": {
            "gridcolor": "white",
            "linecolor": "white",
            "ticks": ""
           }
          },
          "scene": {
           "xaxis": {
            "backgroundcolor": "#E5ECF6",
            "gridcolor": "white",
            "gridwidth": 2,
            "linecolor": "white",
            "showbackground": true,
            "ticks": "",
            "zerolinecolor": "white"
           },
           "yaxis": {
            "backgroundcolor": "#E5ECF6",
            "gridcolor": "white",
            "gridwidth": 2,
            "linecolor": "white",
            "showbackground": true,
            "ticks": "",
            "zerolinecolor": "white"
           },
           "zaxis": {
            "backgroundcolor": "#E5ECF6",
            "gridcolor": "white",
            "gridwidth": 2,
            "linecolor": "white",
            "showbackground": true,
            "ticks": "",
            "zerolinecolor": "white"
           }
          },
          "shapedefaults": {
           "line": {
            "color": "#2a3f5f"
           }
          },
          "ternary": {
           "aaxis": {
            "gridcolor": "white",
            "linecolor": "white",
            "ticks": ""
           },
           "baxis": {
            "gridcolor": "white",
            "linecolor": "white",
            "ticks": ""
           },
           "bgcolor": "#E5ECF6",
           "caxis": {
            "gridcolor": "white",
            "linecolor": "white",
            "ticks": ""
           }
          },
          "title": {
           "x": 0.05
          },
          "xaxis": {
           "automargin": true,
           "gridcolor": "white",
           "linecolor": "white",
           "ticks": "",
           "title": {
            "standoff": 15
           },
           "zerolinecolor": "white",
           "zerolinewidth": 2
          },
          "yaxis": {
           "automargin": true,
           "gridcolor": "white",
           "linecolor": "white",
           "ticks": "",
           "title": {
            "standoff": 15
           },
           "zerolinecolor": "white",
           "zerolinewidth": 2
          }
         }
        },
        "title": {
         "text": "Les mots les plus rencontrés dans les posts sur Instagram"
        },
        "xaxis": {
         "anchor": "y",
         "domain": [
          0,
          1
         ],
         "title": {
          "text": "Récurrences des mots"
         }
        },
        "yaxis": {
         "anchor": "x",
         "domain": [
          0,
          1
         ],
         "title": {
          "text": "Top 20"
         }
        }
       }
      }
     },
     "metadata": {},
     "output_type": "display_data"
    },
    {
     "data": {
      "text/plain": [
       "10"
      ]
     },
     "execution_count": 36,
     "metadata": {},
     "output_type": "execute_result"
    }
   ],
   "source": [
    "import plotly.express as px\n",
    "import seaborn as sns\n",
    "\n",
    "fig = px.bar(y=top20_IG.keys(), x=top20_IG.values(), orientation='h',  height=600)\n",
    "\n",
    "fig.update_traces(marker_color=\"#d4d6d2\")\n",
    "\n",
    "fig.update_layout(\n",
    "    title=\"Les mots les plus rencontrés dans les posts sur Instagram\",\n",
    "    xaxis_title=\"Récurrences des mots\",\n",
    "    yaxis_title=\"Top 20\",)\n",
    "\n",
    "fig.show()\n",
    "len(top10_IG)"
   ]
  },
  {
   "cell_type": "code",
   "execution_count": null,
   "metadata": {},
   "outputs": [],
   "source": [
    "import pandas as pd\n",
    "\n",
    "DF_conf = pd.DataFrame(frequences_des_mots_ordonnés)\n",
    "\n",
    "DF_conf_IG = pd.DataFrame(frequences_des_mots_ordonnés_IG)"
   ]
  },
  {
   "attachments": {},
   "cell_type": "markdown",
   "metadata": {},
   "source": [
    "Ressources pour les commandes utilisées :\n",
    "\n",
    "regex :\n",
    "\n",
    "https://datagy.io/python-remove-punctuation-from-string/"
   ]
  }
 ],
 "metadata": {
  "kernelspec": {
   "display_name": "base",
   "language": "python",
   "name": "python3"
  },
  "language_info": {
   "codemirror_mode": {
    "name": "ipython",
    "version": 3
   },
   "file_extension": ".py",
   "mimetype": "text/x-python",
   "name": "python",
   "nbconvert_exporter": "python",
   "pygments_lexer": "ipython3",
   "version": "3.10.9"
  },
  "orig_nbformat": 4
 },
 "nbformat": 4,
 "nbformat_minor": 2
}
